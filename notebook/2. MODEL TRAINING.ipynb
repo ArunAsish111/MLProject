





<!DOCTYPE html>
<html lang="en" data-color-mode="auto" data-light-theme="light" data-dark-theme="dark"  data-a11y-animated-images="system">
  <head>
    <meta charset="utf-8">
  <link rel="dns-prefetch" href="https://github.githubassets.com">
  <link rel="dns-prefetch" href="https://avatars.githubusercontent.com">
  <link rel="dns-prefetch" href="https://github-cloud.s3.amazonaws.com">
  <link rel="dns-prefetch" href="https://user-images.githubusercontent.com/">
  <link rel="preconnect" href="https://github.githubassets.com" crossorigin>
  <link rel="preconnect" href="https://avatars.githubusercontent.com">

  


  <link crossorigin="anonymous" media="all" rel="stylesheet" href="https://github.githubassets.com/assets/light-8cafbcbd78f4.css" /><link crossorigin="anonymous" media="all" rel="stylesheet" href="https://github.githubassets.com/assets/dark-31dc14e38457.css" /><link data-color-theme="dark_dimmed" crossorigin="anonymous" media="all" rel="stylesheet" data-href="https://github.githubassets.com/assets/dark_dimmed-71414d661fe2.css" /><link data-color-theme="dark_high_contrast" crossorigin="anonymous" media="all" rel="stylesheet" data-href="https://github.githubassets.com/assets/dark_high_contrast-ba96c7f1d660.css" /><link data-color-theme="dark_colorblind" crossorigin="anonymous" media="all" rel="stylesheet" data-href="https://github.githubassets.com/assets/dark_colorblind-7471c22cdb6a.css" /><link data-color-theme="light_colorblind" crossorigin="anonymous" media="all" rel="stylesheet" data-href="https://github.githubassets.com/assets/light_colorblind-80180bed15ed.css" /><link data-color-theme="light_high_contrast" crossorigin="anonymous" media="all" rel="stylesheet" data-href="https://github.githubassets.com/assets/light_high_contrast-e89b9cdecb75.css" /><link data-color-theme="light_tritanopia" crossorigin="anonymous" media="all" rel="stylesheet" data-href="https://github.githubassets.com/assets/light_tritanopia-77f15e9154df.css" /><link data-color-theme="dark_tritanopia" crossorigin="anonymous" media="all" rel="stylesheet" data-href="https://github.githubassets.com/assets/dark_tritanopia-f598f8dd18ae.css" />
  
    <link crossorigin="anonymous" media="all" rel="stylesheet" href="https://github.githubassets.com/assets/primer-primitives-fb1d51d1ef66.css" />
    <link crossorigin="anonymous" media="all" rel="stylesheet" href="https://github.githubassets.com/assets/primer-891c28625adf.css" />
    <link crossorigin="anonymous" media="all" rel="stylesheet" href="https://github.githubassets.com/assets/global-96fc04180b0b.css" />
    <link crossorigin="anonymous" media="all" rel="stylesheet" href="https://github.githubassets.com/assets/github-5303b0225264.css" />
  <link crossorigin="anonymous" media="all" rel="stylesheet" href="https://github.githubassets.com/assets/code-de844c0f0a88.css" />

  

  <script type="application/json" id="client-env">{"locale":"en","featureFlags":["failbot_handle_non_errors","fix_react_title","geojson_azure_maps","image_metric_tracking","turbo_experiment_risky","use_scroll_restoration"]}</script>
<script crossorigin="anonymous" defer="defer" type="application/javascript" src="https://github.githubassets.com/assets/wp-runtime-d3cfabfe4125.js"></script>
<script crossorigin="anonymous" defer="defer" type="application/javascript" src="https://github.githubassets.com/assets/vendors-node_modules_dompurify_dist_purify_js-64d590970fa6.js"></script>
<script crossorigin="anonymous" defer="defer" type="application/javascript" src="https://github.githubassets.com/assets/vendors-node_modules_stacktrace-parser_dist_stack-trace-parser_esm_js-node_modules_github_bro-a4c183-ae93d3fba59c.js"></script>
<script crossorigin="anonymous" defer="defer" type="application/javascript" src="https://github.githubassets.com/assets/ui_packages_soft-nav_soft-nav_ts-db8b037dfa8f.js"></script>
<script crossorigin="anonymous" defer="defer" type="application/javascript" src="https://github.githubassets.com/assets/environment-c2140938ffde.js"></script>
<script crossorigin="anonymous" defer="defer" type="application/javascript" src="https://github.githubassets.com/assets/vendors-node_modules_github_selector-observer_dist_index_esm_js-2646a2c533e3.js"></script>
<script crossorigin="anonymous" defer="defer" type="application/javascript" src="https://github.githubassets.com/assets/vendors-node_modules_primer_behaviors_dist_esm_focus-zone_js-d55308df5023.js"></script>
<script crossorigin="anonymous" defer="defer" type="application/javascript" src="https://github.githubassets.com/assets/vendors-node_modules_github_relative-time-element_dist_index_js-99e288659d4f.js"></script>
<script crossorigin="anonymous" defer="defer" type="application/javascript" src="https://github.githubassets.com/assets/vendors-node_modules_fzy_js_index_js-node_modules_github_markdown-toolbar-element_dist_index_js-d2119e75298d.js"></script>
<script crossorigin="anonymous" defer="defer" type="application/javascript" src="https://github.githubassets.com/assets/vendors-node_modules_delegated-events_dist_index_js-node_modules_github_auto-complete-element-5b3870-9b38c0812424.js"></script>
<script crossorigin="anonymous" defer="defer" type="application/javascript" src="https://github.githubassets.com/assets/vendors-node_modules_github_filter-input-element_dist_index_js-node_modules_github_remote-inp-8873b7-5771678648e0.js"></script>
<script crossorigin="anonymous" defer="defer" type="application/javascript" src="https://github.githubassets.com/assets/vendors-node_modules_github_file-attachment-element_dist_index_js-node_modules_github_text-ex-3415a8-7ecc10fb88d0.js"></script>
<script crossorigin="anonymous" defer="defer" type="application/javascript" src="https://github.githubassets.com/assets/vendors-node_modules_primer_view-components_app_components_primer_primer_js-node_modules_gith-e7a1e2-7364fb705ad5.js"></script>
<script crossorigin="anonymous" defer="defer" type="application/javascript" src="https://github.githubassets.com/assets/github-elements-82e8d1a2fb81.js"></script>
<script crossorigin="anonymous" defer="defer" type="application/javascript" src="https://github.githubassets.com/assets/element-registry-1a082dad72a6.js"></script>
<script crossorigin="anonymous" defer="defer" type="application/javascript" src="https://github.githubassets.com/assets/vendors-node_modules_lit-html_lit-html_js-9d9fe1859ce5.js"></script>
<script crossorigin="anonymous" defer="defer" type="application/javascript" src="https://github.githubassets.com/assets/vendors-node_modules_github_hydro-analytics-client_dist_analytics-client_js-node_modules_gith-f3aee1-fd3c22610e40.js"></script>
<script crossorigin="anonymous" defer="defer" type="application/javascript" src="https://github.githubassets.com/assets/vendors-node_modules_morphdom_dist_morphdom-esm_js-b1fdd7158cf0.js"></script>
<script crossorigin="anonymous" defer="defer" type="application/javascript" src="https://github.githubassets.com/assets/vendors-node_modules_github_mini-throttle_dist_index_js-node_modules_github_alive-client_dist-bf5aa2-424aa982deef.js"></script>
<script crossorigin="anonymous" defer="defer" type="application/javascript" src="https://github.githubassets.com/assets/vendors-node_modules_github_turbo_dist_turbo_es2017-esm_js-1f4793023fcd.js"></script>
<script crossorigin="anonymous" defer="defer" type="application/javascript" src="https://github.githubassets.com/assets/vendors-node_modules_github_remote-form_dist_index_js-node_modules_scroll-anchoring_dist_scro-52dc4b-e1e33bfc0b7e.js"></script>
<script crossorigin="anonymous" defer="defer" type="application/javascript" src="https://github.githubassets.com/assets/vendors-node_modules_color-convert_index_js-35b3ae68c408.js"></script>
<script crossorigin="anonymous" defer="defer" type="application/javascript" src="https://github.githubassets.com/assets/vendors-node_modules_github_paste-markdown_dist_index_esm_js-node_modules_github_quote-select-7a8e2b-f036384374ea.js"></script>
<script crossorigin="anonymous" defer="defer" type="application/javascript" src="https://github.githubassets.com/assets/ui_packages_alive_alive_ts-e336ff3cd9ef.js"></script>
<script crossorigin="anonymous" defer="defer" type="application/javascript" src="https://github.githubassets.com/assets/app_assets_modules_github_updatable-content_ts-ui_packages_hydro-analytics_hydro-analytics_ts-0c1db02caf86.js"></script>
<script crossorigin="anonymous" defer="defer" type="application/javascript" src="https://github.githubassets.com/assets/app_assets_modules_github_behaviors_task-list_ts-app_assets_modules_github_onfocus_ts-app_ass-079b43-c46fa3ecf26e.js"></script>
<script crossorigin="anonymous" defer="defer" type="application/javascript" src="https://github.githubassets.com/assets/app_assets_modules_github_sticky-scroll-into-view_ts-050ad6637d58.js"></script>
<script crossorigin="anonymous" defer="defer" type="application/javascript" src="https://github.githubassets.com/assets/app_assets_modules_github_behaviors_ajax-error_ts-app_assets_modules_github_behaviors_include-2e2258-b84eab1b8924.js"></script>
<script crossorigin="anonymous" defer="defer" type="application/javascript" src="https://github.githubassets.com/assets/app_assets_modules_github_behaviors_commenting_edit_ts-app_assets_modules_github_behaviors_ht-83c235-f22ac6b94445.js"></script>
<script crossorigin="anonymous" defer="defer" type="application/javascript" src="https://github.githubassets.com/assets/app_assets_modules_github_blob-anchor_ts-app_assets_modules_github_filter-sort_ts-app_assets_-c96432-3460172f1b1f.js"></script>
<script crossorigin="anonymous" defer="defer" type="application/javascript" src="https://github.githubassets.com/assets/behaviors-3f72af8c54b8.js"></script>
<script crossorigin="anonymous" defer="defer" type="application/javascript" src="https://github.githubassets.com/assets/vendors-node_modules_delegated-events_dist_index_js-node_modules_github_catalyst_lib_index_js-06ff531-fe0b8ccc90a5.js"></script>
<script crossorigin="anonymous" defer="defer" type="application/javascript" src="https://github.githubassets.com/assets/notifications-global-f57687007bfc.js"></script>
<script crossorigin="anonymous" defer="defer" type="application/javascript" src="https://github.githubassets.com/assets/code-menu-edcbb51ff424.js"></script>
  
  <script crossorigin="anonymous" defer="defer" type="application/javascript" src="https://github.githubassets.com/assets/react-lib-210c4b5934c3.js"></script>
<script crossorigin="anonymous" defer="defer" type="application/javascript" src="https://github.githubassets.com/assets/vendors-node_modules_primer_octicons-react_dist_index_esm_js-node_modules_primer_react_lib-es-ca6dae-d46efbc5f6db.js"></script>
<script crossorigin="anonymous" defer="defer" type="application/javascript" src="https://github.githubassets.com/assets/vendors-node_modules_primer_react_lib-esm_Button_index_js-node_modules_primer_react_lib-esm_L-41b0e5-0a98d095bd7f.js"></script>
<script crossorigin="anonymous" defer="defer" type="application/javascript" src="https://github.githubassets.com/assets/vendors-node_modules_primer_react_lib-esm_ActionList_index_js-8a7745ac8362.js"></script>
<script crossorigin="anonymous" defer="defer" type="application/javascript" src="https://github.githubassets.com/assets/vendors-node_modules_primer_react_lib-esm_Overlay_Overlay_js-node_modules_primer_react_lib-es-c25505-7256d09cc6de.js"></script>
<script crossorigin="anonymous" defer="defer" type="application/javascript" src="https://github.githubassets.com/assets/vendors-node_modules_primer_react_lib-esm_TextInput_TextInput_js-bda16ad5f5c0.js"></script>
<script crossorigin="anonymous" defer="defer" type="application/javascript" src="https://github.githubassets.com/assets/vendors-node_modules_primer_react_lib-esm_ActionMenu_js-fb2356b308cf.js"></script>
<script crossorigin="anonymous" defer="defer" type="application/javascript" src="https://github.githubassets.com/assets/vendors-node_modules_primer_behaviors_dist_esm_scroll-into-view_js-node_modules_primer_react_-04bb1b-f1078ffd63d6.js"></script>
<script crossorigin="anonymous" defer="defer" type="application/javascript" src="https://github.githubassets.com/assets/vendors-node_modules_primer_react_lib-esm_FormControl_FormControl_js-3ec7b5d8c7d7.js"></script>
<script crossorigin="anonymous" defer="defer" type="application/javascript" src="https://github.githubassets.com/assets/vendors-node_modules_primer_react_lib-esm_Heading_Heading_js-node_modules_primer_react_lib-es-20c766-3952b4d6d547.js"></script>
<script crossorigin="anonymous" defer="defer" type="application/javascript" src="https://github.githubassets.com/assets/vendors-node_modules_primer_react_lib-esm_Avatar_Avatar_js-node_modules_primer_react_lib-esm_-9829a5-7122e2fd110e.js"></script>
<script crossorigin="anonymous" defer="defer" type="application/javascript" src="https://github.githubassets.com/assets/vendors-node_modules_primer_react_lib-esm_Dialog_js-node_modules_primer_react_lib-esm_TabNav_-8321f5-f6c3aa4bc5a3.js"></script>
<script crossorigin="anonymous" defer="defer" type="application/javascript" src="https://github.githubassets.com/assets/vendors-node_modules_primer_react_lib-esm_TreeView_TreeView_js-2d5a3fb3b8ec.js"></script>
<script crossorigin="anonymous" defer="defer" type="application/javascript" src="https://github.githubassets.com/assets/vendors-node_modules_primer_react_lib-esm_BranchName_BranchName_js-node_modules_primer_react_-10625c-f25ee171269a.js"></script>
<script crossorigin="anonymous" defer="defer" type="application/javascript" src="https://github.githubassets.com/assets/vendors-node_modules_primer_react_lib-esm_NavList_NavList_js-node_modules_primer_react_lib-es-ff3f14-9a81ecfa3742.js"></script>
<script crossorigin="anonymous" defer="defer" type="application/javascript" src="https://github.githubassets.com/assets/vendors-node_modules_primer_react_lib-esm_AvatarStack_AvatarStack_js-node_modules_primer_reac-0b4173-d8ba3894d9e9.js"></script>
<script crossorigin="anonymous" defer="defer" type="application/javascript" src="https://github.githubassets.com/assets/vendors-node_modules_primer_react_lib-esm_CircleOcticon_CircleOcticon_js-node_modules_primer_-89c908-006e42c75ace.js"></script>
<script crossorigin="anonymous" defer="defer" type="application/javascript" src="https://github.githubassets.com/assets/ui_packages_react-core_deferred-registry_ts-ui_packages_react-core_AppContextProvider_tsx-ui_-36d03f-d435763809b0.js"></script>
<script crossorigin="anonymous" defer="defer" type="application/javascript" src="https://github.githubassets.com/assets/ui_packages_react-core_Entry_tsx-77c67762502f.js"></script>
<script crossorigin="anonymous" defer="defer" type="application/javascript" src="https://github.githubassets.com/assets/ui_packages_ref-selector_RefSelector_tsx-ui_packages_safe-html_SafeHTML_tsx-7dfa6ddcd2e6.js"></script>
<script crossorigin="anonymous" defer="defer" type="application/javascript" src="https://github.githubassets.com/assets/app_assets_modules_blackbird-monolith_utilities_append-and-focus-search-bar_ts-app_assets_mod-a1e934-e460e590d94f.js"></script>
<script crossorigin="anonymous" defer="defer" type="application/javascript" src="https://github.githubassets.com/assets/app_assets_modules_react-code-view_pages_CodeView_tsx-055180d02c93.js"></script>
<script crossorigin="anonymous" defer="defer" type="application/javascript" src="https://github.githubassets.com/assets/react-code-view-b4d092954365.js"></script>


  <title>mlproject/notebook/2. MODEL TRAINING.ipynb at main · krishnaik06/mlproject</title>



  <meta name="route-pattern" content="/:user_id/:repository/blob/*name(/*path)">

    
  <meta name="current-catalog-service-hash" content="82c569b93da5c18ed649ebd4c2c79437db4611a6a1373e805a3cb001c64130b7">


  <meta name="request-id" content="E4CD:17426A:B09188:C23B5D:64C0031D" data-turbo-transient="true" /><meta name="html-safe-nonce" content="e120652750950cc973eb12af57279cf21384731b24410a86b68be7d61b95d745" data-turbo-transient="true" /><meta name="visitor-payload" content="eyJyZWZlcnJlciI6Imh0dHBzOi8vZ2l0aHViLmNvbS9rcmlzaG5haWswNi9tbHByb2plY3QvdHJlZS9tYWluL25vdGVib29rIiwicmVxdWVzdF9pZCI6IkU0Q0Q6MTc0MjZBOkIwOTE4ODpDMjNCNUQ6NjRDMDAzMUQiLCJ2aXNpdG9yX2lkIjoiNDEwMDkxOTU1MzUwMTc2MjAiLCJyZWdpb25fZWRnZSI6ImNlbnRyYWxpbmRpYSIsInJlZ2lvbl9yZW5kZXIiOiJpYWQifQ==" data-turbo-transient="true" /><meta name="visitor-hmac" content="807c492f622591b3352175ab912b44625fd89640ef09903c4a99629ae6de4b3a" data-turbo-transient="true" />


    <meta name="hovercard-subject-tag" content="repository:609735115" data-turbo-transient>


  <meta name="github-keyboard-shortcuts" content="repository,source-code,file-tree" data-turbo-transient="true" />
  

  <meta name="selected-link" value="repo_source" data-turbo-transient>
  <link rel="assets" href="https://github.githubassets.com/">

    <meta name="google-site-verification" content="c1kuD-K2HIVF635lypcsWPoD4kilo5-jA_wBFyT4uMY">
  <meta name="google-site-verification" content="KT5gs8h0wvaagLKAVWq8bbeNwnZZK1r1XQysX3xurLU">
  <meta name="google-site-verification" content="ZzhVyEFwb7w3e0-uOTltm8Jsck2F5StVihD0exw2fsA">
  <meta name="google-site-verification" content="GXs5KoUUkNCoaAZn7wPN-t01Pywp9M3sEjnt_3_ZWPc">
  <meta name="google-site-verification" content="Apib7-x98H0j5cPqHWwSMm6dNU4GmODRoqxLiDzdx9I">

<meta name="octolytics-url" content="https://collector.github.com/github/collect" /><meta name="octolytics-actor-id" content="114228270" /><meta name="octolytics-actor-login" content="ArunAsish111" /><meta name="octolytics-actor-hash" content="a822f00f25080fe61df88c9a81a3031120fabccb7acddd5ca373c883b9196b99" />

  <meta name="analytics-location" content="/&lt;user-name&gt;/&lt;repo-name&gt;/blob/show" data-turbo-transient="true" />

  




  

    <meta name="user-login" content="ArunAsish111">

  <link rel="sudo-modal" href="/sessions/sudo_modal">

    <meta name="viewport" content="width=device-width">
    
      <meta name="description" content="Contribute to krishnaik06/mlproject development by creating an account on GitHub.">
      <link rel="search" type="application/opensearchdescription+xml" href="/opensearch.xml" title="GitHub">
    <link rel="fluid-icon" href="https://github.com/fluidicon.png" title="GitHub">
    <meta property="fb:app_id" content="1401488693436528">
    <meta name="apple-itunes-app" content="app-id=1477376905, app-argument=https://github.com/krishnaik06/mlproject/blob/main/notebook/2.%20MODEL%20TRAINING.ipynb" />
      <meta name="twitter:image:src" content="https://opengraph.githubassets.com/d31fdabc1888989390a62d9f4fb59f6bbeef4ef6634578552976841ee74926c6/krishnaik06/mlproject" /><meta name="twitter:site" content="@github" /><meta name="twitter:card" content="summary_large_image" /><meta name="twitter:title" content="mlproject/notebook/2. MODEL TRAINING.ipynb at main · krishnaik06/mlproject" /><meta name="twitter:description" content="Contribute to krishnaik06/mlproject development by creating an account on GitHub." />
      <meta property="og:image" content="https://opengraph.githubassets.com/d31fdabc1888989390a62d9f4fb59f6bbeef4ef6634578552976841ee74926c6/krishnaik06/mlproject" /><meta property="og:image:alt" content="Contribute to krishnaik06/mlproject development by creating an account on GitHub." /><meta property="og:image:width" content="1200" /><meta property="og:image:height" content="600" /><meta property="og:site_name" content="GitHub" /><meta property="og:type" content="object" /><meta property="og:title" content="mlproject/notebook/2. MODEL TRAINING.ipynb at main · krishnaik06/mlproject" /><meta property="og:url" content="https://github.com/krishnaik06/mlproject/blob/main/notebook/2.%20MODEL%20TRAINING.ipynb" /><meta property="og:description" content="Contribute to krishnaik06/mlproject development by creating an account on GitHub." />
      

      <link rel="shared-web-socket" href="wss://alive.github.com/_sockets/u/114228270/ws?session=eyJ2IjoiVjMiLCJ1IjoxMTQyMjgyNzAsInMiOjExNTM3NTUxMzksImMiOjM3NjYwMjE3NDIsInQiOjE2OTAzMDUzMTh9--5090d1557e6b2c5446e394cc2bdbd0691535683f3ae8c7c941390293d68a9347" data-refresh-url="/_alive" data-session-id="32ad5043dc452faafb97f0a6c3d22dc83c76d636823cc67017f45b10b3c54d04">
      <link rel="shared-web-socket-src" href="/assets-cdn/worker/socket-worker-71e98f781d79.js">


        <meta name="hostname" content="github.com">


      <meta name="keyboard-shortcuts-preference" content="all">

        <meta name="expected-hostname" content="github.com">

    <meta name="enabled-features" content="FAILBOT_HANDLE_NON_ERRORS,FIX_REACT_TITLE,GEOJSON_AZURE_MAPS,IMAGE_METRIC_TRACKING,TURBO_EXPERIMENT_RISKY,USE_SCROLL_RESTORATION">


  <meta http-equiv="x-pjax-version" content="084c7814fd36d02f547b857415f4d4eedb021511f2dbdefc9bedef4a00d1287e" data-turbo-track="reload">
  <meta http-equiv="x-pjax-csp-version" content="d3902c74d83b7cc902d874cc2c861737295a49b0ba4e36eb0f764d362d1fd091" data-turbo-track="reload">
  <meta http-equiv="x-pjax-css-version" content="604027085cf19cb0a1b3ead09048ba1222fe7034409c5fad7a24bbe3455110b8" data-turbo-track="reload">
  <meta http-equiv="x-pjax-js-version" content="0e04b51a5af3b89372e989130ed74665e453720e7dcad5bbf7253de2b80de707" data-turbo-track="reload">

  <meta name="turbo-cache-control" content="no-preview" data-turbo-transient="">

      <meta name="turbo-cache-control" content="no-cache" data-turbo-transient>
    <meta data-hydrostats="publish">

  <meta name="go-import" content="github.com/krishnaik06/mlproject git https://github.com/krishnaik06/mlproject.git">

  <meta name="octolytics-dimension-user_id" content="20041231" /><meta name="octolytics-dimension-user_login" content="krishnaik06" /><meta name="octolytics-dimension-repository_id" content="609735115" /><meta name="octolytics-dimension-repository_nwo" content="krishnaik06/mlproject" /><meta name="octolytics-dimension-repository_public" content="true" /><meta name="octolytics-dimension-repository_is_fork" content="false" /><meta name="octolytics-dimension-repository_network_root_id" content="609735115" /><meta name="octolytics-dimension-repository_network_root_nwo" content="krishnaik06/mlproject" />



  <meta name="turbo-body-classes" content="logged-in env-production page-responsive">


  <meta name="browser-stats-url" content="https://api.github.com/_private/browser/stats">

  <meta name="browser-errors-url" content="https://api.github.com/_private/browser/errors">

  <meta name="browser-optimizely-client-errors-url" content="https://api.github.com/_private/browser/optimizely_client/errors">

  <link rel="mask-icon" href="https://github.githubassets.com/pinned-octocat.svg" color="#000000">
  <link rel="alternate icon" class="js-site-favicon" type="image/png" href="https://github.githubassets.com/favicons/favicon.png">
  <link rel="icon" class="js-site-favicon" type="image/svg+xml" href="https://github.githubassets.com/favicons/favicon.svg">

<meta name="theme-color" content="#1e2327">
<meta name="color-scheme" content="light dark" />


  <link rel="manifest" href="/manifest.json" crossOrigin="use-credentials">

  </head>

  <body class="logged-in env-production page-responsive" style="word-wrap: break-word;">
    <div data-turbo-body class="logged-in env-production page-responsive" style="word-wrap: break-word;">
      


    <div class="position-relative js-header-wrapper ">
      <a href="#start-of-content" class="p-3 color-bg-accent-emphasis color-fg-on-emphasis show-on-focus js-skip-to-content">Skip to content</a>
      <span data-view-component="true" class="progress-pjax-loader Progress position-fixed width-full">
    <span style="width: 0%;" data-view-component="true" class="Progress-item progress-pjax-loader-bar left-0 top-0 color-bg-accent-emphasis"></span>
</span>      
      


      

        <script crossorigin="anonymous" defer="defer" type="application/javascript" src="https://github.githubassets.com/assets/vendors-node_modules_allex_crc32_lib_crc32_esm_js-node_modules_github_clipboard-copy-element_-2da1d5-ca2e742c29fb.js"></script>
<script crossorigin="anonymous" defer="defer" type="application/javascript" src="https://github.githubassets.com/assets/app_assets_modules_github_command-palette_items_help-item_ts-app_assets_modules_github_comman-48ad9d-8ba961365e27.js"></script>
<script crossorigin="anonymous" defer="defer" type="application/javascript" src="https://github.githubassets.com/assets/command-palette-afa8aec97e66.js"></script>

            <header class="AppHeader">
    <div class="AppHeader-globalBar pb-2 js-global-bar">
      <div class="AppHeader-globalBar-start">
          <deferred-side-panel data-url="/_side-panels/global">
  <include-fragment data-target="deferred-side-panel.fragment">
      
  <button aria-label="Open global navigation menu" data-action="click:deferred-side-panel#loadPanel click:deferred-side-panel#panelOpened" data-show-dialog-id="dialog-99b8d3ef-12f4-41f5-ba08-e1e79cee553d" id="dialog-show-dialog-99b8d3ef-12f4-41f5-ba08-e1e79cee553d" type="button" data-view-component="true" class="Button Button--iconOnly Button--secondary Button--medium AppHeader-button color-bg-transparent p-0 color-fg-muted">    <svg aria-hidden="true" height="16" viewBox="0 0 16 16" version="1.1" width="16" data-view-component="true" class="octicon octicon-three-bars Button-visual">
    <path d="M1 2.75A.75.75 0 0 1 1.75 2h12.5a.75.75 0 0 1 0 1.5H1.75A.75.75 0 0 1 1 2.75Zm0 5A.75.75 0 0 1 1.75 7h12.5a.75.75 0 0 1 0 1.5H1.75A.75.75 0 0 1 1 7.75ZM1.75 12h12.5a.75.75 0 0 1 0 1.5H1.75a.75.75 0 0 1 0-1.5Z"></path>
</svg>
</button>  

<div class="Overlay--hidden Overlay-backdrop--side Overlay-backdrop--placement-left" data-modal-dialog-overlay>
  <modal-dialog data-target="deferred-side-panel.panel" role="dialog" id="dialog-99b8d3ef-12f4-41f5-ba08-e1e79cee553d" aria-modal="true" aria-disabled="true" aria-describedby="dialog-99b8d3ef-12f4-41f5-ba08-e1e79cee553d-title dialog-99b8d3ef-12f4-41f5-ba08-e1e79cee553d-description" data-view-component="true" class="Overlay Overlay-whenNarrow Overlay--size-small-portrait Overlay--motion-scaleFade SidePanel">
    <div styles="flex-direction: row;" data-view-component="true" class="Overlay-header">
  <div class="Overlay-headerContentWrap">
    <div class="Overlay-titleWrap">
      <h1 class="Overlay-title sr-only" id="dialog-99b8d3ef-12f4-41f5-ba08-e1e79cee553d-title">
        Global navigation
      </h1>
            <div data-view-component="true" class="d-flex">
      <div data-view-component="true" class="AppHeader-logo position-relative">
        <svg aria-hidden="true" height="24" viewBox="0 0 16 16" version="1.1" width="24" data-view-component="true" class="octicon octicon-mark-github">
    <path d="M8 0c4.42 0 8 3.58 8 8a8.013 8.013 0 0 1-5.45 7.59c-.4.08-.55-.17-.55-.38 0-.27.01-1.13.01-2.2 0-.75-.25-1.23-.54-1.48 1.78-.2 3.65-.88 3.65-3.95 0-.88-.31-1.59-.82-2.15.08-.2.36-1.02-.08-2.12 0 0-.67-.22-2.2.82-.64-.18-1.32-.27-2-.27-.68 0-1.36.09-2 .27-1.53-1.03-2.2-.82-2.2-.82-.44 1.1-.16 1.92-.08 2.12-.51.56-.82 1.28-.82 2.15 0 3.06 1.86 3.75 3.64 3.95-.23.2-.44.55-.51 1.07-.46.21-1.61.55-2.33-.66-.15-.24-.6-.83-1.23-.82-.67.01-.27.38.01.53.34.19.73.9.82 1.13.16.45.68 1.31 2.69.94 0 .67.01 1.3.01 1.49 0 .21-.15.45-.55.38A7.995 7.995 0 0 1 0 8c0-4.42 3.58-8 8-8Z"></path>
</svg>
</div></div>
    </div>
    <div class="Overlay-actionWrap">
      <button data-close-dialog-id="dialog-99b8d3ef-12f4-41f5-ba08-e1e79cee553d" aria-label="Close" type="button" data-view-component="true" class="close-button Overlay-closeButton"><svg aria-hidden="true" height="16" viewBox="0 0 16 16" version="1.1" width="16" data-view-component="true" class="octicon octicon-x">
    <path d="M3.72 3.72a.75.75 0 0 1 1.06 0L8 6.94l3.22-3.22a.749.749 0 0 1 1.275.326.749.749 0 0 1-.215.734L9.06 8l3.22 3.22a.749.749 0 0 1-.326 1.275.749.749 0 0 1-.734-.215L8 9.06l-3.22 3.22a.751.751 0 0 1-1.042-.018.751.751 0 0 1-.018-1.042L6.94 8 3.72 4.78a.75.75 0 0 1 0-1.06Z"></path>
</svg></button>
    </div>
  </div>
</div>
      <div data-view-component="true" class="Overlay-body d-flex flex-column height-full px-2">      <nav aria-label="Site navigation" data-view-component="true" class="ActionList">
  
  <nav-list>
    <ul data-view-component="true" class="ActionListWrap">
        
          
<li item_id="general" data-item-id="" data-targets="nav-list.items" data-view-component="true" class="ActionListItem">
    
    <a data-hotkey="g d" hydro-click="{&quot;event_type&quot;:&quot;global_header.user_menu_dropdown.click&quot;,&quot;payload&quot;:{&quot;request_url&quot;:&quot;https://github.com/krishnaik06/mlproject/blob/main/notebook/2.%20MODEL%20TRAINING.ipynb&quot;,&quot;target&quot;:&quot;HOME&quot;,&quot;originating_url&quot;:&quot;https://github.com/krishnaik06/mlproject/blob/main/notebook/2.%20MODEL%20TRAINING.ipynb&quot;,&quot;user_id&quot;:114228270}}" hydro-click-hmac="e65266b44e66ac41909f8749a2a7c110ff0eb3762478596a58fc97c579cff8c3" id="item-8c230e91-88a0-48d9-b4f9-d60b9bd86ebb" href="/dashboard" data-view-component="true" class="ActionListContent ActionListContent--visual16">
        <span class="ActionListItem-visual ActionListItem-visual--leading">
          <svg aria-hidden="true" height="16" viewBox="0 0 16 16" version="1.1" width="16" data-view-component="true" class="octicon octicon-home">
    <path d="M6.906.664a1.749 1.749 0 0 1 2.187 0l5.25 4.2c.415.332.657.835.657 1.367v7.019A1.75 1.75 0 0 1 13.25 15h-3.5a.75.75 0 0 1-.75-.75V9H7v5.25a.75.75 0 0 1-.75.75h-3.5A1.75 1.75 0 0 1 1 13.25V6.23c0-.531.242-1.034.657-1.366l5.25-4.2Zm1.25 1.171a.25.25 0 0 0-.312 0l-5.25 4.2a.25.25 0 0 0-.094.196v7.019c0 .138.112.25.25.25H5.5V8.25a.75.75 0 0 1 .75-.75h3.5a.75.75 0 0 1 .75.75v5.25h2.75a.25.25 0 0 0 .25-.25V6.23a.25.25 0 0 0-.094-.195Z"></path>
</svg>
        </span>
      
        <span data-view-component="true" class="ActionListItem-label">
          Home
</span></a>
  
  
</li>

        
          
<li item_id="personal_info" data-item-id="" data-targets="nav-list.items" data-view-component="true" class="ActionListItem">
    
    <a data-hotkey="g i" hydro-click="{&quot;event_type&quot;:&quot;global_header.user_menu_dropdown.click&quot;,&quot;payload&quot;:{&quot;request_url&quot;:&quot;https://github.com/krishnaik06/mlproject/blob/main/notebook/2.%20MODEL%20TRAINING.ipynb&quot;,&quot;target&quot;:&quot;ISSUES&quot;,&quot;originating_url&quot;:&quot;https://github.com/krishnaik06/mlproject/blob/main/notebook/2.%20MODEL%20TRAINING.ipynb&quot;,&quot;user_id&quot;:114228270}}" hydro-click-hmac="8bf33411917873919c26d08881a0ba848bae76b28abcee3fa8ac733c29bb01e4" id="item-9fe9fe23-733f-4151-a2f6-e3e5b9d87050" href="/issues" data-view-component="true" class="ActionListContent ActionListContent--visual16">
        <span class="ActionListItem-visual ActionListItem-visual--leading">
          <svg aria-hidden="true" height="16" viewBox="0 0 16 16" version="1.1" width="16" data-view-component="true" class="octicon octicon-issue-opened">
    <path d="M8 9.5a1.5 1.5 0 1 0 0-3 1.5 1.5 0 0 0 0 3Z"></path><path d="M8 0a8 8 0 1 1 0 16A8 8 0 0 1 8 0ZM1.5 8a6.5 6.5 0 1 0 13 0 6.5 6.5 0 0 0-13 0Z"></path>
</svg>
        </span>
      
        <span data-view-component="true" class="ActionListItem-label">
          Issues
</span></a>
  
  
</li>

        
          
<li item_id="password" data-item-id="" data-targets="nav-list.items" data-view-component="true" class="ActionListItem">
    
    <a data-hotkey="g p" hydro-click="{&quot;event_type&quot;:&quot;global_header.user_menu_dropdown.click&quot;,&quot;payload&quot;:{&quot;request_url&quot;:&quot;https://github.com/krishnaik06/mlproject/blob/main/notebook/2.%20MODEL%20TRAINING.ipynb&quot;,&quot;target&quot;:&quot;PULL_REQUESTS&quot;,&quot;originating_url&quot;:&quot;https://github.com/krishnaik06/mlproject/blob/main/notebook/2.%20MODEL%20TRAINING.ipynb&quot;,&quot;user_id&quot;:114228270}}" hydro-click-hmac="b3b3d693e9fd1d51636e999aac1887ca0529a9e06bc50a83344a5bf8171f8f56" id="item-fed9f75f-a563-4a86-b78b-d7160e3ebf57" href="/pulls" data-view-component="true" class="ActionListContent ActionListContent--visual16">
        <span class="ActionListItem-visual ActionListItem-visual--leading">
          <svg aria-hidden="true" height="16" viewBox="0 0 16 16" version="1.1" width="16" data-view-component="true" class="octicon octicon-git-pull-request">
    <path d="M1.5 3.25a2.25 2.25 0 1 1 3 2.122v5.256a2.251 2.251 0 1 1-1.5 0V5.372A2.25 2.25 0 0 1 1.5 3.25Zm5.677-.177L9.573.677A.25.25 0 0 1 10 .854V2.5h1A2.5 2.5 0 0 1 13.5 5v5.628a2.251 2.251 0 1 1-1.5 0V5a1 1 0 0 0-1-1h-1v1.646a.25.25 0 0 1-.427.177L7.177 3.427a.25.25 0 0 1 0-.354ZM3.75 2.5a.75.75 0 1 0 0 1.5.75.75 0 0 0 0-1.5Zm0 9.5a.75.75 0 1 0 0 1.5.75.75 0 0 0 0-1.5Zm8.25.75a.75.75 0 1 0 1.5 0 .75.75 0 0 0-1.5 0Z"></path>
</svg>
        </span>
      
        <span data-view-component="true" class="ActionListItem-label">
          Pull requests
</span></a>
  
  
</li>

        
          
<li item_id="billing" data-item-id="" data-targets="nav-list.items" data-view-component="true" class="ActionListItem">
    
    <a hydro-click="{&quot;event_type&quot;:&quot;global_header.user_menu_dropdown.click&quot;,&quot;payload&quot;:{&quot;request_url&quot;:&quot;https://github.com/krishnaik06/mlproject/blob/main/notebook/2.%20MODEL%20TRAINING.ipynb&quot;,&quot;target&quot;:&quot;DISCUSSIONS&quot;,&quot;originating_url&quot;:&quot;https://github.com/krishnaik06/mlproject/blob/main/notebook/2.%20MODEL%20TRAINING.ipynb&quot;,&quot;user_id&quot;:114228270}}" hydro-click-hmac="4b535a762d28ea785c93dcbb36462ec27f8f7f6c4bc890c34e36cbd78fadbc48" id="item-176570d4-403e-481d-a878-cd6d07ea40b6" href="/discussions" data-view-component="true" class="ActionListContent ActionListContent--visual16">
        <span class="ActionListItem-visual ActionListItem-visual--leading">
          <svg aria-hidden="true" height="16" viewBox="0 0 16 16" version="1.1" width="16" data-view-component="true" class="octicon octicon-comment-discussion">
    <path d="M1.75 1h8.5c.966 0 1.75.784 1.75 1.75v5.5A1.75 1.75 0 0 1 10.25 10H7.061l-2.574 2.573A1.458 1.458 0 0 1 2 11.543V10h-.25A1.75 1.75 0 0 1 0 8.25v-5.5C0 1.784.784 1 1.75 1ZM1.5 2.75v5.5c0 .138.112.25.25.25h1a.75.75 0 0 1 .75.75v2.19l2.72-2.72a.749.749 0 0 1 .53-.22h3.5a.25.25 0 0 0 .25-.25v-5.5a.25.25 0 0 0-.25-.25h-8.5a.25.25 0 0 0-.25.25Zm13 2a.25.25 0 0 0-.25-.25h-.5a.75.75 0 0 1 0-1.5h.5c.966 0 1.75.784 1.75 1.75v5.5A1.75 1.75 0 0 1 14.25 12H14v1.543a1.458 1.458 0 0 1-2.487 1.03L9.22 12.28a.749.749 0 0 1 .326-1.275.749.749 0 0 1 .734.215l2.22 2.22v-2.19a.75.75 0 0 1 .75-.75h1a.25.25 0 0 0 .25-.25Z"></path>
</svg>
        </span>
      
        <span data-view-component="true" class="ActionListItem-label">
          Discussions
</span></a>
  
  
</li>

</ul>  </nav-list>
</nav>

      <div data-view-component="true" class="my-3 d-flex flex-justify-center height-full">
        <svg style="box-sizing: content-box; color: var(--color-icon-primary);" width="16" height="16" viewBox="0 0 16 16" fill="none" data-view-component="true" class="anim-rotate">
  <circle cx="8" cy="8" r="7" stroke="currentColor" stroke-opacity="0.25" stroke-width="2" vector-effect="non-scaling-stroke" />
  <path d="M15 8a7.002 7.002 0 00-7-7" stroke="currentColor" stroke-width="2" stroke-linecap="round" vector-effect="non-scaling-stroke" />
</svg>
</div>
</div>
      <div data-view-component="true" class="Overlay-footer Overlay-footer--alignEnd d-block pt-0">      <li role="presentation" aria-hidden="true" data-view-component="true" class="ActionList-sectionDivider mt-0 mb-1"></li>

        <nav aria-label="Additional navigation" data-view-component="true" class="ActionList px-0 flex-1">
  
  <nav-list>
    <ul data-view-component="true" class="ActionListWrap">
        
          
<li item_id="general" data-item-id="" data-targets="nav-list.items" data-view-component="true" class="ActionListItem">
    
    <a hydro-click="{&quot;event_type&quot;:&quot;global_header.user_menu_dropdown.click&quot;,&quot;payload&quot;:{&quot;request_url&quot;:&quot;https://github.com/krishnaik06/mlproject/blob/main/notebook/2.%20MODEL%20TRAINING.ipynb&quot;,&quot;target&quot;:&quot;EXPLORE&quot;,&quot;originating_url&quot;:&quot;https://github.com/krishnaik06/mlproject/blob/main/notebook/2.%20MODEL%20TRAINING.ipynb&quot;,&quot;user_id&quot;:114228270}}" hydro-click-hmac="20d9340e9ffa61dc75ff06bc824967ec461972f2a1ed06807e254d712f640e4a" id="item-3c37be24-ff51-4b19-8b8f-8419a0690bbe" href="/explore" data-view-component="true" class="ActionListContent ActionListContent--visual16">
        <span class="ActionListItem-visual ActionListItem-visual--leading">
          <svg aria-hidden="true" height="16" viewBox="0 0 16 16" version="1.1" width="16" data-view-component="true" class="octicon octicon-telescope">
    <path d="M14.184 1.143v-.001l1.422 2.464a1.75 1.75 0 0 1-.757 2.451L3.104 11.713a1.75 1.75 0 0 1-2.275-.702l-.447-.775a1.75 1.75 0 0 1 .53-2.32L11.682.573a1.748 1.748 0 0 1 2.502.57Zm-4.709 9.32h-.001l2.644 3.863a.75.75 0 1 1-1.238.848l-1.881-2.75v2.826a.75.75 0 0 1-1.5 0v-2.826l-1.881 2.75a.75.75 0 1 1-1.238-.848l2.049-2.992a.746.746 0 0 1 .293-.253l1.809-.87a.749.749 0 0 1 .944.252ZM9.436 3.92h-.001l-4.97 3.39.942 1.63 5.42-2.61Zm3.091-2.108h.001l-1.85 1.26 1.505 2.605 2.016-.97a.247.247 0 0 0 .13-.151.247.247 0 0 0-.022-.199l-1.422-2.464a.253.253 0 0 0-.161-.119.254.254 0 0 0-.197.038ZM1.756 9.157a.25.25 0 0 0-.075.33l.447.775a.25.25 0 0 0 .325.1l1.598-.769-.83-1.436-1.465 1Z"></path>
</svg>
        </span>
      
        <span data-view-component="true" class="ActionListItem-label">
          Explore
</span></a>
  
  
</li>

        
          
<li item_id="general" data-item-id="" data-targets="nav-list.items" data-view-component="true" class="ActionListItem">
    
    <a hydro-click="{&quot;event_type&quot;:&quot;global_header.user_menu_dropdown.click&quot;,&quot;payload&quot;:{&quot;request_url&quot;:&quot;https://github.com/krishnaik06/mlproject/blob/main/notebook/2.%20MODEL%20TRAINING.ipynb&quot;,&quot;target&quot;:&quot;MARKETPLACE&quot;,&quot;originating_url&quot;:&quot;https://github.com/krishnaik06/mlproject/blob/main/notebook/2.%20MODEL%20TRAINING.ipynb&quot;,&quot;user_id&quot;:114228270}}" hydro-click-hmac="463b6b4e53d55b50a8f6b4bfce8c95ef6d222822d04ea6f6adc2a319b9803ec8" id="item-fdb01fe2-4a89-44e9-adff-c3de51bb5d7d" href="/marketplace" data-view-component="true" class="ActionListContent ActionListContent--visual16">
        <span class="ActionListItem-visual ActionListItem-visual--leading">
          <svg aria-hidden="true" height="16" viewBox="0 0 16 16" version="1.1" width="16" data-view-component="true" class="octicon octicon-gift">
    <path d="M2 2.75A2.75 2.75 0 0 1 4.75 0c.983 0 1.873.42 2.57 1.232.268.318.497.668.68 1.042.183-.375.411-.725.68-1.044C9.376.42 10.266 0 11.25 0a2.75 2.75 0 0 1 2.45 4h.55c.966 0 1.75.784 1.75 1.75v2c0 .698-.409 1.301-1 1.582v4.918A1.75 1.75 0 0 1 13.25 16H2.75A1.75 1.75 0 0 1 1 14.25V9.332C.409 9.05 0 8.448 0 7.75v-2C0 4.784.784 4 1.75 4h.55c-.192-.375-.3-.8-.3-1.25ZM7.25 9.5H2.5v4.75c0 .138.112.25.25.25h4.5Zm1.5 0v5h4.5a.25.25 0 0 0 .25-.25V9.5Zm0-4V8h5.5a.25.25 0 0 0 .25-.25v-2a.25.25 0 0 0-.25-.25Zm-7 0a.25.25 0 0 0-.25.25v2c0 .138.112.25.25.25h5.5V5.5h-5.5Zm3-4a1.25 1.25 0 0 0 0 2.5h2.309c-.233-.818-.542-1.401-.878-1.793-.43-.502-.915-.707-1.431-.707ZM8.941 4h2.309a1.25 1.25 0 0 0 0-2.5c-.516 0-1 .205-1.43.707-.337.392-.646.975-.879 1.793Z"></path>
</svg>
        </span>
      
        <span data-view-component="true" class="ActionListItem-label">
          Marketplace
</span></a>
  
  
</li>

        
          
<li item_id="feedback" data-item-id="" data-targets="nav-list.items" data-view-component="true" class="ActionListItem">
    
    <a id="item-4b49a5bc-ccdd-4df9-922a-9809a28cc612" href="https://gh.io/navigation-update" data-view-component="true" class="ActionListContent ActionListContent--visual16">
        <span class="ActionListItem-visual ActionListItem-visual--leading">
          <svg aria-hidden="true" height="16" viewBox="0 0 16 16" version="1.1" width="16" data-view-component="true" class="octicon octicon-comment-discussion">
    <path d="M1.75 1h8.5c.966 0 1.75.784 1.75 1.75v5.5A1.75 1.75 0 0 1 10.25 10H7.061l-2.574 2.573A1.458 1.458 0 0 1 2 11.543V10h-.25A1.75 1.75 0 0 1 0 8.25v-5.5C0 1.784.784 1 1.75 1ZM1.5 2.75v5.5c0 .138.112.25.25.25h1a.75.75 0 0 1 .75.75v2.19l2.72-2.72a.749.749 0 0 1 .53-.22h3.5a.25.25 0 0 0 .25-.25v-5.5a.25.25 0 0 0-.25-.25h-8.5a.25.25 0 0 0-.25.25Zm13 2a.25.25 0 0 0-.25-.25h-.5a.75.75 0 0 1 0-1.5h.5c.966 0 1.75.784 1.75 1.75v5.5A1.75 1.75 0 0 1 14.25 12H14v1.543a1.458 1.458 0 0 1-2.487 1.03L9.22 12.28a.749.749 0 0 1 .326-1.275.749.749 0 0 1 .734.215l2.22 2.22v-2.19a.75.75 0 0 1 .75-.75h1a.25.25 0 0 0 .25-.25Z"></path>
</svg>
        </span>
      
        <span data-view-component="true" class="ActionListItem-label">
          Give new navigation feedback
</span>        <span class="ActionListItem-visual ActionListItem-visual--trailing">
          <span title="Beta" data-view-component="true" class="Counter color-bg-default color-border-success-emphasis color-fg-success">Beta</span>
        </span>
</a>
  
  
</li>

</ul>  </nav-list>
</nav>

      <div data-view-component="true" class="px-2">      <p class="color-fg-subtle text-small text-light">&copy; 2023 GitHub, Inc.</p>

      <div data-view-component="true" class="d-flex text-small text-light">
          <a target="_blank" href="/about" data-view-component="true" class="Link no-underline mr-2">About</a>
          <a target="_blank" href="https://github.blog" data-view-component="true" class="Link no-underline mr-2">Blog</a>
          <a target="_blank" href="https://docs.github.com/site-policy/github-terms/github-terms-of-service" data-view-component="true" class="Link no-underline mr-2">Terms</a>
          <a target="_blank" href="https://docs.github.com/site-policy/privacy-policies/github-privacy-statement" data-view-component="true" class="Link no-underline mr-2">Privacy</a>
          <a target="_blank" href="/security" data-view-component="true" class="Link no-underline mr-2">Security</a>
        <a target="_blank" href="https://www.githubstatus.com/" data-view-component="true" class="Link no-underline mr-3">Status</a>
</div></div>
</div>
</modal-dialog></div>

  </include-fragment>
</deferred-side-panel>

        <a
          class="AppHeader-logo ml-2"
          href="https://github.com/"
          data-hotkey="g d"
          aria-label="Homepage "
          data-turbo="false"
          data-analytics-event="{&quot;category&quot;:&quot;Header&quot;,&quot;action&quot;:&quot;go to dashboard&quot;,&quot;label&quot;:&quot;icon:logo&quot;}"
        >
          <svg height="32" aria-hidden="true" viewBox="0 0 16 16" version="1.1" width="32" data-view-component="true" class="octicon octicon-mark-github v-align-middle color-fg-default">
    <path d="M8 0c4.42 0 8 3.58 8 8a8.013 8.013 0 0 1-5.45 7.59c-.4.08-.55-.17-.55-.38 0-.27.01-1.13.01-2.2 0-.75-.25-1.23-.54-1.48 1.78-.2 3.65-.88 3.65-3.95 0-.88-.31-1.59-.82-2.15.08-.2.36-1.02-.08-2.12 0 0-.67-.22-2.2.82-.64-.18-1.32-.27-2-.27-.68 0-1.36.09-2 .27-1.53-1.03-2.2-.82-2.2-.82-.44 1.1-.16 1.92-.08 2.12-.51.56-.82 1.28-.82 2.15 0 3.06 1.86 3.75 3.64 3.95-.23.2-.44.55-.51 1.07-.46.21-1.61.55-2.33-.66-.15-.24-.6-.83-1.23-.82-.67.01-.27.38.01.53.34.19.73.9.82 1.13.16.45.68 1.31 2.69.94 0 .67.01 1.3.01 1.49 0 .21-.15.45-.55.38A7.995 7.995 0 0 1 0 8c0-4.42 3.58-8 8-8Z"></path>
</svg>
        </a>

          <div class="AppHeader-context" >
  <div class="AppHeader-context-compact">
        <button aria-expanded="false" aria-haspopup="dialog" aria-label="Page context: krishnaik06 / mlproject" id="dialog-show-context-region-dialog" data-show-dialog-id="context-region-dialog" type="button" data-view-component="true" class="AppHeader-context-compact-trigger Truncate Button--secondary Button--medium Button box-shadow-none">    <span class="Button-content">
      <span class="Button-label"><span class="AppHeader-context-compact-lead">
                <span class="AppHeader-context-compact-parentItem">krishnaik06</span>
                <span class="AppHeader-context-compact-separator">&nbsp;/</span>

            </span>

            <strong class="AppHeader-context-compact-mainItem d-flex flex-items-center Truncate" >
  <span class="Truncate-text ">mlproject</span>

</strong></span>
    </span>
</button>  

<div class="Overlay--hidden Overlay-backdrop--center" data-modal-dialog-overlay>
  <modal-dialog role="dialog" id="context-region-dialog" aria-modal="true" aria-disabled="true" aria-describedby="context-region-dialog-title context-region-dialog-description" data-view-component="true" class="Overlay Overlay-whenNarrow Overlay--size-medium Overlay--motion-scaleFade">
    <div data-view-component="true" class="Overlay-header">
  <div class="Overlay-headerContentWrap">
    <div class="Overlay-titleWrap">
      <h1 class="Overlay-title " id="context-region-dialog-title">
        Navigate back to
      </h1>
    </div>
    <div class="Overlay-actionWrap">
      <button data-close-dialog-id="context-region-dialog" aria-label="Close" type="button" data-view-component="true" class="close-button Overlay-closeButton"><svg aria-hidden="true" height="16" viewBox="0 0 16 16" version="1.1" width="16" data-view-component="true" class="octicon octicon-x">
    <path d="M3.72 3.72a.75.75 0 0 1 1.06 0L8 6.94l3.22-3.22a.749.749 0 0 1 1.275.326.749.749 0 0 1-.215.734L9.06 8l3.22 3.22a.749.749 0 0 1-.326 1.275.749.749 0 0 1-.734-.215L8 9.06l-3.22 3.22a.751.751 0 0 1-1.042-.018.751.751 0 0 1-.018-1.042L6.94 8 3.72 4.78a.75.75 0 0 1 0-1.06Z"></path>
</svg></button>
    </div>
  </div>
</div>
      <div data-view-component="true" class="Overlay-body">          <ul role="list" class="list-style-none" >
    <li>
      <a data-analytics-event="{&quot;category&quot;:&quot;SiteHeaderComponent&quot;,&quot;action&quot;:&quot;context_region_crumb&quot;,&quot;label&quot;:&quot;krishnaik06&quot;,&quot;screen_size&quot;:&quot;compact&quot;}" href="/krishnaik06" data-view-component="true" class="Link--primary Truncate d-flex flex-items-center py-1">
        <span class="AppHeader-context-item-label Truncate-text ">
          krishnaik06
        </span>

</a>
    </li>
    <li>
      <a data-analytics-event="{&quot;category&quot;:&quot;SiteHeaderComponent&quot;,&quot;action&quot;:&quot;context_region_crumb&quot;,&quot;label&quot;:&quot;mlproject&quot;,&quot;screen_size&quot;:&quot;compact&quot;}" href="/krishnaik06/mlproject" data-view-component="true" class="Link--primary Truncate d-flex flex-items-center py-1">
        <span class="AppHeader-context-item-label Truncate-text ">
          mlproject
        </span>

</a>
    </li>
</ul>

</div>
      
</modal-dialog></div>
  </div>

  <div class="AppHeader-context-full">
    <nav role="navigation" aria-label="Page context">
      <ul role="list" class="list-style-none" >
    <li>
      <a data-analytics-event="{&quot;category&quot;:&quot;SiteHeaderComponent&quot;,&quot;action&quot;:&quot;context_region_crumb&quot;,&quot;label&quot;:&quot;krishnaik06&quot;,&quot;screen_size&quot;:&quot;full&quot;}" data-hovercard-type="user" data-hovercard-url="/users/krishnaik06/hovercard" data-octo-click="hovercard-link-click" data-octo-dimensions="link_type:self" href="/krishnaik06" data-view-component="true" class="AppHeader-context-item">
        <span class="AppHeader-context-item-label  ">
          krishnaik06
        </span>

</a>
        <span class="AppHeader-context-item-separator">/</span>
    </li>
    <li>
      <a data-analytics-event="{&quot;category&quot;:&quot;SiteHeaderComponent&quot;,&quot;action&quot;:&quot;context_region_crumb&quot;,&quot;label&quot;:&quot;mlproject&quot;,&quot;screen_size&quot;:&quot;full&quot;}" href="/krishnaik06/mlproject" data-view-component="true" class="AppHeader-context-item">
        <span class="AppHeader-context-item-label  ">
          mlproject
        </span>

</a>
    </li>
</ul>

    </nav>
  </div>
</div>

      </div>
      <div class="AppHeader-globalBar-end">
          <div class="AppHeader-search" >
              


<qbsearch-input class="search-input" data-scope="repo:krishnaik06/mlproject" data-custom-scopes-path="/search/custom_scopes" data-delete-custom-scopes-csrf="ln50avsWU7zXeWf5--_C02CHO_hzPerrtZpTliioptqLEKG233gSY9_WQAgx_FtnUqEsjhQn8nm9TINq7pERmA" data-max-custom-scopes="10" data-header-redesign-enabled="true" data-initial-value="" data-blackbird-suggestions-path="/search/suggestions" data-jump-to-suggestions-path="/_graphql/GetSuggestedNavigationDestinations" data-current-repository="krishnaik06/mlproject" data-current-org="" data-current-owner="krishnaik06" data-logged-in="true">
  <div
    class="search-input-container search-with-dialog position-relative d-flex flex-row flex-items-center height-auto color-bg-transparent border-0 color-fg-subtle mx-0"
    data-action="click:qbsearch-input#searchInputContainerClicked"
  >
      
            <button type="button" data-action="click:qbsearch-input#handleExpand" class="AppHeader-button AppHeader-search-whenNarrow" aria-label="Search or jump to…" aria-expanded="false" aria-haspopup="dialog">
            <svg aria-hidden="true" height="16" viewBox="0 0 16 16" version="1.1" width="16" data-view-component="true" class="octicon octicon-search">
    <path d="M10.68 11.74a6 6 0 0 1-7.922-8.982 6 6 0 0 1 8.982 7.922l3.04 3.04a.749.749 0 0 1-.326 1.275.749.749 0 0 1-.734-.215ZM11.5 7a4.499 4.499 0 1 0-8.997 0A4.499 4.499 0 0 0 11.5 7Z"></path>
</svg>
          </button>


<div class="AppHeader-search-whenRegular">
  <div class="AppHeader-search-wrap AppHeader-search-wrap--hasTrailing">
    <div class="AppHeader-search-control">
      <label
        for="AppHeader-searchInput"
        aria-label="Search or jump to…"
        class="AppHeader-search-visual--leading"
      >
        <svg aria-hidden="true" height="16" viewBox="0 0 16 16" version="1.1" width="16" data-view-component="true" class="octicon octicon-search">
    <path d="M10.68 11.74a6 6 0 0 1-7.922-8.982 6 6 0 0 1 8.982 7.922l3.04 3.04a.749.749 0 0 1-.326 1.275.749.749 0 0 1-.734-.215ZM11.5 7a4.499 4.499 0 1 0-8.997 0A4.499 4.499 0 0 0 11.5 7Z"></path>
</svg>
      </label>

                <button
            type="button"
            data-target="qbsearch-input.inputButton"
            data-action="click:qbsearch-input#handleExpand"
            class="AppHeader-searchButton form-control input-contrast text-left color-fg-subtle no-wrap"
            data-hotkey="s,/"
          >
            <div class="overflow-hidden">
              <span data-target="qbsearch-input.inputButtonText">
                  Type <kbd class="AppHeader-search-kbd">/</kbd> to search
              </span>
            </div>
          </button>

    </div>


      <button type="button" id="AppHeader-commandPalette-button" class="AppHeader-search-action--trailing js-activate-command-palette" data-analytics-event="{&quot;category&quot;:&quot;SiteHeaderComponent&quot;,&quot;action&quot;:&quot;command_palette&quot;,&quot;label&quot;:&quot;open command palette&quot;}">
        <svg aria-hidden="true" height="16" viewBox="0 0 16 16" version="1.1" width="16" data-view-component="true" class="octicon octicon-command-palette">
    <path d="m6.354 8.04-4.773 4.773a.75.75 0 1 0 1.061 1.06L7.945 8.57a.75.75 0 0 0 0-1.06L2.642 2.206a.75.75 0 0 0-1.06 1.061L6.353 8.04ZM8.75 11.5a.75.75 0 0 0 0 1.5h5.5a.75.75 0 0 0 0-1.5h-5.5Z"></path>
</svg>
      </button>

      <tool-tip id="tooltip-d256641e-d132-4f63-92f6-e310adb37030" for="AppHeader-commandPalette-button" popover="manual" data-direction="s" data-type="label" data-view-component="true" class="sr-only position-absolute">Command palette</tool-tip>
  </div>
</div>

    <input type="hidden" name="type" class="js-site-search-type-field">

    
<div class="Overlay--hidden " data-modal-dialog-overlay>
  <modal-dialog data-action="close:qbsearch-input#handleClose cancel:qbsearch-input#handleClose" data-target="qbsearch-input.searchSuggestionsDialog" role="dialog" id="search-suggestions-dialog" aria-modal="true" aria-labelledby="search-suggestions-dialog-header" data-view-component="true" class="Overlay Overlay--width-medium Overlay--height-auto">
      <h1 id="search-suggestions-dialog-header" class="sr-only">Search code, repositories, users, issues, pull requests...</h1>
    <div class="Overlay-body Overlay-body--paddingNone">
      
          <div data-view-component="true">        <div class="search-suggestions position-absolute width-full color-shadow-large border color-fg-default color-bg-default overflow-hidden d-flex flex-column query-builder-container"
          style="border-radius: 12px;"
          data-target="qbsearch-input.queryBuilderContainer"
          hidden
        >
          <!-- '"` --><!-- </textarea></xmp> --></option></form><form id="query-builder-test-form" action="" accept-charset="UTF-8" method="get">
  <query-builder data-target="qbsearch-input.queryBuilder" id="query-builder-query-builder-test" data-filter-key=":" data-view-component="true" class="QueryBuilder search-query-builder">
    <div class="FormControl FormControl--fullWidth">
      <label id="query-builder-test-label" for="query-builder-test" class="FormControl-label sr-only">
        Search
      </label>
      <div class="QueryBuilder-StyledInput width-fit" data-target="query-builder.styledInput">
          <span id="query-builder-test-leadingvisual-wrap" class="FormControl-input-leadingVisualWrap QueryBuilder-leadingVisualWrap">
            <svg aria-hidden="true" height="16" viewBox="0 0 16 16" version="1.1" width="16" data-view-component="true" class="octicon octicon-search FormControl-input-leadingVisual">
    <path d="M10.68 11.74a6 6 0 0 1-7.922-8.982 6 6 0 0 1 8.982 7.922l3.04 3.04a.749.749 0 0 1-.326 1.275.749.749 0 0 1-.734-.215ZM11.5 7a4.499 4.499 0 1 0-8.997 0A4.499 4.499 0 0 0 11.5 7Z"></path>
</svg>
          </span>
        <div data-target="query-builder.styledInputContainer" class="QueryBuilder-StyledInputContainer">
          <div
            aria-hidden="true"
            class="QueryBuilder-StyledInputContent"
            data-target="query-builder.styledInputContent"
          ></div>
          <div class="QueryBuilder-InputWrapper">
            <div aria-hidden="true" class="QueryBuilder-Sizer" data-target="query-builder.sizer"></div>
            <input id="query-builder-test" name="query-builder-test" value="" autocomplete="off" type="text" role="combobox" spellcheck="false" aria-expanded="false" data-target="query-builder.input" data-action="
          input:query-builder#inputChange
          blur:query-builder#inputBlur
          keydown:query-builder#inputKeydown
          focus:query-builder#inputFocus
        " data-view-component="true" class="FormControl-input QueryBuilder-Input FormControl-medium" />
          </div>
        </div>
          <span class="sr-only" id="query-builder-test-clear">Clear</span>
          
  <button role="button" id="query-builder-test-clear-button" aria-labelledby="query-builder-test-clear query-builder-test-label" data-target="query-builder.clearButton" data-action="
                click:query-builder#clear
                focus:query-builder#clearButtonFocus
                blur:query-builder#clearButtonBlur
              " variant="small" hidden="hidden" type="button" data-view-component="true" class="Button Button--iconOnly Button--invisible Button--medium mr-1 px-2 py-0 d-flex flex-items-center rounded-1 color-fg-muted">    <svg aria-hidden="true" height="16" viewBox="0 0 16 16" version="1.1" width="16" data-view-component="true" class="octicon octicon-x-circle-fill Button-visual">
    <path d="M2.343 13.657A8 8 0 1 1 13.658 2.343 8 8 0 0 1 2.343 13.657ZM6.03 4.97a.751.751 0 0 0-1.042.018.751.751 0 0 0-.018 1.042L6.94 8 4.97 9.97a.749.749 0 0 0 .326 1.275.749.749 0 0 0 .734-.215L8 9.06l1.97 1.97a.749.749 0 0 0 1.275-.326.749.749 0 0 0-.215-.734L9.06 8l1.97-1.97a.749.749 0 0 0-.326-1.275.749.749 0 0 0-.734.215L8 6.94Z"></path>
</svg>
</button>  

      </div>
      <template id="search-icon">
  <svg aria-hidden="true" height="16" viewBox="0 0 16 16" version="1.1" width="16" data-view-component="true" class="octicon octicon-search">
    <path d="M10.68 11.74a6 6 0 0 1-7.922-8.982 6 6 0 0 1 8.982 7.922l3.04 3.04a.749.749 0 0 1-.326 1.275.749.749 0 0 1-.734-.215ZM11.5 7a4.499 4.499 0 1 0-8.997 0A4.499 4.499 0 0 0 11.5 7Z"></path>
</svg>
</template>

<template id="code-icon">
  <svg aria-hidden="true" height="16" viewBox="0 0 16 16" version="1.1" width="16" data-view-component="true" class="octicon octicon-code">
    <path d="m11.28 3.22 4.25 4.25a.75.75 0 0 1 0 1.06l-4.25 4.25a.749.749 0 0 1-1.275-.326.749.749 0 0 1 .215-.734L13.94 8l-3.72-3.72a.749.749 0 0 1 .326-1.275.749.749 0 0 1 .734.215Zm-6.56 0a.751.751 0 0 1 1.042.018.751.751 0 0 1 .018 1.042L2.06 8l3.72 3.72a.749.749 0 0 1-.326 1.275.749.749 0 0 1-.734-.215L.47 8.53a.75.75 0 0 1 0-1.06Z"></path>
</svg>
</template>

<template id="file-code-icon">
  <svg aria-hidden="true" height="16" viewBox="0 0 16 16" version="1.1" width="16" data-view-component="true" class="octicon octicon-file-code">
    <path d="M4 1.75C4 .784 4.784 0 5.75 0h5.586c.464 0 .909.184 1.237.513l2.914 2.914c.329.328.513.773.513 1.237v8.586A1.75 1.75 0 0 1 14.25 15h-9a.75.75 0 0 1 0-1.5h9a.25.25 0 0 0 .25-.25V6h-2.75A1.75 1.75 0 0 1 10 4.25V1.5H5.75a.25.25 0 0 0-.25.25v2.5a.75.75 0 0 1-1.5 0Zm1.72 4.97a.75.75 0 0 1 1.06 0l2 2a.75.75 0 0 1 0 1.06l-2 2a.749.749 0 0 1-1.275-.326.749.749 0 0 1 .215-.734l1.47-1.47-1.47-1.47a.75.75 0 0 1 0-1.06ZM3.28 7.78 1.81 9.25l1.47 1.47a.751.751 0 0 1-.018 1.042.751.751 0 0 1-1.042.018l-2-2a.75.75 0 0 1 0-1.06l2-2a.751.751 0 0 1 1.042.018.751.751 0 0 1 .018 1.042Zm8.22-6.218V4.25c0 .138.112.25.25.25h2.688l-.011-.013-2.914-2.914-.013-.011Z"></path>
</svg>
</template>

<template id="history-icon">
  <svg aria-hidden="true" height="16" viewBox="0 0 16 16" version="1.1" width="16" data-view-component="true" class="octicon octicon-history">
    <path d="m.427 1.927 1.215 1.215a8.002 8.002 0 1 1-1.6 5.685.75.75 0 1 1 1.493-.154 6.5 6.5 0 1 0 1.18-4.458l1.358 1.358A.25.25 0 0 1 3.896 6H.25A.25.25 0 0 1 0 5.75V2.104a.25.25 0 0 1 .427-.177ZM7.75 4a.75.75 0 0 1 .75.75v2.992l2.028.812a.75.75 0 0 1-.557 1.392l-2.5-1A.751.751 0 0 1 7 8.25v-3.5A.75.75 0 0 1 7.75 4Z"></path>
</svg>
</template>

<template id="repo-icon">
  <svg aria-hidden="true" height="16" viewBox="0 0 16 16" version="1.1" width="16" data-view-component="true" class="octicon octicon-repo">
    <path d="M2 2.5A2.5 2.5 0 0 1 4.5 0h8.75a.75.75 0 0 1 .75.75v12.5a.75.75 0 0 1-.75.75h-2.5a.75.75 0 0 1 0-1.5h1.75v-2h-8a1 1 0 0 0-.714 1.7.75.75 0 1 1-1.072 1.05A2.495 2.495 0 0 1 2 11.5Zm10.5-1h-8a1 1 0 0 0-1 1v6.708A2.486 2.486 0 0 1 4.5 9h8ZM5 12.25a.25.25 0 0 1 .25-.25h3.5a.25.25 0 0 1 .25.25v3.25a.25.25 0 0 1-.4.2l-1.45-1.087a.249.249 0 0 0-.3 0L5.4 15.7a.25.25 0 0 1-.4-.2Z"></path>
</svg>
</template>

<template id="bookmark-icon">
  <svg aria-hidden="true" height="16" viewBox="0 0 16 16" version="1.1" width="16" data-view-component="true" class="octicon octicon-bookmark">
    <path d="M3 2.75C3 1.784 3.784 1 4.75 1h6.5c.966 0 1.75.784 1.75 1.75v11.5a.75.75 0 0 1-1.227.579L8 11.722l-3.773 3.107A.751.751 0 0 1 3 14.25Zm1.75-.25a.25.25 0 0 0-.25.25v9.91l3.023-2.489a.75.75 0 0 1 .954 0l3.023 2.49V2.75a.25.25 0 0 0-.25-.25Z"></path>
</svg>
</template>

<template id="plus-circle-icon">
  <svg aria-hidden="true" height="16" viewBox="0 0 16 16" version="1.1" width="16" data-view-component="true" class="octicon octicon-plus-circle">
    <path d="M8 0a8 8 0 1 1 0 16A8 8 0 0 1 8 0ZM1.5 8a6.5 6.5 0 1 0 13 0 6.5 6.5 0 0 0-13 0Zm7.25-3.25v2.5h2.5a.75.75 0 0 1 0 1.5h-2.5v2.5a.75.75 0 0 1-1.5 0v-2.5h-2.5a.75.75 0 0 1 0-1.5h2.5v-2.5a.75.75 0 0 1 1.5 0Z"></path>
</svg>
</template>

<template id="circle-icon">
  <svg aria-hidden="true" height="16" viewBox="0 0 16 16" version="1.1" width="16" data-view-component="true" class="octicon octicon-dot-fill">
    <path d="M8 4a4 4 0 1 1 0 8 4 4 0 0 1 0-8Z"></path>
</svg>
</template>

<template id="trash-icon">
  <svg aria-hidden="true" height="16" viewBox="0 0 16 16" version="1.1" width="16" data-view-component="true" class="octicon octicon-trash">
    <path d="M11 1.75V3h2.25a.75.75 0 0 1 0 1.5H2.75a.75.75 0 0 1 0-1.5H5V1.75C5 .784 5.784 0 6.75 0h2.5C10.216 0 11 .784 11 1.75ZM4.496 6.675l.66 6.6a.25.25 0 0 0 .249.225h5.19a.25.25 0 0 0 .249-.225l.66-6.6a.75.75 0 0 1 1.492.149l-.66 6.6A1.748 1.748 0 0 1 10.595 15h-5.19a1.75 1.75 0 0 1-1.741-1.575l-.66-6.6a.75.75 0 1 1 1.492-.15ZM6.5 1.75V3h3V1.75a.25.25 0 0 0-.25-.25h-2.5a.25.25 0 0 0-.25.25Z"></path>
</svg>
</template>

<template id="team-icon">
  <svg aria-hidden="true" height="16" viewBox="0 0 16 16" version="1.1" width="16" data-view-component="true" class="octicon octicon-people">
    <path d="M2 5.5a3.5 3.5 0 1 1 5.898 2.549 5.508 5.508 0 0 1 3.034 4.084.75.75 0 1 1-1.482.235 4 4 0 0 0-7.9 0 .75.75 0 0 1-1.482-.236A5.507 5.507 0 0 1 3.102 8.05 3.493 3.493 0 0 1 2 5.5ZM11 4a3.001 3.001 0 0 1 2.22 5.018 5.01 5.01 0 0 1 2.56 3.012.749.749 0 0 1-.885.954.752.752 0 0 1-.549-.514 3.507 3.507 0 0 0-2.522-2.372.75.75 0 0 1-.574-.73v-.352a.75.75 0 0 1 .416-.672A1.5 1.5 0 0 0 11 5.5.75.75 0 0 1 11 4Zm-5.5-.5a2 2 0 1 0-.001 3.999A2 2 0 0 0 5.5 3.5Z"></path>
</svg>
</template>

<template id="project-icon">
  <svg aria-hidden="true" height="16" viewBox="0 0 16 16" version="1.1" width="16" data-view-component="true" class="octicon octicon-project">
    <path d="M1.75 0h12.5C15.216 0 16 .784 16 1.75v12.5A1.75 1.75 0 0 1 14.25 16H1.75A1.75 1.75 0 0 1 0 14.25V1.75C0 .784.784 0 1.75 0ZM1.5 1.75v12.5c0 .138.112.25.25.25h12.5a.25.25 0 0 0 .25-.25V1.75a.25.25 0 0 0-.25-.25H1.75a.25.25 0 0 0-.25.25ZM11.75 3a.75.75 0 0 1 .75.75v7.5a.75.75 0 0 1-1.5 0v-7.5a.75.75 0 0 1 .75-.75Zm-8.25.75a.75.75 0 0 1 1.5 0v5.5a.75.75 0 0 1-1.5 0ZM8 3a.75.75 0 0 1 .75.75v3.5a.75.75 0 0 1-1.5 0v-3.5A.75.75 0 0 1 8 3Z"></path>
</svg>
</template>

<template id="pencil-icon">
  <svg aria-hidden="true" height="16" viewBox="0 0 16 16" version="1.1" width="16" data-view-component="true" class="octicon octicon-pencil">
    <path d="M11.013 1.427a1.75 1.75 0 0 1 2.474 0l1.086 1.086a1.75 1.75 0 0 1 0 2.474l-8.61 8.61c-.21.21-.47.364-.756.445l-3.251.93a.75.75 0 0 1-.927-.928l.929-3.25c.081-.286.235-.547.445-.758l8.61-8.61Zm.176 4.823L9.75 4.81l-6.286 6.287a.253.253 0 0 0-.064.108l-.558 1.953 1.953-.558a.253.253 0 0 0 .108-.064Zm1.238-3.763a.25.25 0 0 0-.354 0L10.811 3.75l1.439 1.44 1.263-1.263a.25.25 0 0 0 0-.354Z"></path>
</svg>
</template>

        <div class="position-relative">
                <ul
                  role="listbox"
                  class="ActionListWrap QueryBuilder-ListWrap"
                  aria-label="Suggestions"
                  data-action="
                    combobox-commit:query-builder#comboboxCommit
                    mousedown:query-builder#resultsMousedown
                  "
                  data-target="query-builder.resultsList"
                  data-persist-list=false
                  id="query-builder-test-results"
                ></ul>
        </div>
    </div>
    <div data-target="query-builder.screenReaderFeedback" aria-live="polite" aria-atomic="true" class="sr-only"></div>
</query-builder></form>
          <div class="d-flex flex-row color-fg-muted px-3 text-small color-bg-default search-feedback-prompt">
            <a target="_blank" href="https://docs.github.com/en/search-github/github-code-search/understanding-github-code-search-syntax" data-view-component="true" class="Link color-fg-accent text-normal ml-2">
              Search syntax tips
</a>            <div class="d-flex flex-1"></div>
                <button data-action="click:qbsearch-input#showFeedbackDialog" type="button" data-view-component="true" class="Button--link Button--medium Button color-fg-accent text-normal ml-2">    <span class="Button-content">
      <span class="Button-label">Give feedback</span>
    </span>
</button>  
          </div>
        </div>
</div>

    </div>
</modal-dialog></div>
  </div>
  <div data-action="click:qbsearch-input#retract" class="dark-backdrop position-fixed" hidden data-target="qbsearch-input.darkBackdrop"></div>
  <div class="color-fg-default">
    
<div class="Overlay--hidden Overlay-backdrop--center" data-modal-dialog-overlay>
  <modal-dialog data-target="qbsearch-input.feedbackDialog" data-action="close:qbsearch-input#handleDialogClose cancel:qbsearch-input#handleDialogClose" role="dialog" id="feedback-dialog" aria-modal="true" aria-disabled="true" aria-describedby="feedback-dialog-title feedback-dialog-description" data-view-component="true" class="Overlay Overlay-whenNarrow Overlay--size-medium Overlay--motion-scaleFade">
    <div data-view-component="true" class="Overlay-header">
  <div class="Overlay-headerContentWrap">
    <div class="Overlay-titleWrap">
      <h1 class="Overlay-title " id="feedback-dialog-title">
        Provide feedback
      </h1>
    </div>
    <div class="Overlay-actionWrap">
      <button data-close-dialog-id="feedback-dialog" aria-label="Close" type="button" data-view-component="true" class="close-button Overlay-closeButton"><svg aria-hidden="true" height="16" viewBox="0 0 16 16" version="1.1" width="16" data-view-component="true" class="octicon octicon-x">
    <path d="M3.72 3.72a.75.75 0 0 1 1.06 0L8 6.94l3.22-3.22a.749.749 0 0 1 1.275.326.749.749 0 0 1-.215.734L9.06 8l3.22 3.22a.749.749 0 0 1-.326 1.275.749.749 0 0 1-.734-.215L8 9.06l-3.22 3.22a.751.751 0 0 1-1.042-.018.751.751 0 0 1-.018-1.042L6.94 8 3.72 4.78a.75.75 0 0 1 0-1.06Z"></path>
</svg></button>
    </div>
  </div>
</div>
      <div data-view-component="true" class="Overlay-body">        <!-- '"` --><!-- </textarea></xmp> --></option></form><form id="code-search-feedback-form" data-turbo="false" action="/search/feedback" accept-charset="UTF-8" method="post"><input type="hidden" name="authenticity_token" value="S9Ly7U7YVrH1dznXOOT_FPd0X1gMmscvpYDjCffnU51C7TArRdUKpt_4-GJNnpmTvOZVWSdznaPPt8c7gXXlzA" />
          <p>We read every piece of feedback, and take your input very seriously.</p>
          <textarea name="feedback" class="form-control width-full mb-2" style="height: 120px" id="feedback"></textarea>
          <input name="include_email" id="include_email" aria-label="Include my email address so I can be contacted" class="form-control mr-2" type="checkbox">
          <label for="include_email" style="font-weight: normal">Include my email address so I can be contacted</label>
</form></div>
      <div data-view-component="true" class="Overlay-footer Overlay-footer--alignEnd">          <button data-close-dialog-id="feedback-dialog" type="button" data-view-component="true" class="btn">    Cancel
</button>
          <button form="code-search-feedback-form" data-action="click:qbsearch-input#submitFeedback" type="submit" data-view-component="true" class="btn-primary btn">    Submit feedback
</button>
</div>
</modal-dialog></div>

    <custom-scopes data-target="qbsearch-input.customScopesManager">
    
<div class="Overlay--hidden Overlay-backdrop--center" data-modal-dialog-overlay>
  <modal-dialog data-target="custom-scopes.customScopesModalDialog" data-action="close:qbsearch-input#handleDialogClose cancel:qbsearch-input#handleDialogClose" role="dialog" id="custom-scopes-dialog" aria-modal="true" aria-disabled="true" aria-describedby="custom-scopes-dialog-title custom-scopes-dialog-description" data-view-component="true" class="Overlay Overlay-whenNarrow Overlay--size-medium Overlay--motion-scaleFade">
    <div data-view-component="true" class="Overlay-header Overlay-header--divided">
  <div class="Overlay-headerContentWrap">
    <div class="Overlay-titleWrap">
      <h1 class="Overlay-title " id="custom-scopes-dialog-title">
        Saved searches
      </h1>
        <h2 id="custom-scopes-dialog-description" class="Overlay-description">Use saved searches to filter your results more quickly</h2>
    </div>
    <div class="Overlay-actionWrap">
      <button data-close-dialog-id="custom-scopes-dialog" aria-label="Close" type="button" data-view-component="true" class="close-button Overlay-closeButton"><svg aria-hidden="true" height="16" viewBox="0 0 16 16" version="1.1" width="16" data-view-component="true" class="octicon octicon-x">
    <path d="M3.72 3.72a.75.75 0 0 1 1.06 0L8 6.94l3.22-3.22a.749.749 0 0 1 1.275.326.749.749 0 0 1-.215.734L9.06 8l3.22 3.22a.749.749 0 0 1-.326 1.275.749.749 0 0 1-.734-.215L8 9.06l-3.22 3.22a.751.751 0 0 1-1.042-.018.751.751 0 0 1-.018-1.042L6.94 8 3.72 4.78a.75.75 0 0 1 0-1.06Z"></path>
</svg></button>
    </div>
  </div>
</div>
      <div data-view-component="true" class="Overlay-body">        <div data-target="custom-scopes.customScopesModalDialogFlash"></div>

        <div hidden class="create-custom-scope-form" data-target="custom-scopes.createCustomScopeForm">
        <!-- '"` --><!-- </textarea></xmp> --></option></form><form id="custom-scopes-dialog-form" data-turbo="false" action="/search/custom_scopes" accept-charset="UTF-8" method="post"><input type="hidden" name="authenticity_token" value="nJwi2ycL3jcSgHMo4L5flVMqbTqBkI80byXUFmXpotjZHjY7F6B7bcAw-z39qsdo2V2IFMFgKFgv0eVeFlT8cw" />
          <div data-target="custom-scopes.customScopesModalDialogFlash"></div>

          <input type="hidden" id="custom_scope_id" name="custom_scope_id" data-target="custom-scopes.customScopesIdField">

          <div class="form-group">
            <label for="custom_scope_name">Name</label>
            <auto-check src="/search/custom_scopes/check_name" required>
              <input
                type="text"
                name="custom_scope_name"
                id="custom_scope_name"
                data-target="custom-scopes.customScopesNameField"
                class="form-control"
                autocomplete="off"
                placeholder="github-ruby"
                required
                maxlength="50">
              <input type="hidden" value="rXtGAL1KiNak3inVn0prZTLTZTyAuNiCAI0HdGdsXluNwm18ZxUIeA6JL2f_rX6yfnBRU3oQojhMoSwD3xNLeA" data-csrf="true" />
            </auto-check>
          </div>

          <div class="form-group">
            <label for="custom_scope_query">Query</label>
            <input
              type="text"
              name="custom_scope_query"
              id="custom_scope_query"
              data-target="custom-scopes.customScopesQueryField"
              class="form-control"
              autocomplete="off"
              placeholder="(repo:mona/a OR repo:mona/b) AND lang:python"
              required
              maxlength="500">
          </div>

          <p class="text-small color-fg-muted">
            To see all available qualifiers, see our <a href="https://docs.github.com/en/search-github/github-code-search/understanding-github-code-search-syntax">documentation</a>.
          </p>
</form>        </div>

        <div data-target="custom-scopes.manageCustomScopesForm">
          <div data-target="custom-scopes.list"></div>
        </div>

</div>
      <div data-view-component="true" class="Overlay-footer Overlay-footer--alignEnd Overlay-footer--divided">          <button data-action="click:custom-scopes#customScopesCancel" type="button" data-view-component="true" class="btn">    Cancel
</button>
          <button form="custom-scopes-dialog-form" data-action="click:custom-scopes#customScopesSubmit" data-target="custom-scopes.customScopesSubmitButton" type="submit" data-view-component="true" class="btn-primary btn">    Create saved search
</button>
</div>
</modal-dialog></div>
    </custom-scopes>
  </div>
</qbsearch-input><input type="hidden" value="GOHJkSzGF_pm2kLmyzAgM2uVz6DZtG-EiVmn3GOolBoXb_op8kbp7XaWikE0Kg2OrQupf3cdFhFUt19fp6mGvA" data-csrf="true" class="js-data-jump-to-suggestions-path-csrf" />

          </div>

        <div class="AppHeader-actions">
          <action-menu data-select-variant="none" data-view-component="true">
  <focus-group direction="vertical" mnemonics retain>
    <div data-view-component="true" class="Button-withTooltip">  <button id="global-create-menu-button" popovertarget="global-create-menu-overlay" aria-label="Create something new" aria-controls="global-create-menu-list" aria-haspopup="true" type="button" data-view-component="true" class="AppHeader-button Button--secondary Button--small Button width-auto color-fg-muted box-shadow-none">    <span class="Button-content">
        <span class="Button-visual Button-leadingVisual">
          <svg aria-hidden="true" height="16" viewBox="0 0 16 16" version="1.1" width="16" data-view-component="true" class="octicon octicon-plus">
    <path d="M7.75 2a.75.75 0 0 1 .75.75V7h4.25a.75.75 0 0 1 0 1.5H8.5v4.25a.75.75 0 0 1-1.5 0V8.5H2.75a.75.75 0 0 1 0-1.5H7V2.75A.75.75 0 0 1 7.75 2Z"></path>
</svg>
        </span>
      <span class="Button-label"><svg aria-hidden="true" height="16" viewBox="0 0 16 16" version="1.1" width="16" data-view-component="true" class="octicon octicon-triangle-down">
    <path d="m4.427 7.427 3.396 3.396a.25.25 0 0 0 .354 0l3.396-3.396A.25.25 0 0 0 11.396 7H4.604a.25.25 0 0 0-.177.427Z"></path>
</svg></span>
    </span>
</button>  <tool-tip id="tooltip-b7ae54f5-5aa2-4aab-b406-b0c54b69f90f" for="global-create-menu-button" popover="manual" data-direction="s" data-type="description" data-view-component="true" class="sr-only position-absolute">Create new...</tool-tip>
</div>

<anchored-position id="global-create-menu-overlay" anchor="global-create-menu-button" align="end" side="outside-bottom" anchor-offset="normal" popover="auto" aria-label="Menu" data-view-component="true">
  <div data-view-component="true" class="Overlay Overlay--size-auto">
    
      
        <div data-view-component="true">
  <ul aria-labelledby="global-create-menu-button" id="global-create-menu-list" role="menu" data-view-component="true" class="ActionListWrap--inset ActionListWrap">
      <li data-analytics-event="{&quot;category&quot;:&quot;SiteHeaderComponent&quot;,&quot;action&quot;:&quot;add_dropdown&quot;,&quot;label&quot;:&quot;new repository&quot;}" data-targets="action-list.items" role="none" data-view-component="true" class="ActionListItem">
    
    <a href="/new" tabindex="-1" id="item-3245e29a-0e71-40de-8b60-c4252a8091a0" role="menuitem" data-view-component="true" class="ActionListContent ActionListContent--visual16">
        <span class="ActionListItem-visual ActionListItem-visual--leading">
          <svg aria-hidden="true" height="16" viewBox="0 0 16 16" version="1.1" width="16" data-view-component="true" class="octicon octicon-repo">
    <path d="M2 2.5A2.5 2.5 0 0 1 4.5 0h8.75a.75.75 0 0 1 .75.75v12.5a.75.75 0 0 1-.75.75h-2.5a.75.75 0 0 1 0-1.5h1.75v-2h-8a1 1 0 0 0-.714 1.7.75.75 0 1 1-1.072 1.05A2.495 2.495 0 0 1 2 11.5Zm10.5-1h-8a1 1 0 0 0-1 1v6.708A2.486 2.486 0 0 1 4.5 9h8ZM5 12.25a.25.25 0 0 1 .25-.25h3.5a.25.25 0 0 1 .25.25v3.25a.25.25 0 0 1-.4.2l-1.45-1.087a.249.249 0 0 0-.3 0L5.4 15.7a.25.25 0 0 1-.4-.2Z"></path>
</svg>
        </span>
      
        <span data-view-component="true" class="ActionListItem-label">
              New repository

</span></a>
  
  
</li>
      <li data-analytics-event="{&quot;category&quot;:&quot;SiteHeaderComponent&quot;,&quot;action&quot;:&quot;add_dropdown&quot;,&quot;label&quot;:&quot;import repository&quot;}" data-targets="action-list.items" role="none" data-view-component="true" class="ActionListItem">
    
    <a href="/new/import" tabindex="-1" id="item-7465ca12-aedd-4096-b3f1-ae2c4c0623a9" role="menuitem" data-view-component="true" class="ActionListContent ActionListContent--visual16">
        <span class="ActionListItem-visual ActionListItem-visual--leading">
          <svg aria-hidden="true" height="16" viewBox="0 0 16 16" version="1.1" width="16" data-view-component="true" class="octicon octicon-repo-push">
    <path d="M1 2.5A2.5 2.5 0 0 1 3.5 0h8.75a.75.75 0 0 1 .75.75v3.5a.75.75 0 0 1-1.5 0V1.5h-8a1 1 0 0 0-1 1v6.708A2.493 2.493 0 0 1 3.5 9h3.25a.75.75 0 0 1 0 1.5H3.5a1 1 0 0 0 0 2h5.75a.75.75 0 0 1 0 1.5H3.5A2.5 2.5 0 0 1 1 11.5Zm13.23 7.79h-.001l-1.224-1.224v6.184a.75.75 0 0 1-1.5 0V9.066L10.28 10.29a.75.75 0 0 1-1.06-1.061l2.505-2.504a.75.75 0 0 1 1.06 0L15.29 9.23a.751.751 0 0 1-.018 1.042.751.751 0 0 1-1.042.018Z"></path>
</svg>
        </span>
      
        <span data-view-component="true" class="ActionListItem-label">
                Import repository

</span></a>
  
  
</li>
      <li role="presentation" aria-hidden="true" data-view-component="true" class="ActionList-sectionDivider"></li>
      <li data-analytics-event="{&quot;category&quot;:&quot;SiteHeaderComponent&quot;,&quot;action&quot;:&quot;add_dropdown&quot;,&quot;label&quot;:&quot;new codespace&quot;}" data-targets="action-list.items" role="none" data-view-component="true" class="ActionListItem">
    
    <a href="/codespaces/new" tabindex="-1" id="item-3daac889-7c64-455e-98c7-07a5af74c305" role="menuitem" data-view-component="true" class="ActionListContent ActionListContent--visual16">
        <span class="ActionListItem-visual ActionListItem-visual--leading">
          <svg aria-hidden="true" height="16" viewBox="0 0 16 16" version="1.1" width="16" data-view-component="true" class="octicon octicon-codespaces">
    <path d="M0 11.25c0-.966.784-1.75 1.75-1.75h12.5c.966 0 1.75.784 1.75 1.75v3A1.75 1.75 0 0 1 14.25 16H1.75A1.75 1.75 0 0 1 0 14.25Zm2-9.5C2 .784 2.784 0 3.75 0h8.5C13.216 0 14 .784 14 1.75v5a1.75 1.75 0 0 1-1.75 1.75h-8.5A1.75 1.75 0 0 1 2 6.75Zm1.75-.25a.25.25 0 0 0-.25.25v5c0 .138.112.25.25.25h8.5a.25.25 0 0 0 .25-.25v-5a.25.25 0 0 0-.25-.25Zm-2 9.5a.25.25 0 0 0-.25.25v3c0 .138.112.25.25.25h12.5a.25.25 0 0 0 .25-.25v-3a.25.25 0 0 0-.25-.25Z"></path><path d="M7 12.75a.75.75 0 0 1 .75-.75h4.5a.75.75 0 0 1 0 1.5h-4.5a.75.75 0 0 1-.75-.75Zm-4 0a.75.75 0 0 1 .75-.75h.5a.75.75 0 0 1 0 1.5h-.5a.75.75 0 0 1-.75-.75Z"></path>
</svg>
        </span>
      
        <span data-view-component="true" class="ActionListItem-label">
                New codespace

</span></a>
  
  
</li>
      <li data-analytics-event="{&quot;category&quot;:&quot;SiteHeaderComponent&quot;,&quot;action&quot;:&quot;add_dropdown&quot;,&quot;label&quot;:&quot;new gist&quot;}" data-targets="action-list.items" role="none" data-view-component="true" class="ActionListItem">
    
    <a href="https://gist.github.com/" tabindex="-1" id="item-fb558b86-85f9-4ee4-8422-3348ea3f5421" role="menuitem" data-view-component="true" class="ActionListContent ActionListContent--visual16">
        <span class="ActionListItem-visual ActionListItem-visual--leading">
          <svg aria-hidden="true" height="16" viewBox="0 0 16 16" version="1.1" width="16" data-view-component="true" class="octicon octicon-code">
    <path d="m11.28 3.22 4.25 4.25a.75.75 0 0 1 0 1.06l-4.25 4.25a.749.749 0 0 1-1.275-.326.749.749 0 0 1 .215-.734L13.94 8l-3.72-3.72a.749.749 0 0 1 .326-1.275.749.749 0 0 1 .734.215Zm-6.56 0a.751.751 0 0 1 1.042.018.751.751 0 0 1 .018 1.042L2.06 8l3.72 3.72a.749.749 0 0 1-.326 1.275.749.749 0 0 1-.734-.215L.47 8.53a.75.75 0 0 1 0-1.06Z"></path>
</svg>
        </span>
      
        <span data-view-component="true" class="ActionListItem-label">
              New gist

</span></a>
  
  
</li>
      <li role="presentation" aria-hidden="true" data-view-component="true" class="ActionList-sectionDivider"></li>
      <li data-analytics-event="{&quot;category&quot;:&quot;SiteHeaderComponent&quot;,&quot;action&quot;:&quot;add_dropdown&quot;,&quot;label&quot;:&quot;new organization&quot;}" data-targets="action-list.items" role="none" data-view-component="true" class="ActionListItem">
    
    <a href="/account/organizations/new" tabindex="-1" id="item-07a2696c-93af-4213-9a8a-60d9352b3110" role="menuitem" data-view-component="true" class="ActionListContent ActionListContent--visual16">
        <span class="ActionListItem-visual ActionListItem-visual--leading">
          <svg aria-hidden="true" height="16" viewBox="0 0 16 16" version="1.1" width="16" data-view-component="true" class="octicon octicon-organization">
    <path d="M1.75 16A1.75 1.75 0 0 1 0 14.25V1.75C0 .784.784 0 1.75 0h8.5C11.216 0 12 .784 12 1.75v12.5c0 .085-.006.168-.018.25h2.268a.25.25 0 0 0 .25-.25V8.285a.25.25 0 0 0-.111-.208l-1.055-.703a.749.749 0 1 1 .832-1.248l1.055.703c.487.325.779.871.779 1.456v5.965A1.75 1.75 0 0 1 14.25 16h-3.5a.766.766 0 0 1-.197-.026c-.099.017-.2.026-.303.026h-3a.75.75 0 0 1-.75-.75V14h-1v1.25a.75.75 0 0 1-.75.75Zm-.25-1.75c0 .138.112.25.25.25H4v-1.25a.75.75 0 0 1 .75-.75h2.5a.75.75 0 0 1 .75.75v1.25h2.25a.25.25 0 0 0 .25-.25V1.75a.25.25 0 0 0-.25-.25h-8.5a.25.25 0 0 0-.25.25ZM3.75 6h.5a.75.75 0 0 1 0 1.5h-.5a.75.75 0 0 1 0-1.5ZM3 3.75A.75.75 0 0 1 3.75 3h.5a.75.75 0 0 1 0 1.5h-.5A.75.75 0 0 1 3 3.75Zm4 3A.75.75 0 0 1 7.75 6h.5a.75.75 0 0 1 0 1.5h-.5A.75.75 0 0 1 7 6.75ZM7.75 3h.5a.75.75 0 0 1 0 1.5h-.5a.75.75 0 0 1 0-1.5ZM3 9.75A.75.75 0 0 1 3.75 9h.5a.75.75 0 0 1 0 1.5h-.5A.75.75 0 0 1 3 9.75ZM7.75 9h.5a.75.75 0 0 1 0 1.5h-.5a.75.75 0 0 1 0-1.5Z"></path>
</svg>
        </span>
      
        <span data-view-component="true" class="ActionListItem-label">
                New organization

</span></a>
  
  
</li>
</ul>  
</div>

</div></anchored-position>  </focus-group>
</action-menu>

          <div data-view-component="true" class="Button-withTooltip">
  <a href="/issues" id="icon-button-6bafd2dd-4bed-4dc8-999f-d51785afa26d" data-view-component="true" class="Button Button--iconOnly Button--secondary Button--medium AppHeader-button color-fg-muted">    <svg aria-hidden="true" height="16" viewBox="0 0 16 16" version="1.1" width="16" data-view-component="true" class="octicon octicon-issue-opened Button-visual">
    <path d="M8 9.5a1.5 1.5 0 1 0 0-3 1.5 1.5 0 0 0 0 3Z"></path><path d="M8 0a8 8 0 1 1 0 16A8 8 0 0 1 8 0ZM1.5 8a6.5 6.5 0 1 0 13 0 6.5 6.5 0 0 0-13 0Z"></path>
</svg>
</a>  <tool-tip id="tooltip-b4992abb-26e0-4bd7-a4a1-8e3f8f7cec75" for="icon-button-6bafd2dd-4bed-4dc8-999f-d51785afa26d" popover="manual" data-direction="s" data-type="label" data-view-component="true" class="sr-only position-absolute">Issues</tool-tip>
</div>
          <div data-view-component="true" class="Button-withTooltip">
  <a href="/pulls" id="icon-button-b999998a-81f3-4784-99f7-ec3a04fcad62" data-view-component="true" class="Button Button--iconOnly Button--secondary Button--medium AppHeader-button color-fg-muted">    <svg aria-hidden="true" height="16" viewBox="0 0 16 16" version="1.1" width="16" data-view-component="true" class="octicon octicon-git-pull-request Button-visual">
    <path d="M1.5 3.25a2.25 2.25 0 1 1 3 2.122v5.256a2.251 2.251 0 1 1-1.5 0V5.372A2.25 2.25 0 0 1 1.5 3.25Zm5.677-.177L9.573.677A.25.25 0 0 1 10 .854V2.5h1A2.5 2.5 0 0 1 13.5 5v5.628a2.251 2.251 0 1 1-1.5 0V5a1 1 0 0 0-1-1h-1v1.646a.25.25 0 0 1-.427.177L7.177 3.427a.25.25 0 0 1 0-.354ZM3.75 2.5a.75.75 0 1 0 0 1.5.75.75 0 0 0 0-1.5Zm0 9.5a.75.75 0 1 0 0 1.5.75.75 0 0 0 0-1.5Zm8.25.75a.75.75 0 1 0 1.5 0 .75.75 0 0 0-1.5 0Z"></path>
</svg>
</a>  <tool-tip id="tooltip-ec2adcc8-4e72-4237-9510-68272d3b814b" for="icon-button-b999998a-81f3-4784-99f7-ec3a04fcad62" popover="manual" data-direction="s" data-type="label" data-view-component="true" class="sr-only position-absolute">Pull requests</tool-tip>
</div>
        </div>

        <div class="mr-0">
          

<notification-indicator data-channel="eyJjIjoibm90aWZpY2F0aW9uLWNoYW5nZWQ6MTE0MjI4MjcwIiwidCI6MTY5MDMwNTMxOX0=--b8c82806c1b8c5b21030e22a790b4838e2dd3f5e20ffb83dd3c24d357a3ec42a" data-indicator-mode="none" data-tooltip-global="You have unread notifications" data-tooltip-unavailable="Notifications are unavailable at the moment." data-tooltip-none="You have no unread notifications" data-header-redesign-enabled="true" data-fetch-indicator-src="/notifications/indicator" data-fetch-indicator-enabled="true" data-view-component="true" class="js-socket-channel">
  <a id="AppHeader-notifications-button" href="/notifications"
    class="AppHeader-button"

    style="width:32px;height:32px;"

    data-hotkey="g n"
    data-target="notification-indicator.link"
    aria-label="Notifications"

      data-analytics-event="{&quot;category&quot;:&quot;SiteHeaderComponent&quot;,&quot;action&quot;:&quot;notifications&quot;,&quot;label&quot;:null}"
  >

    <span
      data-target="notification-indicator.badge"
      class="mail-status unread d-none" hidden>
    </span>

      <svg aria-hidden="true" height="16" viewBox="0 0 16 16" version="1.1" width="16" data-view-component="true" class="octicon octicon-inbox color-fg-muted mr-0">
    <path d="M2.8 2.06A1.75 1.75 0 0 1 4.41 1h7.18c.7 0 1.333.417 1.61 1.06l2.74 6.395c.04.093.06.194.06.295v4.5A1.75 1.75 0 0 1 14.25 15H1.75A1.75 1.75 0 0 1 0 13.25v-4.5c0-.101.02-.202.06-.295Zm1.61.44a.25.25 0 0 0-.23.152L1.887 8H4.75a.75.75 0 0 1 .6.3L6.625 10h2.75l1.275-1.7a.75.75 0 0 1 .6-.3h2.863L11.82 2.652a.25.25 0 0 0-.23-.152Zm10.09 7h-2.875l-1.275 1.7a.75.75 0 0 1-.6.3h-3.5a.75.75 0 0 1-.6-.3L4.375 9.5H1.5v3.75c0 .138.112.25.25.25h12.5a.25.25 0 0 0 .25-.25Z"></path>
</svg>
  </a>

    <tool-tip data-target="notification-indicator.tooltip" id="tooltip-e6e1d36d-136a-468a-8613-cfbc9b118491" for="AppHeader-notifications-button" popover="manual" data-direction="s" data-type="description" data-view-component="true" class="sr-only position-absolute">Notifications</tool-tip>
</notification-indicator>
        </div>

        

        <div class="AppHeader-user">
          <deferred-side-panel data-url="/_side-panels/user?memex_enabled=true&amp;repository=mlproject&amp;user=ArunAsish111&amp;user_can_create_organizations=true&amp;user_id=114228270">
  <include-fragment data-target="deferred-side-panel.fragment">
      <user-drawer-side-panel>
      <button aria-label="Open user account menu" data-action="click:deferred-side-panel#loadPanel click:deferred-side-panel#panelOpened" data-show-dialog-id="dialog-c1a5baa4-ec9f-4e76-8af3-3cccc801f863" id="dialog-show-dialog-c1a5baa4-ec9f-4e76-8af3-3cccc801f863" type="button" data-view-component="true" class="AppHeader-logo Button--invisible Button--medium Button Button--invisible-noVisuals color-bg-transparent p-0">    <span class="Button-content">
      <span class="Button-label"><img src="https://avatars.githubusercontent.com/u/114228270?v=4" alt="" size="32" height="32" width="32" data-view-component="true" class="avatar circle" /></span>
    </span>
</button>  

<div class="Overlay--hidden Overlay-backdrop--side Overlay-backdrop--placement-right" data-modal-dialog-overlay>
  <modal-dialog data-target="deferred-side-panel.panel" role="dialog" id="dialog-c1a5baa4-ec9f-4e76-8af3-3cccc801f863" aria-modal="true" aria-disabled="true" aria-describedby="dialog-c1a5baa4-ec9f-4e76-8af3-3cccc801f863-title dialog-c1a5baa4-ec9f-4e76-8af3-3cccc801f863-description" data-view-component="true" class="Overlay Overlay-whenNarrow Overlay--size-small-portrait Overlay--motion-scaleFade SidePanel">
    <div styles="flex-direction: row;" data-view-component="true" class="Overlay-header">
  <div class="Overlay-headerContentWrap">
    <div class="Overlay-titleWrap">
      <h1 class="Overlay-title sr-only" id="dialog-c1a5baa4-ec9f-4e76-8af3-3cccc801f863-title">
        Account menu
      </h1>
            <div data-view-component="true" class="d-flex">
      <div data-view-component="true" class="AppHeader-logo position-relative">
        <img src="https://avatars.githubusercontent.com/u/114228270?v=4" alt="" size="32" height="32" width="32" data-view-component="true" class="avatar circle" />
</div>        <div data-view-component="true" class="d-flex width-full">        <div data-view-component="true" class="lh-condensed d-flex flex-column flex-justify-center ml-2 f5 mr-auto">
          <span data-view-component="true" class="Truncate d-block text-bold">
    <span data-view-component="true" class="Truncate-text">
            ArunAsish111
</span>
</span>          </div>
</div>
</div>
    </div>
    <div class="Overlay-actionWrap">
      <button data-close-dialog-id="dialog-c1a5baa4-ec9f-4e76-8af3-3cccc801f863" aria-label="Close" type="button" data-view-component="true" class="close-button Overlay-closeButton"><svg aria-hidden="true" height="16" viewBox="0 0 16 16" version="1.1" width="16" data-view-component="true" class="octicon octicon-x">
    <path d="M3.72 3.72a.75.75 0 0 1 1.06 0L8 6.94l3.22-3.22a.749.749 0 0 1 1.275.326.749.749 0 0 1-.215.734L9.06 8l3.22 3.22a.749.749 0 0 1-.326 1.275.749.749 0 0 1-.734-.215L8 9.06l-3.22 3.22a.751.751 0 0 1-1.042-.018.751.751 0 0 1-.018-1.042L6.94 8 3.72 4.78a.75.75 0 0 1 0-1.06Z"></path>
</svg></button>
    </div>
  </div>
</div>
      <div data-view-component="true" class="Overlay-body d-flex flex-column height-full px-2">      <nav aria-label="User navigation" data-view-component="true" class="ActionList">
  
  <nav-list>
    <ul data-view-component="true" class="ActionListWrap">
        
          
<li data-item-id="" data-targets="nav-list.items" data-view-component="true" class="ActionListItem">
    
    <button id="item-894110e1-102c-4d6f-9f43-664fa7e29f60" type="button" data-view-component="true" class="ActionListContent ActionListContent--visual16">
        <span class="ActionListItem-visual ActionListItem-visual--leading">
          <span data-view-component="true" class="d-flex flex-items-center">    <svg style="box-sizing: content-box; color: var(--color-icon-primary);" width="16" height="16" viewBox="0 0 16 16" fill="none" data-view-component="true" class="anim-rotate">
  <circle cx="8" cy="8" r="7" stroke="currentColor" stroke-opacity="0.25" stroke-width="2" vector-effect="non-scaling-stroke" />
  <path d="M15 8a7.002 7.002 0 00-7-7" stroke="currentColor" stroke-width="2" stroke-linecap="round" vector-effect="non-scaling-stroke" />
</svg>
</span>
        </span>
      
        <span data-view-component="true" class="ActionListItem-label">
          

  <span class="color-fg-muted">
    Loading...
  </span>

</span></button>
  
  
</li>

        
          <li role="presentation" aria-hidden="true" data-view-component="true" class="ActionList-sectionDivider"></li>
        
          
<li data-item-id="" data-targets="nav-list.items" data-view-component="true" class="ActionListItem">
    
    <a id="item-504aed2a-78d1-4212-b299-7ca0cf9b6c85" href="https://github.com/ArunAsish111" data-view-component="true" class="ActionListContent ActionListContent--visual16">
        <span class="ActionListItem-visual ActionListItem-visual--leading">
          <svg aria-hidden="true" height="16" viewBox="0 0 16 16" version="1.1" width="16" data-view-component="true" class="octicon octicon-person">
    <path d="M10.561 8.073a6.005 6.005 0 0 1 3.432 5.142.75.75 0 1 1-1.498.07 4.5 4.5 0 0 0-8.99 0 .75.75 0 0 1-1.498-.07 6.004 6.004 0 0 1 3.431-5.142 3.999 3.999 0 1 1 5.123 0ZM10.5 5a2.5 2.5 0 1 0-5 0 2.5 2.5 0 0 0 5 0Z"></path>
</svg>
        </span>
      
        <span data-view-component="true" class="ActionListItem-label">
          Your profile
</span></a>
  
  
</li>

        
          <li role="presentation" aria-hidden="true" data-view-component="true" class="ActionList-sectionDivider"></li>
        
          
<li data-item-id="" data-targets="nav-list.items" data-view-component="true" class="ActionListItem">
    
    <a id="item-8f64f2bf-9341-46f3-9d83-eb9a124bde82" href="/ArunAsish111?tab=repositories" data-view-component="true" class="ActionListContent ActionListContent--visual16">
        <span class="ActionListItem-visual ActionListItem-visual--leading">
          <svg aria-hidden="true" height="16" viewBox="0 0 16 16" version="1.1" width="16" data-view-component="true" class="octicon octicon-repo">
    <path d="M2 2.5A2.5 2.5 0 0 1 4.5 0h8.75a.75.75 0 0 1 .75.75v12.5a.75.75 0 0 1-.75.75h-2.5a.75.75 0 0 1 0-1.5h1.75v-2h-8a1 1 0 0 0-.714 1.7.75.75 0 1 1-1.072 1.05A2.495 2.495 0 0 1 2 11.5Zm10.5-1h-8a1 1 0 0 0-1 1v6.708A2.486 2.486 0 0 1 4.5 9h8ZM5 12.25a.25.25 0 0 1 .25-.25h3.5a.25.25 0 0 1 .25.25v3.25a.25.25 0 0 1-.4.2l-1.45-1.087a.249.249 0 0 0-.3 0L5.4 15.7a.25.25 0 0 1-.4-.2Z"></path>
</svg>
        </span>
      
        <span data-view-component="true" class="ActionListItem-label">
          Your repositories
</span></a>
  
  
</li>

        
          
<li data-item-id="" data-targets="nav-list.items" data-view-component="true" class="ActionListItem">
    
    <a id="item-03c05758-37ff-4918-8d28-45c071f72448" href="/ArunAsish111?tab=projects" data-view-component="true" class="ActionListContent ActionListContent--visual16">
        <span class="ActionListItem-visual ActionListItem-visual--leading">
          <svg aria-hidden="true" height="16" viewBox="0 0 16 16" version="1.1" width="16" data-view-component="true" class="octicon octicon-project">
    <path d="M1.75 0h12.5C15.216 0 16 .784 16 1.75v12.5A1.75 1.75 0 0 1 14.25 16H1.75A1.75 1.75 0 0 1 0 14.25V1.75C0 .784.784 0 1.75 0ZM1.5 1.75v12.5c0 .138.112.25.25.25h12.5a.25.25 0 0 0 .25-.25V1.75a.25.25 0 0 0-.25-.25H1.75a.25.25 0 0 0-.25.25ZM11.75 3a.75.75 0 0 1 .75.75v7.5a.75.75 0 0 1-1.5 0v-7.5a.75.75 0 0 1 .75-.75Zm-8.25.75a.75.75 0 0 1 1.5 0v5.5a.75.75 0 0 1-1.5 0ZM8 3a.75.75 0 0 1 .75.75v3.5a.75.75 0 0 1-1.5 0v-3.5A.75.75 0 0 1 8 3Z"></path>
</svg>
        </span>
      
        <span data-view-component="true" class="ActionListItem-label">
          Your projects
</span></a>
  
  
</li>

        
          
<li data-item-id="" data-targets="nav-list.items" data-view-component="true" class="ActionListItem">
    
    <a id="item-49d6befa-d8de-4acb-8057-b108957f4e11" href="/codespaces" data-view-component="true" class="ActionListContent ActionListContent--visual16">
        <span class="ActionListItem-visual ActionListItem-visual--leading">
          <svg aria-hidden="true" height="16" viewBox="0 0 16 16" version="1.1" width="16" data-view-component="true" class="octicon octicon-codespaces">
    <path d="M0 11.25c0-.966.784-1.75 1.75-1.75h12.5c.966 0 1.75.784 1.75 1.75v3A1.75 1.75 0 0 1 14.25 16H1.75A1.75 1.75 0 0 1 0 14.25Zm2-9.5C2 .784 2.784 0 3.75 0h8.5C13.216 0 14 .784 14 1.75v5a1.75 1.75 0 0 1-1.75 1.75h-8.5A1.75 1.75 0 0 1 2 6.75Zm1.75-.25a.25.25 0 0 0-.25.25v5c0 .138.112.25.25.25h8.5a.25.25 0 0 0 .25-.25v-5a.25.25 0 0 0-.25-.25Zm-2 9.5a.25.25 0 0 0-.25.25v3c0 .138.112.25.25.25h12.5a.25.25 0 0 0 .25-.25v-3a.25.25 0 0 0-.25-.25Z"></path><path d="M7 12.75a.75.75 0 0 1 .75-.75h4.5a.75.75 0 0 1 0 1.5h-4.5a.75.75 0 0 1-.75-.75Zm-4 0a.75.75 0 0 1 .75-.75h.5a.75.75 0 0 1 0 1.5h-.5a.75.75 0 0 1-.75-.75Z"></path>
</svg>
        </span>
      
        <span data-view-component="true" class="ActionListItem-label">
          Your codespaces
</span></a>
  
  
</li>

        
          
<li data-item-id="" data-targets="nav-list.items" data-view-component="true" class="ActionListItem">
    
    <button id="item-c67cc829-34c5-4eb2-9ec4-00dcc124b07f" type="button" data-view-component="true" class="ActionListContent ActionListContent--visual16">
        <span class="ActionListItem-visual ActionListItem-visual--leading">
          <span data-view-component="true" class="d-flex flex-items-center">    <svg style="box-sizing: content-box; color: var(--color-icon-primary);" width="16" height="16" viewBox="0 0 16 16" fill="none" data-view-component="true" class="anim-rotate">
  <circle cx="8" cy="8" r="7" stroke="currentColor" stroke-opacity="0.25" stroke-width="2" vector-effect="non-scaling-stroke" />
  <path d="M15 8a7.002 7.002 0 00-7-7" stroke="currentColor" stroke-width="2" stroke-linecap="round" vector-effect="non-scaling-stroke" />
</svg>
</span>
        </span>
      
        <span data-view-component="true" class="ActionListItem-label">
          

  <span class="color-fg-muted">
    Loading...
  </span>

</span></button>
  
  
</li>

        
          
<li data-item-id="" data-targets="nav-list.items" data-view-component="true" class="ActionListItem">
    
    <a id="item-4ee78411-a5e6-4764-a8d0-73b1012d861b" href="/ArunAsish111?tab=stars" data-view-component="true" class="ActionListContent ActionListContent--visual16">
        <span class="ActionListItem-visual ActionListItem-visual--leading">
          <svg aria-hidden="true" height="16" viewBox="0 0 16 16" version="1.1" width="16" data-view-component="true" class="octicon octicon-star">
    <path d="M8 .25a.75.75 0 0 1 .673.418l1.882 3.815 4.21.612a.75.75 0 0 1 .416 1.279l-3.046 2.97.719 4.192a.751.751 0 0 1-1.088.791L8 12.347l-3.766 1.98a.75.75 0 0 1-1.088-.79l.72-4.194L.818 6.374a.75.75 0 0 1 .416-1.28l4.21-.611L7.327.668A.75.75 0 0 1 8 .25Zm0 2.445L6.615 5.5a.75.75 0 0 1-.564.41l-3.097.45 2.24 2.184a.75.75 0 0 1 .216.664l-.528 3.084 2.769-1.456a.75.75 0 0 1 .698 0l2.77 1.456-.53-3.084a.75.75 0 0 1 .216-.664l2.24-2.183-3.096-.45a.75.75 0 0 1-.564-.41L8 2.694Z"></path>
</svg>
        </span>
      
        <span data-view-component="true" class="ActionListItem-label">
          Your stars
</span></a>
  
  
</li>

        
          
<li data-item-id="" data-targets="nav-list.items" data-view-component="true" class="ActionListItem">
    
    <a id="item-4487a961-9816-41e2-b007-ca17d47d294b" href="/sponsors/accounts" data-view-component="true" class="ActionListContent ActionListContent--visual16">
        <span class="ActionListItem-visual ActionListItem-visual--leading">
          <svg aria-hidden="true" height="16" viewBox="0 0 16 16" version="1.1" width="16" data-view-component="true" class="octicon octicon-heart">
    <path d="m8 14.25.345.666a.75.75 0 0 1-.69 0l-.008-.004-.018-.01a7.152 7.152 0 0 1-.31-.17 22.055 22.055 0 0 1-3.434-2.414C2.045 10.731 0 8.35 0 5.5 0 2.836 2.086 1 4.25 1 5.797 1 7.153 1.802 8 3.02 8.847 1.802 10.203 1 11.75 1 13.914 1 16 2.836 16 5.5c0 2.85-2.045 5.231-3.885 6.818a22.066 22.066 0 0 1-3.744 2.584l-.018.01-.006.003h-.002ZM4.25 2.5c-1.336 0-2.75 1.164-2.75 3 0 2.15 1.58 4.144 3.365 5.682A20.58 20.58 0 0 0 8 13.393a20.58 20.58 0 0 0 3.135-2.211C12.92 9.644 14.5 7.65 14.5 5.5c0-1.836-1.414-3-2.75-3-1.373 0-2.609.986-3.029 2.456a.749.749 0 0 1-1.442 0C6.859 3.486 5.623 2.5 4.25 2.5Z"></path>
</svg>
        </span>
      
        <span data-view-component="true" class="ActionListItem-label">
          Your sponsors
</span></a>
  
  
</li>

        
          
<li data-item-id="" data-targets="nav-list.items" data-view-component="true" class="ActionListItem">
    
    <a id="item-7307e99a-c559-4567-ba3a-db8feb3812a6" href="https://gist.github.com/mine" data-view-component="true" class="ActionListContent ActionListContent--visual16">
        <span class="ActionListItem-visual ActionListItem-visual--leading">
          <svg aria-hidden="true" height="16" viewBox="0 0 16 16" version="1.1" width="16" data-view-component="true" class="octicon octicon-code-square">
    <path d="M0 1.75C0 .784.784 0 1.75 0h12.5C15.216 0 16 .784 16 1.75v12.5A1.75 1.75 0 0 1 14.25 16H1.75A1.75 1.75 0 0 1 0 14.25Zm1.75-.25a.25.25 0 0 0-.25.25v12.5c0 .138.112.25.25.25h12.5a.25.25 0 0 0 .25-.25V1.75a.25.25 0 0 0-.25-.25Zm7.47 3.97a.75.75 0 0 1 1.06 0l2 2a.75.75 0 0 1 0 1.06l-2 2a.749.749 0 0 1-1.275-.326.749.749 0 0 1 .215-.734L10.69 8 9.22 6.53a.75.75 0 0 1 0-1.06ZM6.78 6.53 5.31 8l1.47 1.47a.749.749 0 0 1-.326 1.275.749.749 0 0 1-.734-.215l-2-2a.75.75 0 0 1 0-1.06l2-2a.751.751 0 0 1 1.042.018.751.751 0 0 1 .018 1.042Z"></path>
</svg>
        </span>
      
        <span data-view-component="true" class="ActionListItem-label">
          Your gists
</span></a>
  
  
</li>

        
          <li role="presentation" aria-hidden="true" data-view-component="true" class="ActionList-sectionDivider"></li>
        
          
<li data-item-id="" data-targets="nav-list.items" data-view-component="true" class="ActionListItem">
    
    <button id="item-3772e715-2293-49cc-9cc7-aab4e96fdd3a" type="button" data-view-component="true" class="ActionListContent ActionListContent--visual16">
        <span class="ActionListItem-visual ActionListItem-visual--leading">
          <span data-view-component="true" class="d-flex flex-items-center">    <svg style="box-sizing: content-box; color: var(--color-icon-primary);" width="16" height="16" viewBox="0 0 16 16" fill="none" data-view-component="true" class="anim-rotate">
  <circle cx="8" cy="8" r="7" stroke="currentColor" stroke-opacity="0.25" stroke-width="2" vector-effect="non-scaling-stroke" />
  <path d="M15 8a7.002 7.002 0 00-7-7" stroke="currentColor" stroke-width="2" stroke-linecap="round" vector-effect="non-scaling-stroke" />
</svg>
</span>
        </span>
      
        <span data-view-component="true" class="ActionListItem-label">
          

  <span class="color-fg-muted">
    Loading...
  </span>

</span></button>
  
  
</li>

        
          
<li data-item-id="" data-targets="nav-list.items" data-view-component="true" class="ActionListItem">
    
    <button id="item-97d933eb-b82e-4ad8-ab9a-2a3acc8db116" type="button" data-view-component="true" class="ActionListContent ActionListContent--visual16">
        <span class="ActionListItem-visual ActionListItem-visual--leading">
          <span data-view-component="true" class="d-flex flex-items-center">    <svg style="box-sizing: content-box; color: var(--color-icon-primary);" width="16" height="16" viewBox="0 0 16 16" fill="none" data-view-component="true" class="anim-rotate">
  <circle cx="8" cy="8" r="7" stroke="currentColor" stroke-opacity="0.25" stroke-width="2" vector-effect="non-scaling-stroke" />
  <path d="M15 8a7.002 7.002 0 00-7-7" stroke="currentColor" stroke-width="2" stroke-linecap="round" vector-effect="non-scaling-stroke" />
</svg>
</span>
        </span>
      
        <span data-view-component="true" class="ActionListItem-label">
          

  <span class="color-fg-muted">
    Loading...
  </span>

</span></button>
  
  
</li>

        
          
<li data-item-id="" data-targets="nav-list.items" data-view-component="true" class="ActionListItem">
    
    <button id="item-cf2b649a-e4cc-4478-b859-394d86426944" type="button" data-view-component="true" class="ActionListContent ActionListContent--visual16">
        <span class="ActionListItem-visual ActionListItem-visual--leading">
          <span data-view-component="true" class="d-flex flex-items-center">    <svg style="box-sizing: content-box; color: var(--color-icon-primary);" width="16" height="16" viewBox="0 0 16 16" fill="none" data-view-component="true" class="anim-rotate">
  <circle cx="8" cy="8" r="7" stroke="currentColor" stroke-opacity="0.25" stroke-width="2" vector-effect="non-scaling-stroke" />
  <path d="M15 8a7.002 7.002 0 00-7-7" stroke="currentColor" stroke-width="2" stroke-linecap="round" vector-effect="non-scaling-stroke" />
</svg>
</span>
        </span>
      
        <span data-view-component="true" class="ActionListItem-label">
          

  <span class="color-fg-muted">
    Loading...
  </span>

</span></button>
  
  
</li>

        
          
<li data-item-id="" data-targets="nav-list.items" data-view-component="true" class="ActionListItem">
    
    <a id="item-94e9fa2f-d672-4505-89b4-ea14683fc425" href="/settings/profile" data-view-component="true" class="ActionListContent ActionListContent--visual16">
        <span class="ActionListItem-visual ActionListItem-visual--leading">
          <svg aria-hidden="true" height="16" viewBox="0 0 16 16" version="1.1" width="16" data-view-component="true" class="octicon octicon-gear">
    <path d="M8 0a8.2 8.2 0 0 1 .701.031C9.444.095 9.99.645 10.16 1.29l.288 1.107c.018.066.079.158.212.224.231.114.454.243.668.386.123.082.233.09.299.071l1.103-.303c.644-.176 1.392.021 1.82.63.27.385.506.792.704 1.218.315.675.111 1.422-.364 1.891l-.814.806c-.049.048-.098.147-.088.294.016.257.016.515 0 .772-.01.147.038.246.088.294l.814.806c.475.469.679 1.216.364 1.891a7.977 7.977 0 0 1-.704 1.217c-.428.61-1.176.807-1.82.63l-1.102-.302c-.067-.019-.177-.011-.3.071a5.909 5.909 0 0 1-.668.386c-.133.066-.194.158-.211.224l-.29 1.106c-.168.646-.715 1.196-1.458 1.26a8.006 8.006 0 0 1-1.402 0c-.743-.064-1.289-.614-1.458-1.26l-.289-1.106c-.018-.066-.079-.158-.212-.224a5.738 5.738 0 0 1-.668-.386c-.123-.082-.233-.09-.299-.071l-1.103.303c-.644.176-1.392-.021-1.82-.63a8.12 8.12 0 0 1-.704-1.218c-.315-.675-.111-1.422.363-1.891l.815-.806c.05-.048.098-.147.088-.294a6.214 6.214 0 0 1 0-.772c.01-.147-.038-.246-.088-.294l-.815-.806C.635 6.045.431 5.298.746 4.623a7.92 7.92 0 0 1 .704-1.217c.428-.61 1.176-.807 1.82-.63l1.102.302c.067.019.177.011.3-.071.214-.143.437-.272.668-.386.133-.066.194-.158.211-.224l.29-1.106C6.009.645 6.556.095 7.299.03 7.53.01 7.764 0 8 0Zm-.571 1.525c-.036.003-.108.036-.137.146l-.289 1.105c-.147.561-.549.967-.998 1.189-.173.086-.34.183-.5.29-.417.278-.97.423-1.529.27l-1.103-.303c-.109-.03-.175.016-.195.045-.22.312-.412.644-.573.99-.014.031-.021.11.059.19l.815.806c.411.406.562.957.53 1.456a4.709 4.709 0 0 0 0 .582c.032.499-.119 1.05-.53 1.456l-.815.806c-.081.08-.073.159-.059.19.162.346.353.677.573.989.02.03.085.076.195.046l1.102-.303c.56-.153 1.113-.008 1.53.27.161.107.328.204.501.29.447.222.85.629.997 1.189l.289 1.105c.029.109.101.143.137.146a6.6 6.6 0 0 0 1.142 0c.036-.003.108-.036.137-.146l.289-1.105c.147-.561.549-.967.998-1.189.173-.086.34-.183.5-.29.417-.278.97-.423 1.529-.27l1.103.303c.109.029.175-.016.195-.045.22-.313.411-.644.573-.99.014-.031.021-.11-.059-.19l-.815-.806c-.411-.406-.562-.957-.53-1.456a4.709 4.709 0 0 0 0-.582c-.032-.499.119-1.05.53-1.456l.815-.806c.081-.08.073-.159.059-.19a6.464 6.464 0 0 0-.573-.989c-.02-.03-.085-.076-.195-.046l-1.102.303c-.56.153-1.113.008-1.53-.27a4.44 4.44 0 0 0-.501-.29c-.447-.222-.85-.629-.997-1.189l-.289-1.105c-.029-.11-.101-.143-.137-.146a6.6 6.6 0 0 0-1.142 0ZM11 8a3 3 0 1 1-6 0 3 3 0 0 1 6 0ZM9.5 8a1.5 1.5 0 1 0-3.001.001A1.5 1.5 0 0 0 9.5 8Z"></path>
</svg>
        </span>
      
        <span data-view-component="true" class="ActionListItem-label">
          Settings
</span></a>
  
  
</li>

        
          <li role="presentation" aria-hidden="true" data-view-component="true" class="ActionList-sectionDivider"></li>
        
          
<li data-item-id="" data-targets="nav-list.items" data-view-component="true" class="ActionListItem">
    
    <a id="item-aad0311b-72b8-43eb-b498-638eb1c5325b" href="https://docs.github.com" data-view-component="true" class="ActionListContent ActionListContent--visual16">
        <span class="ActionListItem-visual ActionListItem-visual--leading">
          <svg aria-hidden="true" height="16" viewBox="0 0 16 16" version="1.1" width="16" data-view-component="true" class="octicon octicon-book">
    <path d="M0 1.75A.75.75 0 0 1 .75 1h4.253c1.227 0 2.317.59 3 1.501A3.743 3.743 0 0 1 11.006 1h4.245a.75.75 0 0 1 .75.75v10.5a.75.75 0 0 1-.75.75h-4.507a2.25 2.25 0 0 0-1.591.659l-.622.621a.75.75 0 0 1-1.06 0l-.622-.621A2.25 2.25 0 0 0 5.258 13H.75a.75.75 0 0 1-.75-.75Zm7.251 10.324.004-5.073-.002-2.253A2.25 2.25 0 0 0 5.003 2.5H1.5v9h3.757a3.75 3.75 0 0 1 1.994.574ZM8.755 4.75l-.004 7.322a3.752 3.752 0 0 1 1.992-.572H14.5v-9h-3.495a2.25 2.25 0 0 0-2.25 2.25Z"></path>
</svg>
        </span>
      
        <span data-view-component="true" class="ActionListItem-label">
          GitHub Docs
</span></a>
  
  
</li>

        
          
<li data-item-id="" data-targets="nav-list.items" data-view-component="true" class="ActionListItem">
    
    <a id="item-a3f41594-2295-4713-80e5-23034d2ed9b5" href="https://support.github.com" data-view-component="true" class="ActionListContent ActionListContent--visual16">
        <span class="ActionListItem-visual ActionListItem-visual--leading">
          <svg aria-hidden="true" height="16" viewBox="0 0 16 16" version="1.1" width="16" data-view-component="true" class="octicon octicon-people">
    <path d="M2 5.5a3.5 3.5 0 1 1 5.898 2.549 5.508 5.508 0 0 1 3.034 4.084.75.75 0 1 1-1.482.235 4 4 0 0 0-7.9 0 .75.75 0 0 1-1.482-.236A5.507 5.507 0 0 1 3.102 8.05 3.493 3.493 0 0 1 2 5.5ZM11 4a3.001 3.001 0 0 1 2.22 5.018 5.01 5.01 0 0 1 2.56 3.012.749.749 0 0 1-.885.954.752.752 0 0 1-.549-.514 3.507 3.507 0 0 0-2.522-2.372.75.75 0 0 1-.574-.73v-.352a.75.75 0 0 1 .416-.672A1.5 1.5 0 0 0 11 5.5.75.75 0 0 1 11 4Zm-5.5-.5a2 2 0 1 0-.001 3.999A2 2 0 0 0 5.5 3.5Z"></path>
</svg>
        </span>
      
        <span data-view-component="true" class="ActionListItem-label">
          GitHub Support
</span></a>
  
  
</li>

        
          <li role="presentation" aria-hidden="true" data-view-component="true" class="ActionList-sectionDivider"></li>
        
          
<li data-item-id="" data-targets="nav-list.items" data-view-component="true" class="ActionListItem">
    
    <a id="item-fb4cf383-8650-4df4-80cf-2a9e5a9d677c" href="/logout" data-view-component="true" class="ActionListContent">
      
        <span data-view-component="true" class="ActionListItem-label">
          Sign out
</span></a>
  
  
</li>

</ul>  </nav-list>
</nav>


</div>
      
</modal-dialog></div>
  </user-drawer-side-panel>

  </include-fragment>
</deferred-side-panel>
        </div>

        <div class="Header-item position-relative mr-2 mt-2">
            
<site-header-logged-in-user-menu>

</site-header-logged-in-user-menu>

        </div>
      </div>
    </div>


      <div class="AppHeader-localBar" >
        <nav data-pjax="#js-repo-pjax-container" aria-label="Repository" data-view-component="true" class="js-repo-nav js-sidenav-container-pjax js-responsive-underlinenav overflow-hidden UnderlineNav">

  <ul data-view-component="true" class="UnderlineNav-body list-style-none">
      <li data-view-component="true" class="d-inline-flex">
  <a id="code-tab" href="/krishnaik06/mlproject" data-tab-item="i0code-tab" data-selected-links="repo_source repo_downloads repo_commits repo_releases repo_tags repo_branches repo_packages repo_deployments /krishnaik06/mlproject" data-pjax="#repo-content-pjax-container" data-turbo-frame="repo-content-turbo-frame" data-hotkey="g c" data-analytics-event="{&quot;category&quot;:&quot;Underline navbar&quot;,&quot;action&quot;:&quot;Click tab&quot;,&quot;label&quot;:&quot;Code&quot;,&quot;target&quot;:&quot;UNDERLINE_NAV.TAB&quot;}" data-view-component="true" class="UnderlineNav-item no-wrap js-responsive-underlinenav-item js-selected-navigation-item">
    
              <svg aria-hidden="true" height="16" viewBox="0 0 16 16" version="1.1" width="16" data-view-component="true" class="octicon octicon-code UnderlineNav-octicon d-none d-sm-inline">
    <path d="m11.28 3.22 4.25 4.25a.75.75 0 0 1 0 1.06l-4.25 4.25a.749.749 0 0 1-1.275-.326.749.749 0 0 1 .215-.734L13.94 8l-3.72-3.72a.749.749 0 0 1 .326-1.275.749.749 0 0 1 .734.215Zm-6.56 0a.751.751 0 0 1 1.042.018.751.751 0 0 1 .018 1.042L2.06 8l3.72 3.72a.749.749 0 0 1-.326 1.275.749.749 0 0 1-.734-.215L.47 8.53a.75.75 0 0 1 0-1.06Z"></path>
</svg>
        <span data-content="Code">Code</span>
          <span id="code-repo-tab-count" data-pjax-replace="" data-turbo-replace="" title="Not available" data-view-component="true" class="Counter"></span>


    
</a></li>
      <li data-view-component="true" class="d-inline-flex">
  <a id="issues-tab" href="/krishnaik06/mlproject/issues" data-tab-item="i1issues-tab" data-selected-links="repo_issues repo_labels repo_milestones /krishnaik06/mlproject/issues" data-pjax="#repo-content-pjax-container" data-turbo-frame="repo-content-turbo-frame" data-hotkey="g i" data-analytics-event="{&quot;category&quot;:&quot;Underline navbar&quot;,&quot;action&quot;:&quot;Click tab&quot;,&quot;label&quot;:&quot;Issues&quot;,&quot;target&quot;:&quot;UNDERLINE_NAV.TAB&quot;}" data-view-component="true" class="UnderlineNav-item no-wrap js-responsive-underlinenav-item js-selected-navigation-item">
    
              <svg aria-hidden="true" height="16" viewBox="0 0 16 16" version="1.1" width="16" data-view-component="true" class="octicon octicon-issue-opened UnderlineNav-octicon d-none d-sm-inline">
    <path d="M8 9.5a1.5 1.5 0 1 0 0-3 1.5 1.5 0 0 0 0 3Z"></path><path d="M8 0a8 8 0 1 1 0 16A8 8 0 0 1 8 0ZM1.5 8a6.5 6.5 0 1 0 13 0 6.5 6.5 0 0 0-13 0Z"></path>
</svg>
        <span data-content="Issues">Issues</span>
          <span id="issues-repo-tab-count" data-pjax-replace="" data-turbo-replace="" title="4" data-view-component="true" class="Counter">4</span>


    
</a></li>
      <li data-view-component="true" class="d-inline-flex">
  <a id="pull-requests-tab" href="/krishnaik06/mlproject/pulls" data-tab-item="i2pull-requests-tab" data-selected-links="repo_pulls checks /krishnaik06/mlproject/pulls" data-pjax="#repo-content-pjax-container" data-turbo-frame="repo-content-turbo-frame" data-hotkey="g p" data-analytics-event="{&quot;category&quot;:&quot;Underline navbar&quot;,&quot;action&quot;:&quot;Click tab&quot;,&quot;label&quot;:&quot;Pull requests&quot;,&quot;target&quot;:&quot;UNDERLINE_NAV.TAB&quot;}" data-view-component="true" class="UnderlineNav-item no-wrap js-responsive-underlinenav-item js-selected-navigation-item">
    
              <svg aria-hidden="true" height="16" viewBox="0 0 16 16" version="1.1" width="16" data-view-component="true" class="octicon octicon-git-pull-request UnderlineNav-octicon d-none d-sm-inline">
    <path d="M1.5 3.25a2.25 2.25 0 1 1 3 2.122v5.256a2.251 2.251 0 1 1-1.5 0V5.372A2.25 2.25 0 0 1 1.5 3.25Zm5.677-.177L9.573.677A.25.25 0 0 1 10 .854V2.5h1A2.5 2.5 0 0 1 13.5 5v5.628a2.251 2.251 0 1 1-1.5 0V5a1 1 0 0 0-1-1h-1v1.646a.25.25 0 0 1-.427.177L7.177 3.427a.25.25 0 0 1 0-.354ZM3.75 2.5a.75.75 0 1 0 0 1.5.75.75 0 0 0 0-1.5Zm0 9.5a.75.75 0 1 0 0 1.5.75.75 0 0 0 0-1.5Zm8.25.75a.75.75 0 1 0 1.5 0 .75.75 0 0 0-1.5 0Z"></path>
</svg>
        <span data-content="Pull requests">Pull requests</span>
          <span id="pull-requests-repo-tab-count" data-pjax-replace="" data-turbo-replace="" title="7" data-view-component="true" class="Counter">7</span>


    
</a></li>
      <li data-view-component="true" class="d-inline-flex">
  <a id="actions-tab" href="/krishnaik06/mlproject/actions" data-tab-item="i3actions-tab" data-selected-links="repo_actions /krishnaik06/mlproject/actions" data-pjax="#repo-content-pjax-container" data-turbo-frame="repo-content-turbo-frame" data-hotkey="g a" data-analytics-event="{&quot;category&quot;:&quot;Underline navbar&quot;,&quot;action&quot;:&quot;Click tab&quot;,&quot;label&quot;:&quot;Actions&quot;,&quot;target&quot;:&quot;UNDERLINE_NAV.TAB&quot;}" data-view-component="true" class="UnderlineNav-item no-wrap js-responsive-underlinenav-item js-selected-navigation-item">
    
              <svg aria-hidden="true" height="16" viewBox="0 0 16 16" version="1.1" width="16" data-view-component="true" class="octicon octicon-play UnderlineNav-octicon d-none d-sm-inline">
    <path d="M8 0a8 8 0 1 1 0 16A8 8 0 0 1 8 0ZM1.5 8a6.5 6.5 0 1 0 13 0 6.5 6.5 0 0 0-13 0Zm4.879-2.773 4.264 2.559a.25.25 0 0 1 0 .428l-4.264 2.559A.25.25 0 0 1 6 10.559V5.442a.25.25 0 0 1 .379-.215Z"></path>
</svg>
        <span data-content="Actions">Actions</span>
          <span id="actions-repo-tab-count" data-pjax-replace="" data-turbo-replace="" title="Not available" data-view-component="true" class="Counter"></span>


    
</a></li>
      <li data-view-component="true" class="d-inline-flex">
  <a id="projects-tab" href="/krishnaik06/mlproject/projects" data-tab-item="i4projects-tab" data-selected-links="repo_projects new_repo_project repo_project /krishnaik06/mlproject/projects" data-pjax="#repo-content-pjax-container" data-turbo-frame="repo-content-turbo-frame" data-hotkey="g b" data-analytics-event="{&quot;category&quot;:&quot;Underline navbar&quot;,&quot;action&quot;:&quot;Click tab&quot;,&quot;label&quot;:&quot;Projects&quot;,&quot;target&quot;:&quot;UNDERLINE_NAV.TAB&quot;}" data-view-component="true" class="UnderlineNav-item no-wrap js-responsive-underlinenav-item js-selected-navigation-item">
    
              <svg aria-hidden="true" height="16" viewBox="0 0 16 16" version="1.1" width="16" data-view-component="true" class="octicon octicon-table UnderlineNav-octicon d-none d-sm-inline">
    <path d="M0 1.75C0 .784.784 0 1.75 0h12.5C15.216 0 16 .784 16 1.75v12.5A1.75 1.75 0 0 1 14.25 16H1.75A1.75 1.75 0 0 1 0 14.25ZM6.5 6.5v8h7.75a.25.25 0 0 0 .25-.25V6.5Zm8-1.5V1.75a.25.25 0 0 0-.25-.25H6.5V5Zm-13 1.5v7.75c0 .138.112.25.25.25H5v-8ZM5 5V1.5H1.75a.25.25 0 0 0-.25.25V5Z"></path>
</svg>
        <span data-content="Projects">Projects</span>
          <span id="projects-repo-tab-count" data-pjax-replace="" data-turbo-replace="" title="0" hidden="hidden" data-view-component="true" class="Counter">0</span>


    
</a></li>
      <li data-view-component="true" class="d-inline-flex">
  <a id="security-tab" href="/krishnaik06/mlproject/security" data-tab-item="i5security-tab" data-selected-links="security overview alerts policy token_scanning code_scanning /krishnaik06/mlproject/security" data-pjax="#repo-content-pjax-container" data-turbo-frame="repo-content-turbo-frame" data-hotkey="g s" data-analytics-event="{&quot;category&quot;:&quot;Underline navbar&quot;,&quot;action&quot;:&quot;Click tab&quot;,&quot;label&quot;:&quot;Security&quot;,&quot;target&quot;:&quot;UNDERLINE_NAV.TAB&quot;}" data-view-component="true" class="UnderlineNav-item no-wrap js-responsive-underlinenav-item js-selected-navigation-item">
    
              <svg aria-hidden="true" height="16" viewBox="0 0 16 16" version="1.1" width="16" data-view-component="true" class="octicon octicon-shield UnderlineNav-octicon d-none d-sm-inline">
    <path d="M7.467.133a1.748 1.748 0 0 1 1.066 0l5.25 1.68A1.75 1.75 0 0 1 15 3.48V7c0 1.566-.32 3.182-1.303 4.682-.983 1.498-2.585 2.813-5.032 3.855a1.697 1.697 0 0 1-1.33 0c-2.447-1.042-4.049-2.357-5.032-3.855C1.32 10.182 1 8.566 1 7V3.48a1.75 1.75 0 0 1 1.217-1.667Zm.61 1.429a.25.25 0 0 0-.153 0l-5.25 1.68a.25.25 0 0 0-.174.238V7c0 1.358.275 2.666 1.057 3.86.784 1.194 2.121 2.34 4.366 3.297a.196.196 0 0 0 .154 0c2.245-.956 3.582-2.104 4.366-3.298C13.225 9.666 13.5 8.36 13.5 7V3.48a.251.251 0 0 0-.174-.237l-5.25-1.68ZM8.75 4.75v3a.75.75 0 0 1-1.5 0v-3a.75.75 0 0 1 1.5 0ZM9 10.5a1 1 0 1 1-2 0 1 1 0 0 1 2 0Z"></path>
</svg>
        <span data-content="Security">Security</span>
          <include-fragment src="/krishnaik06/mlproject/security/overall-count" accept="text/fragment+html"></include-fragment>

    
</a></li>
      <li data-view-component="true" class="d-inline-flex">
  <a id="insights-tab" href="/krishnaik06/mlproject/pulse" data-tab-item="i6insights-tab" data-selected-links="repo_graphs repo_contributors dependency_graph dependabot_updates pulse people community /krishnaik06/mlproject/pulse" data-pjax="#repo-content-pjax-container" data-turbo-frame="repo-content-turbo-frame" data-analytics-event="{&quot;category&quot;:&quot;Underline navbar&quot;,&quot;action&quot;:&quot;Click tab&quot;,&quot;label&quot;:&quot;Insights&quot;,&quot;target&quot;:&quot;UNDERLINE_NAV.TAB&quot;}" data-view-component="true" class="UnderlineNav-item no-wrap js-responsive-underlinenav-item js-selected-navigation-item">
    
              <svg aria-hidden="true" height="16" viewBox="0 0 16 16" version="1.1" width="16" data-view-component="true" class="octicon octicon-graph UnderlineNav-octicon d-none d-sm-inline">
    <path d="M1.5 1.75V13.5h13.75a.75.75 0 0 1 0 1.5H.75a.75.75 0 0 1-.75-.75V1.75a.75.75 0 0 1 1.5 0Zm14.28 2.53-5.25 5.25a.75.75 0 0 1-1.06 0L7 7.06 4.28 9.78a.751.751 0 0 1-1.042-.018.751.751 0 0 1-.018-1.042l3.25-3.25a.75.75 0 0 1 1.06 0L10 7.94l4.72-4.72a.751.751 0 0 1 1.042.018.751.751 0 0 1 .018 1.042Z"></path>
</svg>
        <span data-content="Insights">Insights</span>
          <span id="insights-repo-tab-count" data-pjax-replace="" data-turbo-replace="" title="Not available" data-view-component="true" class="Counter"></span>


    
</a></li>
</ul>
    <div style="visibility:hidden;" data-view-component="true" class="UnderlineNav-actions js-responsive-underlinenav-overflow position-absolute pr-3 pr-md-4 pr-lg-5 right-0">        <details data-view-component="true" class="details-overlay details-reset position-relative">
    <summary role="button" data-view-component="true">          <div class="UnderlineNav-item mr-0 border-0">
            <svg aria-hidden="true" height="16" viewBox="0 0 16 16" version="1.1" width="16" data-view-component="true" class="octicon octicon-kebab-horizontal">
    <path d="M8 9a1.5 1.5 0 1 0 0-3 1.5 1.5 0 0 0 0 3ZM1.5 9a1.5 1.5 0 1 0 0-3 1.5 1.5 0 0 0 0 3Zm13 0a1.5 1.5 0 1 0 0-3 1.5 1.5 0 0 0 0 3Z"></path>
</svg>
            <span class="sr-only">More</span>
          </div>
</summary>
    <details-menu role="menu" data-view-component="true" class="dropdown-menu dropdown-menu-sw">          <ul>
              <li data-menu-item="i0code-tab" hidden>
                <a role="menuitem" class="js-selected-navigation-item dropdown-item" data-selected-links="repo_source repo_downloads repo_commits repo_releases repo_tags repo_branches repo_packages repo_deployments /krishnaik06/mlproject" href="/krishnaik06/mlproject">
                  Code
</a>              </li>
              <li data-menu-item="i1issues-tab" hidden>
                <a role="menuitem" class="js-selected-navigation-item dropdown-item" data-selected-links="repo_issues repo_labels repo_milestones /krishnaik06/mlproject/issues" href="/krishnaik06/mlproject/issues">
                  Issues
</a>              </li>
              <li data-menu-item="i2pull-requests-tab" hidden>
                <a role="menuitem" class="js-selected-navigation-item dropdown-item" data-selected-links="repo_pulls checks /krishnaik06/mlproject/pulls" href="/krishnaik06/mlproject/pulls">
                  Pull requests
</a>              </li>
              <li data-menu-item="i3actions-tab" hidden>
                <a role="menuitem" class="js-selected-navigation-item dropdown-item" data-selected-links="repo_actions /krishnaik06/mlproject/actions" href="/krishnaik06/mlproject/actions">
                  Actions
</a>              </li>
              <li data-menu-item="i4projects-tab" hidden>
                <a role="menuitem" class="js-selected-navigation-item dropdown-item" data-selected-links="repo_projects new_repo_project repo_project /krishnaik06/mlproject/projects" href="/krishnaik06/mlproject/projects">
                  Projects
</a>              </li>
              <li data-menu-item="i5security-tab" hidden>
                <a role="menuitem" class="js-selected-navigation-item dropdown-item" data-selected-links="security overview alerts policy token_scanning code_scanning /krishnaik06/mlproject/security" href="/krishnaik06/mlproject/security">
                  Security
</a>              </li>
              <li data-menu-item="i6insights-tab" hidden>
                <a role="menuitem" class="js-selected-navigation-item dropdown-item" data-selected-links="repo_graphs repo_contributors dependency_graph dependabot_updates pulse people community /krishnaik06/mlproject/pulse" href="/krishnaik06/mlproject/pulse">
                  Insights
</a>              </li>
          </ul>
</details-menu>
</details></div>
</nav>
      </div>
</header>


      <div hidden="hidden" data-view-component="true" class="js-stale-session-flash flash flash-warn mb-3">
  
        <svg aria-hidden="true" height="16" viewBox="0 0 16 16" version="1.1" width="16" data-view-component="true" class="octicon octicon-alert">
    <path d="M6.457 1.047c.659-1.234 2.427-1.234 3.086 0l6.082 11.378A1.75 1.75 0 0 1 14.082 15H1.918a1.75 1.75 0 0 1-1.543-2.575Zm1.763.707a.25.25 0 0 0-.44 0L1.698 13.132a.25.25 0 0 0 .22.368h12.164a.25.25 0 0 0 .22-.368Zm.53 3.996v2.5a.75.75 0 0 1-1.5 0v-2.5a.75.75 0 0 1 1.5 0ZM9 11a1 1 0 1 1-2 0 1 1 0 0 1 2 0Z"></path>
</svg>
        <span class="js-stale-session-flash-signed-in" hidden>You signed in with another tab or window. <a href="">Reload</a> to refresh your session.</span>
        <span class="js-stale-session-flash-signed-out" hidden>You signed out in another tab or window. <a href="">Reload</a> to refresh your session.</span>
        <span class="js-stale-session-flash-switched" hidden>You switched accounts on another tab or window. <a href="">Reload</a> to refresh your session.</span>

    <button class="flash-close js-flash-close" type="button" aria-label="Close">
      <svg aria-hidden="true" height="16" viewBox="0 0 16 16" version="1.1" width="16" data-view-component="true" class="octicon octicon-x">
    <path d="M3.72 3.72a.75.75 0 0 1 1.06 0L8 6.94l3.22-3.22a.749.749 0 0 1 1.275.326.749.749 0 0 1-.215.734L9.06 8l3.22 3.22a.749.749 0 0 1-.326 1.275.749.749 0 0 1-.734-.215L8 9.06l-3.22 3.22a.751.751 0 0 1-1.042-.018.751.751 0 0 1-.018-1.042L6.94 8 3.72 4.78a.75.75 0 0 1 0-1.06Z"></path>
</svg>
    </button>

  
</div>
          
    </div>

  <div id="start-of-content" class="show-on-focus"></div>








    <div id="js-flash-container" data-turbo-replace>





  <template class="js-flash-template">
    
<div class="flash flash-full   {{ className }}">
  <div class="px-2" >
    <button autofocus class="flash-close js-flash-close" type="button" aria-label="Dismiss this message">
      <svg aria-hidden="true" height="16" viewBox="0 0 16 16" version="1.1" width="16" data-view-component="true" class="octicon octicon-x">
    <path d="M3.72 3.72a.75.75 0 0 1 1.06 0L8 6.94l3.22-3.22a.749.749 0 0 1 1.275.326.749.749 0 0 1-.215.734L9.06 8l3.22 3.22a.749.749 0 0 1-.326 1.275.749.749 0 0 1-.734-.215L8 9.06l-3.22 3.22a.751.751 0 0 1-1.042-.018.751.751 0 0 1-.018-1.042L6.94 8 3.72 4.78a.75.75 0 0 1 0-1.06Z"></path>
</svg>
    </button>
    <div aria-atomic="true" role="alert" class="js-flash-alert">
      
      <div>{{ message }}</div>

    </div>
  </div>
</div>
  </template>
</div>


    
    <notification-shelf-watcher data-base-url="https://github.com/notifications/beta/shelf" data-channel="eyJjIjoibm90aWZpY2F0aW9uLWNoYW5nZWQ6MTE0MjI4MjcwIiwidCI6MTY5MDMwNTMxOX0=--b8c82806c1b8c5b21030e22a790b4838e2dd3f5e20ffb83dd3c24d357a3ec42a" data-view-component="true" class="js-socket-channel"></notification-shelf-watcher>
  <div hidden data-initial data-target="notification-shelf-watcher.placeholder"></div>






      <details
  class="details-reset details-overlay details-overlay-dark js-command-palette-dialog"
  id="command-palette-pjax-container"
  data-turbo-replace
>
  <summary aria-label="command palette trigger" tabindex="-1"></summary>
  <details-dialog class="command-palette-details-dialog d-flex flex-column flex-justify-center height-fit" aria-label="command palette">
    <command-palette
      class="command-palette color-bg-default rounded-3 border color-shadow-small"
      return-to=/krishnaik06/mlproject/blob/main/notebook/2.%20MODEL%20TRAINING.ipynb
      user-id="114228270"
      activation-hotkey="Mod+k,Mod+Alt+k"
      command-mode-hotkey="Mod+Shift+k"
      data-action="
        command-palette-input-ready:command-palette#inputReady
        command-palette-page-stack-updated:command-palette#updateInputScope
        itemsUpdated:command-palette#itemsUpdated
        keydown:command-palette#onKeydown
        loadingStateChanged:command-palette#loadingStateChanged
        selectedItemChanged:command-palette#selectedItemChanged
        pageFetchError:command-palette#pageFetchError
      ">

        <command-palette-mode
          data-char="#"
            data-scope-types="[&quot;&quot;]"
            data-placeholder="Search issues and pull requests"
        ></command-palette-mode>
        <command-palette-mode
          data-char="#"
            data-scope-types="[&quot;owner&quot;,&quot;repository&quot;]"
            data-placeholder="Search issues, pull requests, discussions, and projects"
        ></command-palette-mode>
        <command-palette-mode
          data-char="!"
            data-scope-types="[&quot;owner&quot;,&quot;repository&quot;]"
            data-placeholder="Search projects"
        ></command-palette-mode>
        <command-palette-mode
          data-char="@"
            data-scope-types="[&quot;&quot;]"
            data-placeholder="Search or jump to a user, organization, or repository"
        ></command-palette-mode>
        <command-palette-mode
          data-char="@"
            data-scope-types="[&quot;owner&quot;]"
            data-placeholder="Search or jump to a repository"
        ></command-palette-mode>
        <command-palette-mode
          data-char="/"
            data-scope-types="[&quot;repository&quot;]"
            data-placeholder="Search files"
        ></command-palette-mode>
        <command-palette-mode
          data-char="?"
        ></command-palette-mode>
        <command-palette-mode
          data-char="&gt;"
            data-placeholder="Run a command"
        ></command-palette-mode>
        <command-palette-mode
          data-char=""
            data-scope-types="[&quot;&quot;]"
            data-placeholder="Search or jump to..."
        ></command-palette-mode>
        <command-palette-mode
          data-char=""
            data-scope-types="[&quot;owner&quot;]"
            data-placeholder="Search or jump to..."
        ></command-palette-mode>
      <command-palette-mode
        class="js-command-palette-default-mode"
        data-char=""
        data-placeholder="Search or jump to..."
      ></command-palette-mode>

      <command-palette-input placeholder="Search or jump to..."

        data-action="
          command-palette-input:command-palette#onInput
          command-palette-select:command-palette#onSelect
          command-palette-descope:command-palette#onDescope
          command-palette-cleared:command-palette#onInputClear
        "
      >
        <div class="js-search-icon d-flex flex-items-center mr-2" style="height: 26px">
          <svg aria-hidden="true" height="16" viewBox="0 0 16 16" version="1.1" width="16" data-view-component="true" class="octicon octicon-search color-fg-muted">
    <path d="M10.68 11.74a6 6 0 0 1-7.922-8.982 6 6 0 0 1 8.982 7.922l3.04 3.04a.749.749 0 0 1-.326 1.275.749.749 0 0 1-.734-.215ZM11.5 7a4.499 4.499 0 1 0-8.997 0A4.499 4.499 0 0 0 11.5 7Z"></path>
</svg>
        </div>
        <div class="js-spinner d-flex flex-items-center mr-2 color-fg-muted" hidden>
          <svg aria-label="Loading" class="anim-rotate" viewBox="0 0 16 16" fill="none" width="16" height="16">
            <circle
              cx="8"
              cy="8"
              r="7"
              stroke="currentColor"
              stroke-opacity="0.25"
              stroke-width="2"
              vector-effect="non-scaling-stroke"
            ></circle>
            <path
              d="M15 8a7.002 7.002 0 00-7-7"
              stroke="currentColor"
              stroke-width="2"
              stroke-linecap="round"
              vector-effect="non-scaling-stroke"
            ></path>
          </svg>
        </div>
        <command-palette-scope >
          <div data-target="command-palette-scope.placeholder" hidden class="color-fg-subtle">/&nbsp;&nbsp;<span class="text-semibold color-fg-default">...</span>&nbsp;&nbsp;/&nbsp;&nbsp;</div>
              <command-palette-token
                data-text="krishnaik06"
                data-id="MDQ6VXNlcjIwMDQxMjMx"
                data-type="owner"
                data-value="krishnaik06"
                data-targets="command-palette-scope.tokens"
                class="color-fg-default text-semibold"
                style="white-space:nowrap;line-height:20px;"
                >krishnaik06<span class="color-fg-subtle text-normal">&nbsp;&nbsp;/&nbsp;&nbsp;</span></command-palette-token>
              <command-palette-token
                data-text="mlproject"
                data-id="R_kgDOJFfRyw"
                data-type="repository"
                data-value="mlproject"
                data-targets="command-palette-scope.tokens"
                class="color-fg-default text-semibold"
                style="white-space:nowrap;line-height:20px;"
                >mlproject<span class="color-fg-subtle text-normal">&nbsp;&nbsp;/&nbsp;&nbsp;</span></command-palette-token>
        </command-palette-scope>
        <div class="command-palette-input-group flex-1 form-control border-0 box-shadow-none" style="z-index: 0">
          <div class="command-palette-typeahead position-absolute d-flex flex-items-center Truncate">
            <span class="typeahead-segment input-mirror" data-target="command-palette-input.mirror"></span>
            <span class="Truncate-text" data-target="command-palette-input.typeaheadText"></span>
            <span class="typeahead-segment" data-target="command-palette-input.typeaheadPlaceholder"></span>
          </div>
          <input
            class="js-overlay-input typeahead-input d-none"
            disabled
            tabindex="-1"
            aria-label="Hidden input for typeahead"
          >
          <input
            type="text"
            autocomplete="off"
            autocorrect="off"
            autocapitalize="off"
            spellcheck="false"
            class="js-input typeahead-input form-control border-0 box-shadow-none input-block width-full no-focus-indicator"
            aria-label="Command palette input"
            aria-haspopup="listbox"
            aria-expanded="false"
            aria-autocomplete="list"
            aria-controls="command-palette-page-stack"
            role="combobox"
            data-action="
              input:command-palette-input#onInput
              keydown:command-palette-input#onKeydown
            "
          >
        </div>
          <div data-view-component="true" class="position-relative d-inline-block">
    <button aria-keyshortcuts="Control+Backspace" data-action="click:command-palette-input#onClear keypress:command-palette-input#onClear" data-target="command-palette-input.clearButton" id="command-palette-clear-button" hidden="hidden" type="button" data-view-component="true" class="btn-octicon command-palette-input-clear-button">      <svg aria-hidden="true" height="16" viewBox="0 0 16 16" version="1.1" width="16" data-view-component="true" class="octicon octicon-x-circle-fill">
    <path d="M2.343 13.657A8 8 0 1 1 13.658 2.343 8 8 0 0 1 2.343 13.657ZM6.03 4.97a.751.751 0 0 0-1.042.018.751.751 0 0 0-.018 1.042L6.94 8 4.97 9.97a.749.749 0 0 0 .326 1.275.749.749 0 0 0 .734-.215L8 9.06l1.97 1.97a.749.749 0 0 0 1.275-.326.749.749 0 0 0-.215-.734L9.06 8l1.97-1.97a.749.749 0 0 0-.326-1.275.749.749 0 0 0-.734.215L8 6.94Z"></path>
</svg>
</button>    <tool-tip id="tooltip-d21bdac1-e2ac-4f98-bb9f-fa576dcf1e59" for="command-palette-clear-button" popover="manual" data-direction="w" data-type="label" data-view-component="true" class="sr-only position-absolute">Clear Command Palette</tool-tip>
</div>
      </command-palette-input>

      <command-palette-page-stack
        data-default-scope-id="R_kgDOJFfRyw"
        data-default-scope-type="Repository"
        data-action="command-palette-page-octicons-cached:command-palette-page-stack#cacheOcticons"
      >
          <command-palette-tip
            class="color-fg-muted f6 px-3 py-1 my-2"
              data-scope-types="[&quot;&quot;,&quot;owner&quot;,&quot;repository&quot;]"
            data-mode=""
            data-value="">
            <div class="d-flex flex-items-start flex-justify-between">
              <div>
                <span class="text-bold">Tip:</span>
                  Type <kbd class="hx_kbd">#</kbd> to search pull requests
              </div>
              <div class="ml-2 flex-shrink-0">
                Type <kbd class="hx_kbd">?</kbd> for help and tips
              </div>
            </div>
          </command-palette-tip>
          <command-palette-tip
            class="color-fg-muted f6 px-3 py-1 my-2"
              data-scope-types="[&quot;&quot;,&quot;owner&quot;,&quot;repository&quot;]"
            data-mode=""
            data-value="">
            <div class="d-flex flex-items-start flex-justify-between">
              <div>
                <span class="text-bold">Tip:</span>
                  Type <kbd class="hx_kbd">#</kbd> to search issues
              </div>
              <div class="ml-2 flex-shrink-0">
                Type <kbd class="hx_kbd">?</kbd> for help and tips
              </div>
            </div>
          </command-palette-tip>
          <command-palette-tip
            class="color-fg-muted f6 px-3 py-1 my-2"
              data-scope-types="[&quot;owner&quot;,&quot;repository&quot;]"
            data-mode=""
            data-value="">
            <div class="d-flex flex-items-start flex-justify-between">
              <div>
                <span class="text-bold">Tip:</span>
                  Type <kbd class="hx_kbd">#</kbd> to search discussions
              </div>
              <div class="ml-2 flex-shrink-0">
                Type <kbd class="hx_kbd">?</kbd> for help and tips
              </div>
            </div>
          </command-palette-tip>
          <command-palette-tip
            class="color-fg-muted f6 px-3 py-1 my-2"
              data-scope-types="[&quot;owner&quot;,&quot;repository&quot;]"
            data-mode=""
            data-value="">
            <div class="d-flex flex-items-start flex-justify-between">
              <div>
                <span class="text-bold">Tip:</span>
                  Type <kbd class="hx_kbd">!</kbd> to search projects
              </div>
              <div class="ml-2 flex-shrink-0">
                Type <kbd class="hx_kbd">?</kbd> for help and tips
              </div>
            </div>
          </command-palette-tip>
          <command-palette-tip
            class="color-fg-muted f6 px-3 py-1 my-2"
              data-scope-types="[&quot;owner&quot;]"
            data-mode=""
            data-value="">
            <div class="d-flex flex-items-start flex-justify-between">
              <div>
                <span class="text-bold">Tip:</span>
                  Type <kbd class="hx_kbd">@</kbd> to search teams
              </div>
              <div class="ml-2 flex-shrink-0">
                Type <kbd class="hx_kbd">?</kbd> for help and tips
              </div>
            </div>
          </command-palette-tip>
          <command-palette-tip
            class="color-fg-muted f6 px-3 py-1 my-2"
              data-scope-types="[&quot;&quot;]"
            data-mode=""
            data-value="">
            <div class="d-flex flex-items-start flex-justify-between">
              <div>
                <span class="text-bold">Tip:</span>
                  Type <kbd class="hx_kbd">@</kbd> to search people and organizations
              </div>
              <div class="ml-2 flex-shrink-0">
                Type <kbd class="hx_kbd">?</kbd> for help and tips
              </div>
            </div>
          </command-palette-tip>
          <command-palette-tip
            class="color-fg-muted f6 px-3 py-1 my-2"
              data-scope-types="[&quot;&quot;,&quot;owner&quot;,&quot;repository&quot;]"
            data-mode=""
            data-value="">
            <div class="d-flex flex-items-start flex-justify-between">
              <div>
                <span class="text-bold">Tip:</span>
                  Type <kbd class="hx_kbd">&gt;</kbd> to activate command mode
              </div>
              <div class="ml-2 flex-shrink-0">
                Type <kbd class="hx_kbd">?</kbd> for help and tips
              </div>
            </div>
          </command-palette-tip>
          <command-palette-tip
            class="color-fg-muted f6 px-3 py-1 my-2"
              data-scope-types="[&quot;&quot;,&quot;owner&quot;,&quot;repository&quot;]"
            data-mode=""
            data-value="">
            <div class="d-flex flex-items-start flex-justify-between">
              <div>
                <span class="text-bold">Tip:</span>
                  Go to your accessibility settings to change your keyboard shortcuts
              </div>
              <div class="ml-2 flex-shrink-0">
                Type <kbd class="hx_kbd">?</kbd> for help and tips
              </div>
            </div>
          </command-palette-tip>
          <command-palette-tip
            class="color-fg-muted f6 px-3 py-1 my-2"
              data-scope-types="[&quot;&quot;,&quot;owner&quot;,&quot;repository&quot;]"
            data-mode="#"
            data-value="">
            <div class="d-flex flex-items-start flex-justify-between">
              <div>
                <span class="text-bold">Tip:</span>
                  Type author:@me to search your content
              </div>
              <div class="ml-2 flex-shrink-0">
                Type <kbd class="hx_kbd">?</kbd> for help and tips
              </div>
            </div>
          </command-palette-tip>
          <command-palette-tip
            class="color-fg-muted f6 px-3 py-1 my-2"
              data-scope-types="[&quot;&quot;,&quot;owner&quot;,&quot;repository&quot;]"
            data-mode="#"
            data-value="">
            <div class="d-flex flex-items-start flex-justify-between">
              <div>
                <span class="text-bold">Tip:</span>
                  Type is:pr to filter to pull requests
              </div>
              <div class="ml-2 flex-shrink-0">
                Type <kbd class="hx_kbd">?</kbd> for help and tips
              </div>
            </div>
          </command-palette-tip>
          <command-palette-tip
            class="color-fg-muted f6 px-3 py-1 my-2"
              data-scope-types="[&quot;&quot;,&quot;owner&quot;,&quot;repository&quot;]"
            data-mode="#"
            data-value="">
            <div class="d-flex flex-items-start flex-justify-between">
              <div>
                <span class="text-bold">Tip:</span>
                  Type is:issue to filter to issues
              </div>
              <div class="ml-2 flex-shrink-0">
                Type <kbd class="hx_kbd">?</kbd> for help and tips
              </div>
            </div>
          </command-palette-tip>
          <command-palette-tip
            class="color-fg-muted f6 px-3 py-1 my-2"
              data-scope-types="[&quot;owner&quot;,&quot;repository&quot;]"
            data-mode="#"
            data-value="">
            <div class="d-flex flex-items-start flex-justify-between">
              <div>
                <span class="text-bold">Tip:</span>
                  Type is:project to filter to projects
              </div>
              <div class="ml-2 flex-shrink-0">
                Type <kbd class="hx_kbd">?</kbd> for help and tips
              </div>
            </div>
          </command-palette-tip>
          <command-palette-tip
            class="color-fg-muted f6 px-3 py-1 my-2"
              data-scope-types="[&quot;&quot;,&quot;owner&quot;,&quot;repository&quot;]"
            data-mode="#"
            data-value="">
            <div class="d-flex flex-items-start flex-justify-between">
              <div>
                <span class="text-bold">Tip:</span>
                  Type is:open to filter to open content
              </div>
              <div class="ml-2 flex-shrink-0">
                Type <kbd class="hx_kbd">?</kbd> for help and tips
              </div>
            </div>
          </command-palette-tip>
        <command-palette-tip class="mx-3 my-2 flash flash-error d-flex flex-items-center" data-scope-types="*" data-on-error>
          <div>
            <svg aria-hidden="true" height="16" viewBox="0 0 16 16" version="1.1" width="16" data-view-component="true" class="octicon octicon-alert">
    <path d="M6.457 1.047c.659-1.234 2.427-1.234 3.086 0l6.082 11.378A1.75 1.75 0 0 1 14.082 15H1.918a1.75 1.75 0 0 1-1.543-2.575Zm1.763.707a.25.25 0 0 0-.44 0L1.698 13.132a.25.25 0 0 0 .22.368h12.164a.25.25 0 0 0 .22-.368Zm.53 3.996v2.5a.75.75 0 0 1-1.5 0v-2.5a.75.75 0 0 1 1.5 0ZM9 11a1 1 0 1 1-2 0 1 1 0 0 1 2 0Z"></path>
</svg>
          </div>
          <div class="px-2">
            We’ve encountered an error and some results aren't available at this time. Type a new search or try again later.
          </div>
        </command-palette-tip>
        <command-palette-tip class="h4 color-fg-default pl-3 pb-2 pt-3" data-on-empty data-scope-types="*" data-match-mode="[^?]|^$">
          No results matched your search
        </command-palette-tip>

        <div hidden>

            <div data-targets="command-palette-page-stack.localOcticons" data-octicon-id="arrow-right-color-fg-muted">
              <svg height="16" class="octicon octicon-arrow-right color-fg-muted" viewBox="0 0 16 16" version="1.1" width="16" aria-hidden="true"><path d="M8.22 2.97a.75.75 0 0 1 1.06 0l4.25 4.25a.75.75 0 0 1 0 1.06l-4.25 4.25a.751.751 0 0 1-1.042-.018.751.751 0 0 1-.018-1.042l2.97-2.97H3.75a.75.75 0 0 1 0-1.5h7.44L8.22 4.03a.75.75 0 0 1 0-1.06Z"></path></svg>
            </div>
            <div data-targets="command-palette-page-stack.localOcticons" data-octicon-id="arrow-right-color-fg-default">
              <svg height="16" class="octicon octicon-arrow-right color-fg-default" viewBox="0 0 16 16" version="1.1" width="16" aria-hidden="true"><path d="M8.22 2.97a.75.75 0 0 1 1.06 0l4.25 4.25a.75.75 0 0 1 0 1.06l-4.25 4.25a.751.751 0 0 1-1.042-.018.751.751 0 0 1-.018-1.042l2.97-2.97H3.75a.75.75 0 0 1 0-1.5h7.44L8.22 4.03a.75.75 0 0 1 0-1.06Z"></path></svg>
            </div>
            <div data-targets="command-palette-page-stack.localOcticons" data-octicon-id="codespaces-color-fg-muted">
              <svg height="16" class="octicon octicon-codespaces color-fg-muted" viewBox="0 0 16 16" version="1.1" width="16" aria-hidden="true"><path d="M0 11.25c0-.966.784-1.75 1.75-1.75h12.5c.966 0 1.75.784 1.75 1.75v3A1.75 1.75 0 0 1 14.25 16H1.75A1.75 1.75 0 0 1 0 14.25Zm2-9.5C2 .784 2.784 0 3.75 0h8.5C13.216 0 14 .784 14 1.75v5a1.75 1.75 0 0 1-1.75 1.75h-8.5A1.75 1.75 0 0 1 2 6.75Zm1.75-.25a.25.25 0 0 0-.25.25v5c0 .138.112.25.25.25h8.5a.25.25 0 0 0 .25-.25v-5a.25.25 0 0 0-.25-.25Zm-2 9.5a.25.25 0 0 0-.25.25v3c0 .138.112.25.25.25h12.5a.25.25 0 0 0 .25-.25v-3a.25.25 0 0 0-.25-.25Z"></path><path d="M7 12.75a.75.75 0 0 1 .75-.75h4.5a.75.75 0 0 1 0 1.5h-4.5a.75.75 0 0 1-.75-.75Zm-4 0a.75.75 0 0 1 .75-.75h.5a.75.75 0 0 1 0 1.5h-.5a.75.75 0 0 1-.75-.75Z"></path></svg>
            </div>
            <div data-targets="command-palette-page-stack.localOcticons" data-octicon-id="copy-color-fg-muted">
              <svg height="16" class="octicon octicon-copy color-fg-muted" viewBox="0 0 16 16" version="1.1" width="16" aria-hidden="true"><path d="M0 6.75C0 5.784.784 5 1.75 5h1.5a.75.75 0 0 1 0 1.5h-1.5a.25.25 0 0 0-.25.25v7.5c0 .138.112.25.25.25h7.5a.25.25 0 0 0 .25-.25v-1.5a.75.75 0 0 1 1.5 0v1.5A1.75 1.75 0 0 1 9.25 16h-7.5A1.75 1.75 0 0 1 0 14.25Z"></path><path d="M5 1.75C5 .784 5.784 0 6.75 0h7.5C15.216 0 16 .784 16 1.75v7.5A1.75 1.75 0 0 1 14.25 11h-7.5A1.75 1.75 0 0 1 5 9.25Zm1.75-.25a.25.25 0 0 0-.25.25v7.5c0 .138.112.25.25.25h7.5a.25.25 0 0 0 .25-.25v-7.5a.25.25 0 0 0-.25-.25Z"></path></svg>
            </div>
            <div data-targets="command-palette-page-stack.localOcticons" data-octicon-id="dash-color-fg-muted">
              <svg height="16" class="octicon octicon-dash color-fg-muted" viewBox="0 0 16 16" version="1.1" width="16" aria-hidden="true"><path d="M2 7.75A.75.75 0 0 1 2.75 7h10a.75.75 0 0 1 0 1.5h-10A.75.75 0 0 1 2 7.75Z"></path></svg>
            </div>
            <div data-targets="command-palette-page-stack.localOcticons" data-octicon-id="file-color-fg-muted">
              <svg height="16" class="octicon octicon-file color-fg-muted" viewBox="0 0 16 16" version="1.1" width="16" aria-hidden="true"><path d="M2 1.75C2 .784 2.784 0 3.75 0h6.586c.464 0 .909.184 1.237.513l2.914 2.914c.329.328.513.773.513 1.237v9.586A1.75 1.75 0 0 1 13.25 16h-9.5A1.75 1.75 0 0 1 2 14.25Zm1.75-.25a.25.25 0 0 0-.25.25v12.5c0 .138.112.25.25.25h9.5a.25.25 0 0 0 .25-.25V6h-2.75A1.75 1.75 0 0 1 9 4.25V1.5Zm6.75.062V4.25c0 .138.112.25.25.25h2.688l-.011-.013-2.914-2.914-.013-.011Z"></path></svg>
            </div>
            <div data-targets="command-palette-page-stack.localOcticons" data-octicon-id="gear-color-fg-muted">
              <svg height="16" class="octicon octicon-gear color-fg-muted" viewBox="0 0 16 16" version="1.1" width="16" aria-hidden="true"><path d="M8 0a8.2 8.2 0 0 1 .701.031C9.444.095 9.99.645 10.16 1.29l.288 1.107c.018.066.079.158.212.224.231.114.454.243.668.386.123.082.233.09.299.071l1.103-.303c.644-.176 1.392.021 1.82.63.27.385.506.792.704 1.218.315.675.111 1.422-.364 1.891l-.814.806c-.049.048-.098.147-.088.294.016.257.016.515 0 .772-.01.147.038.246.088.294l.814.806c.475.469.679 1.216.364 1.891a7.977 7.977 0 0 1-.704 1.217c-.428.61-1.176.807-1.82.63l-1.102-.302c-.067-.019-.177-.011-.3.071a5.909 5.909 0 0 1-.668.386c-.133.066-.194.158-.211.224l-.29 1.106c-.168.646-.715 1.196-1.458 1.26a8.006 8.006 0 0 1-1.402 0c-.743-.064-1.289-.614-1.458-1.26l-.289-1.106c-.018-.066-.079-.158-.212-.224a5.738 5.738 0 0 1-.668-.386c-.123-.082-.233-.09-.299-.071l-1.103.303c-.644.176-1.392-.021-1.82-.63a8.12 8.12 0 0 1-.704-1.218c-.315-.675-.111-1.422.363-1.891l.815-.806c.05-.048.098-.147.088-.294a6.214 6.214 0 0 1 0-.772c.01-.147-.038-.246-.088-.294l-.815-.806C.635 6.045.431 5.298.746 4.623a7.92 7.92 0 0 1 .704-1.217c.428-.61 1.176-.807 1.82-.63l1.102.302c.067.019.177.011.3-.071.214-.143.437-.272.668-.386.133-.066.194-.158.211-.224l.29-1.106C6.009.645 6.556.095 7.299.03 7.53.01 7.764 0 8 0Zm-.571 1.525c-.036.003-.108.036-.137.146l-.289 1.105c-.147.561-.549.967-.998 1.189-.173.086-.34.183-.5.29-.417.278-.97.423-1.529.27l-1.103-.303c-.109-.03-.175.016-.195.045-.22.312-.412.644-.573.99-.014.031-.021.11.059.19l.815.806c.411.406.562.957.53 1.456a4.709 4.709 0 0 0 0 .582c.032.499-.119 1.05-.53 1.456l-.815.806c-.081.08-.073.159-.059.19.162.346.353.677.573.989.02.03.085.076.195.046l1.102-.303c.56-.153 1.113-.008 1.53.27.161.107.328.204.501.29.447.222.85.629.997 1.189l.289 1.105c.029.109.101.143.137.146a6.6 6.6 0 0 0 1.142 0c.036-.003.108-.036.137-.146l.289-1.105c.147-.561.549-.967.998-1.189.173-.086.34-.183.5-.29.417-.278.97-.423 1.529-.27l1.103.303c.109.029.175-.016.195-.045.22-.313.411-.644.573-.99.014-.031.021-.11-.059-.19l-.815-.806c-.411-.406-.562-.957-.53-1.456a4.709 4.709 0 0 0 0-.582c-.032-.499.119-1.05.53-1.456l.815-.806c.081-.08.073-.159.059-.19a6.464 6.464 0 0 0-.573-.989c-.02-.03-.085-.076-.195-.046l-1.102.303c-.56.153-1.113.008-1.53-.27a4.44 4.44 0 0 0-.501-.29c-.447-.222-.85-.629-.997-1.189l-.289-1.105c-.029-.11-.101-.143-.137-.146a6.6 6.6 0 0 0-1.142 0ZM11 8a3 3 0 1 1-6 0 3 3 0 0 1 6 0ZM9.5 8a1.5 1.5 0 1 0-3.001.001A1.5 1.5 0 0 0 9.5 8Z"></path></svg>
            </div>
            <div data-targets="command-palette-page-stack.localOcticons" data-octicon-id="lock-color-fg-muted">
              <svg height="16" class="octicon octicon-lock color-fg-muted" viewBox="0 0 16 16" version="1.1" width="16" aria-hidden="true"><path d="M4 4a4 4 0 0 1 8 0v2h.25c.966 0 1.75.784 1.75 1.75v5.5A1.75 1.75 0 0 1 12.25 15h-8.5A1.75 1.75 0 0 1 2 13.25v-5.5C2 6.784 2.784 6 3.75 6H4Zm8.25 3.5h-8.5a.25.25 0 0 0-.25.25v5.5c0 .138.112.25.25.25h8.5a.25.25 0 0 0 .25-.25v-5.5a.25.25 0 0 0-.25-.25ZM10.5 6V4a2.5 2.5 0 1 0-5 0v2Z"></path></svg>
            </div>
            <div data-targets="command-palette-page-stack.localOcticons" data-octicon-id="moon-color-fg-muted">
              <svg height="16" class="octicon octicon-moon color-fg-muted" viewBox="0 0 16 16" version="1.1" width="16" aria-hidden="true"><path d="M9.598 1.591a.749.749 0 0 1 .785-.175 7.001 7.001 0 1 1-8.967 8.967.75.75 0 0 1 .961-.96 5.5 5.5 0 0 0 7.046-7.046.75.75 0 0 1 .175-.786Zm1.616 1.945a7 7 0 0 1-7.678 7.678 5.499 5.499 0 1 0 7.678-7.678Z"></path></svg>
            </div>
            <div data-targets="command-palette-page-stack.localOcticons" data-octicon-id="person-color-fg-muted">
              <svg height="16" class="octicon octicon-person color-fg-muted" viewBox="0 0 16 16" version="1.1" width="16" aria-hidden="true"><path d="M10.561 8.073a6.005 6.005 0 0 1 3.432 5.142.75.75 0 1 1-1.498.07 4.5 4.5 0 0 0-8.99 0 .75.75 0 0 1-1.498-.07 6.004 6.004 0 0 1 3.431-5.142 3.999 3.999 0 1 1 5.123 0ZM10.5 5a2.5 2.5 0 1 0-5 0 2.5 2.5 0 0 0 5 0Z"></path></svg>
            </div>
            <div data-targets="command-palette-page-stack.localOcticons" data-octicon-id="pencil-color-fg-muted">
              <svg height="16" class="octicon octicon-pencil color-fg-muted" viewBox="0 0 16 16" version="1.1" width="16" aria-hidden="true"><path d="M11.013 1.427a1.75 1.75 0 0 1 2.474 0l1.086 1.086a1.75 1.75 0 0 1 0 2.474l-8.61 8.61c-.21.21-.47.364-.756.445l-3.251.93a.75.75 0 0 1-.927-.928l.929-3.25c.081-.286.235-.547.445-.758l8.61-8.61Zm.176 4.823L9.75 4.81l-6.286 6.287a.253.253 0 0 0-.064.108l-.558 1.953 1.953-.558a.253.253 0 0 0 .108-.064Zm1.238-3.763a.25.25 0 0 0-.354 0L10.811 3.75l1.439 1.44 1.263-1.263a.25.25 0 0 0 0-.354Z"></path></svg>
            </div>
            <div data-targets="command-palette-page-stack.localOcticons" data-octicon-id="issue-opened-open">
              <svg height="16" class="octicon octicon-issue-opened open" viewBox="0 0 16 16" version="1.1" width="16" aria-hidden="true"><path d="M8 9.5a1.5 1.5 0 1 0 0-3 1.5 1.5 0 0 0 0 3Z"></path><path d="M8 0a8 8 0 1 1 0 16A8 8 0 0 1 8 0ZM1.5 8a6.5 6.5 0 1 0 13 0 6.5 6.5 0 0 0-13 0Z"></path></svg>
            </div>
            <div data-targets="command-palette-page-stack.localOcticons" data-octicon-id="git-pull-request-draft-color-fg-muted">
              <svg height="16" class="octicon octicon-git-pull-request-draft color-fg-muted" viewBox="0 0 16 16" version="1.1" width="16" aria-hidden="true"><path d="M3.25 1A2.25 2.25 0 0 1 4 5.372v5.256a2.251 2.251 0 1 1-1.5 0V5.372A2.251 2.251 0 0 1 3.25 1Zm9.5 14a2.25 2.25 0 1 1 0-4.5 2.25 2.25 0 0 1 0 4.5ZM2.5 3.25a.75.75 0 1 0 1.5 0 .75.75 0 0 0-1.5 0ZM3.25 12a.75.75 0 1 0 0 1.5.75.75 0 0 0 0-1.5Zm9.5 0a.75.75 0 1 0 0 1.5.75.75 0 0 0 0-1.5ZM14 7.5a1.25 1.25 0 1 1-2.5 0 1.25 1.25 0 0 1 2.5 0Zm0-4.25a1.25 1.25 0 1 1-2.5 0 1.25 1.25 0 0 1 2.5 0Z"></path></svg>
            </div>
            <div data-targets="command-palette-page-stack.localOcticons" data-octicon-id="search-color-fg-muted">
              <svg height="16" class="octicon octicon-search color-fg-muted" viewBox="0 0 16 16" version="1.1" width="16" aria-hidden="true"><path d="M10.68 11.74a6 6 0 0 1-7.922-8.982 6 6 0 0 1 8.982 7.922l3.04 3.04a.749.749 0 0 1-.326 1.275.749.749 0 0 1-.734-.215ZM11.5 7a4.499 4.499 0 1 0-8.997 0A4.499 4.499 0 0 0 11.5 7Z"></path></svg>
            </div>
            <div data-targets="command-palette-page-stack.localOcticons" data-octicon-id="sun-color-fg-muted">
              <svg height="16" class="octicon octicon-sun color-fg-muted" viewBox="0 0 16 16" version="1.1" width="16" aria-hidden="true"><path d="M8 12a4 4 0 1 1 0-8 4 4 0 0 1 0 8Zm0-1.5a2.5 2.5 0 1 0 0-5 2.5 2.5 0 0 0 0 5Zm5.657-8.157a.75.75 0 0 1 0 1.061l-1.061 1.06a.749.749 0 0 1-1.275-.326.749.749 0 0 1 .215-.734l1.06-1.06a.75.75 0 0 1 1.06 0Zm-9.193 9.193a.75.75 0 0 1 0 1.06l-1.06 1.061a.75.75 0 1 1-1.061-1.06l1.06-1.061a.75.75 0 0 1 1.061 0ZM8 0a.75.75 0 0 1 .75.75v1.5a.75.75 0 0 1-1.5 0V.75A.75.75 0 0 1 8 0ZM3 8a.75.75 0 0 1-.75.75H.75a.75.75 0 0 1 0-1.5h1.5A.75.75 0 0 1 3 8Zm13 0a.75.75 0 0 1-.75.75h-1.5a.75.75 0 0 1 0-1.5h1.5A.75.75 0 0 1 16 8Zm-8 5a.75.75 0 0 1 .75.75v1.5a.75.75 0 0 1-1.5 0v-1.5A.75.75 0 0 1 8 13Zm3.536-1.464a.75.75 0 0 1 1.06 0l1.061 1.06a.75.75 0 0 1-1.06 1.061l-1.061-1.06a.75.75 0 0 1 0-1.061ZM2.343 2.343a.75.75 0 0 1 1.061 0l1.06 1.061a.751.751 0 0 1-.018 1.042.751.751 0 0 1-1.042.018l-1.06-1.06a.75.75 0 0 1 0-1.06Z"></path></svg>
            </div>
            <div data-targets="command-palette-page-stack.localOcticons" data-octicon-id="sync-color-fg-muted">
              <svg height="16" class="octicon octicon-sync color-fg-muted" viewBox="0 0 16 16" version="1.1" width="16" aria-hidden="true"><path d="M1.705 8.005a.75.75 0 0 1 .834.656 5.5 5.5 0 0 0 9.592 2.97l-1.204-1.204a.25.25 0 0 1 .177-.427h3.646a.25.25 0 0 1 .25.25v3.646a.25.25 0 0 1-.427.177l-1.38-1.38A7.002 7.002 0 0 1 1.05 8.84a.75.75 0 0 1 .656-.834ZM8 2.5a5.487 5.487 0 0 0-4.131 1.869l1.204 1.204A.25.25 0 0 1 4.896 6H1.25A.25.25 0 0 1 1 5.75V2.104a.25.25 0 0 1 .427-.177l1.38 1.38A7.002 7.002 0 0 1 14.95 7.16a.75.75 0 0 1-1.49.178A5.5 5.5 0 0 0 8 2.5Z"></path></svg>
            </div>
            <div data-targets="command-palette-page-stack.localOcticons" data-octicon-id="trash-color-fg-muted">
              <svg height="16" class="octicon octicon-trash color-fg-muted" viewBox="0 0 16 16" version="1.1" width="16" aria-hidden="true"><path d="M11 1.75V3h2.25a.75.75 0 0 1 0 1.5H2.75a.75.75 0 0 1 0-1.5H5V1.75C5 .784 5.784 0 6.75 0h2.5C10.216 0 11 .784 11 1.75ZM4.496 6.675l.66 6.6a.25.25 0 0 0 .249.225h5.19a.25.25 0 0 0 .249-.225l.66-6.6a.75.75 0 0 1 1.492.149l-.66 6.6A1.748 1.748 0 0 1 10.595 15h-5.19a1.75 1.75 0 0 1-1.741-1.575l-.66-6.6a.75.75 0 1 1 1.492-.15ZM6.5 1.75V3h3V1.75a.25.25 0 0 0-.25-.25h-2.5a.25.25 0 0 0-.25.25Z"></path></svg>
            </div>
            <div data-targets="command-palette-page-stack.localOcticons" data-octicon-id="key-color-fg-muted">
              <svg height="16" class="octicon octicon-key color-fg-muted" viewBox="0 0 16 16" version="1.1" width="16" aria-hidden="true"><path d="M10.5 0a5.499 5.499 0 1 1-1.288 10.848l-.932.932a.749.749 0 0 1-.53.22H7v.75a.749.749 0 0 1-.22.53l-.5.5a.749.749 0 0 1-.53.22H5v.75a.749.749 0 0 1-.22.53l-.5.5a.749.749 0 0 1-.53.22h-2A1.75 1.75 0 0 1 0 14.25v-2c0-.199.079-.389.22-.53l4.932-4.932A5.5 5.5 0 0 1 10.5 0Zm-4 5.5c-.001.431.069.86.205 1.269a.75.75 0 0 1-.181.768L1.5 12.56v1.69c0 .138.112.25.25.25h1.69l.06-.06v-1.19a.75.75 0 0 1 .75-.75h1.19l.06-.06v-1.19a.75.75 0 0 1 .75-.75h1.19l1.023-1.025a.75.75 0 0 1 .768-.18A4 4 0 1 0 6.5 5.5ZM11 6a1 1 0 1 1 0-2 1 1 0 0 1 0 2Z"></path></svg>
            </div>
            <div data-targets="command-palette-page-stack.localOcticons" data-octicon-id="comment-discussion-color-fg-muted">
              <svg height="16" class="octicon octicon-comment-discussion color-fg-muted" viewBox="0 0 16 16" version="1.1" width="16" aria-hidden="true"><path d="M1.75 1h8.5c.966 0 1.75.784 1.75 1.75v5.5A1.75 1.75 0 0 1 10.25 10H7.061l-2.574 2.573A1.458 1.458 0 0 1 2 11.543V10h-.25A1.75 1.75 0 0 1 0 8.25v-5.5C0 1.784.784 1 1.75 1ZM1.5 2.75v5.5c0 .138.112.25.25.25h1a.75.75 0 0 1 .75.75v2.19l2.72-2.72a.749.749 0 0 1 .53-.22h3.5a.25.25 0 0 0 .25-.25v-5.5a.25.25 0 0 0-.25-.25h-8.5a.25.25 0 0 0-.25.25Zm13 2a.25.25 0 0 0-.25-.25h-.5a.75.75 0 0 1 0-1.5h.5c.966 0 1.75.784 1.75 1.75v5.5A1.75 1.75 0 0 1 14.25 12H14v1.543a1.458 1.458 0 0 1-2.487 1.03L9.22 12.28a.749.749 0 0 1 .326-1.275.749.749 0 0 1 .734.215l2.22 2.22v-2.19a.75.75 0 0 1 .75-.75h1a.25.25 0 0 0 .25-.25Z"></path></svg>
            </div>
            <div data-targets="command-palette-page-stack.localOcticons" data-octicon-id="bell-color-fg-muted">
              <svg height="16" class="octicon octicon-bell color-fg-muted" viewBox="0 0 16 16" version="1.1" width="16" aria-hidden="true"><path d="M8 16a2 2 0 0 0 1.985-1.75c.017-.137-.097-.25-.235-.25h-3.5c-.138 0-.252.113-.235.25A2 2 0 0 0 8 16ZM3 5a5 5 0 0 1 10 0v2.947c0 .05.015.098.042.139l1.703 2.555A1.519 1.519 0 0 1 13.482 13H2.518a1.516 1.516 0 0 1-1.263-2.36l1.703-2.554A.255.255 0 0 0 3 7.947Zm5-3.5A3.5 3.5 0 0 0 4.5 5v2.947c0 .346-.102.683-.294.97l-1.703 2.556a.017.017 0 0 0-.003.01l.001.006c0 .002.002.004.004.006l.006.004.007.001h10.964l.007-.001.006-.004.004-.006.001-.007a.017.017 0 0 0-.003-.01l-1.703-2.554a1.745 1.745 0 0 1-.294-.97V5A3.5 3.5 0 0 0 8 1.5Z"></path></svg>
            </div>
            <div data-targets="command-palette-page-stack.localOcticons" data-octicon-id="bell-slash-color-fg-muted">
              <svg height="16" class="octicon octicon-bell-slash color-fg-muted" viewBox="0 0 16 16" version="1.1" width="16" aria-hidden="true"><path d="m4.182 4.31.016.011 10.104 7.316.013.01 1.375.996a.75.75 0 1 1-.88 1.214L13.626 13H2.518a1.516 1.516 0 0 1-1.263-2.36l1.703-2.554A.255.255 0 0 0 3 7.947V5.305L.31 3.357a.75.75 0 1 1 .88-1.214Zm7.373 7.19L4.5 6.391v1.556c0 .346-.102.683-.294.97l-1.703 2.556a.017.017 0 0 0-.003.01c0 .005.002.009.005.012l.006.004.007.001ZM8 1.5c-.997 0-1.895.416-2.534 1.086A.75.75 0 1 1 4.38 1.55 5 5 0 0 1 13 5v2.373a.75.75 0 0 1-1.5 0V5A3.5 3.5 0 0 0 8 1.5ZM8 16a2 2 0 0 1-1.985-1.75c-.017-.137.097-.25.235-.25h3.5c.138 0 .252.113.235.25A2 2 0 0 1 8 16Z"></path></svg>
            </div>
            <div data-targets="command-palette-page-stack.localOcticons" data-octicon-id="paintbrush-color-fg-muted">
              <svg height="16" class="octicon octicon-paintbrush color-fg-muted" viewBox="0 0 16 16" version="1.1" width="16" aria-hidden="true"><path d="M11.134 1.535c.7-.509 1.416-.942 2.076-1.155.649-.21 1.463-.267 2.069.34.603.601.568 1.411.368 2.07-.202.668-.624 1.39-1.125 2.096-1.011 1.424-2.496 2.987-3.775 4.249-1.098 1.084-2.132 1.839-3.04 2.3a3.744 3.744 0 0 1-1.055 3.217c-.431.431-1.065.691-1.657.861-.614.177-1.294.287-1.914.357A21.151 21.151 0 0 1 .797 16H.743l.007-.75H.749L.742 16a.75.75 0 0 1-.743-.742l.743-.008-.742.007v-.054a21.25 21.25 0 0 1 .13-2.284c.067-.647.187-1.287.358-1.914.17-.591.43-1.226.86-1.657a3.746 3.746 0 0 1 3.227-1.054c.466-.893 1.225-1.907 2.314-2.982 1.271-1.255 2.833-2.75 4.245-3.777ZM1.62 13.089c-.051.464-.086.929-.104 1.395.466-.018.932-.053 1.396-.104a10.511 10.511 0 0 0 1.668-.309c.526-.151.856-.325 1.011-.48a2.25 2.25 0 1 0-3.182-3.182c-.155.155-.329.485-.48 1.01a10.515 10.515 0 0 0-.309 1.67Zm10.396-10.34c-1.224.89-2.605 2.189-3.822 3.384l1.718 1.718c1.21-1.205 2.51-2.597 3.387-3.833.47-.662.78-1.227.912-1.662.134-.444.032-.551.009-.575h-.001V1.78c-.014-.014-.113-.113-.548.027-.432.14-.995.462-1.655.942Zm-4.832 7.266-.001.001a9.859 9.859 0 0 0 1.63-1.142L7.155 7.216a9.7 9.7 0 0 0-1.161 1.607c.482.302.889.71 1.19 1.192Z"></path></svg>
            </div>

            <command-palette-item-group
              data-group-id="top"
              data-group-title="Top result"
              data-group-hint=""
              data-group-limits="{}"
              data-default-priority="0"
            >
            </command-palette-item-group>
            <command-palette-item-group
              data-group-id="commands"
              data-group-title="Commands"
              data-group-hint="Type &gt; to filter"
              data-group-limits="{&quot;static_items_page&quot;:50,&quot;issue&quot;:50,&quot;pull_request&quot;:50,&quot;discussion&quot;:50}"
              data-default-priority="1"
            >
            </command-palette-item-group>
            <command-palette-item-group
              data-group-id="global_commands"
              data-group-title="Global Commands"
              data-group-hint="Type &gt; to filter"
              data-group-limits="{&quot;issue&quot;:0,&quot;pull_request&quot;:0,&quot;discussion&quot;:0}"
              data-default-priority="2"
            >
            </command-palette-item-group>
            <command-palette-item-group
              data-group-id="this_page"
              data-group-title="This Page"
              data-group-hint=""
              data-group-limits="{}"
              data-default-priority="3"
            >
            </command-palette-item-group>
            <command-palette-item-group
              data-group-id="files"
              data-group-title="Files"
              data-group-hint=""
              data-group-limits="{}"
              data-default-priority="4"
            >
            </command-palette-item-group>
            <command-palette-item-group
              data-group-id="default"
              data-group-title="Default"
              data-group-hint=""
              data-group-limits="{&quot;static_items_page&quot;:50}"
              data-default-priority="5"
            >
            </command-palette-item-group>
            <command-palette-item-group
              data-group-id="pages"
              data-group-title="Pages"
              data-group-hint=""
              data-group-limits="{&quot;repository&quot;:10}"
              data-default-priority="6"
            >
            </command-palette-item-group>
            <command-palette-item-group
              data-group-id="access_policies"
              data-group-title="Access Policies"
              data-group-hint=""
              data-group-limits="{}"
              data-default-priority="7"
            >
            </command-palette-item-group>
            <command-palette-item-group
              data-group-id="organizations"
              data-group-title="Organizations"
              data-group-hint=""
              data-group-limits="{}"
              data-default-priority="8"
            >
            </command-palette-item-group>
            <command-palette-item-group
              data-group-id="repositories"
              data-group-title="Repositories"
              data-group-hint=""
              data-group-limits="{}"
              data-default-priority="9"
            >
            </command-palette-item-group>
            <command-palette-item-group
              data-group-id="references"
              data-group-title="Issues, pull requests, and discussions"
              data-group-hint="Type # to filter"
              data-group-limits="{}"
              data-default-priority="10"
            >
            </command-palette-item-group>
            <command-palette-item-group
              data-group-id="teams"
              data-group-title="Teams"
              data-group-hint=""
              data-group-limits="{}"
              data-default-priority="11"
            >
            </command-palette-item-group>
            <command-palette-item-group
              data-group-id="users"
              data-group-title="Users"
              data-group-hint=""
              data-group-limits="{}"
              data-default-priority="12"
            >
            </command-palette-item-group>
            <command-palette-item-group
              data-group-id="memex_projects"
              data-group-title="Projects"
              data-group-hint=""
              data-group-limits="{}"
              data-default-priority="13"
            >
            </command-palette-item-group>
            <command-palette-item-group
              data-group-id="projects"
              data-group-title="Projects (classic)"
              data-group-hint=""
              data-group-limits="{}"
              data-default-priority="14"
            >
            </command-palette-item-group>
            <command-palette-item-group
              data-group-id="footer"
              data-group-title="Footer"
              data-group-hint=""
              data-group-limits="{}"
              data-default-priority="15"
            >
            </command-palette-item-group>
            <command-palette-item-group
              data-group-id="modes_help"
              data-group-title="Modes"
              data-group-hint=""
              data-group-limits="{}"
              data-default-priority="16"
            >
            </command-palette-item-group>
            <command-palette-item-group
              data-group-id="filters_help"
              data-group-title="Use filters in issues, pull requests, discussions, and projects"
              data-group-hint=""
              data-group-limits="{}"
              data-default-priority="17"
            >
            </command-palette-item-group>

            <command-palette-page
              data-page-title="krishnaik06"
              data-scope-id="MDQ6VXNlcjIwMDQxMjMx"
              data-scope-type="owner"
              data-targets="command-palette-page-stack.defaultPages"
              hidden
            >
            </command-palette-page>
            <command-palette-page
              data-page-title="mlproject"
              data-scope-id="R_kgDOJFfRyw"
              data-scope-type="repository"
              data-targets="command-palette-page-stack.defaultPages"
              hidden
            >
            </command-palette-page>
        </div>

        <command-palette-page data-is-root>
        </command-palette-page>
          <command-palette-page
            data-page-title="krishnaik06"
            data-scope-id="MDQ6VXNlcjIwMDQxMjMx"
            data-scope-type="owner"
          >
          </command-palette-page>
          <command-palette-page
            data-page-title="mlproject"
            data-scope-id="R_kgDOJFfRyw"
            data-scope-type="repository"
          >
          </command-palette-page>
      </command-palette-page-stack>

      <server-defined-provider data-type="search-links" data-targets="command-palette.serverDefinedProviderElements"></server-defined-provider>
      <server-defined-provider data-type="help" data-targets="command-palette.serverDefinedProviderElements">
          <command-palette-help
            data-group="modes_help"
              data-prefix="#"
              data-scope-types="[&quot;&quot;]"
          >
            <span data-target="command-palette-help.titleElement">Search for <strong>issues</strong> and <strong>pull requests</strong></span>
              <span data-target="command-palette-help.hintElement">
                <kbd class="hx_kbd">#</kbd>
              </span>
          </command-palette-help>
          <command-palette-help
            data-group="modes_help"
              data-prefix="#"
              data-scope-types="[&quot;owner&quot;,&quot;repository&quot;]"
          >
            <span data-target="command-palette-help.titleElement">Search for <strong>issues, pull requests, discussions,</strong> and <strong>projects</strong></span>
              <span data-target="command-palette-help.hintElement">
                <kbd class="hx_kbd">#</kbd>
              </span>
          </command-palette-help>
          <command-palette-help
            data-group="modes_help"
              data-prefix="@"
              data-scope-types="[&quot;&quot;]"
          >
            <span data-target="command-palette-help.titleElement">Search for <strong>organizations, repositories,</strong> and <strong>users</strong></span>
              <span data-target="command-palette-help.hintElement">
                <kbd class="hx_kbd">@</kbd>
              </span>
          </command-palette-help>
          <command-palette-help
            data-group="modes_help"
              data-prefix="!"
              data-scope-types="[&quot;owner&quot;,&quot;repository&quot;]"
          >
            <span data-target="command-palette-help.titleElement">Search for <strong>projects</strong></span>
              <span data-target="command-palette-help.hintElement">
                <kbd class="hx_kbd">!</kbd>
              </span>
          </command-palette-help>
          <command-palette-help
            data-group="modes_help"
              data-prefix="/"
              data-scope-types="[&quot;repository&quot;]"
          >
            <span data-target="command-palette-help.titleElement">Search for <strong>files</strong></span>
              <span data-target="command-palette-help.hintElement">
                <kbd class="hx_kbd">/</kbd>
              </span>
          </command-palette-help>
          <command-palette-help
            data-group="modes_help"
              data-prefix="&gt;"
          >
            <span data-target="command-palette-help.titleElement">Activate <strong>command mode</strong></span>
              <span data-target="command-palette-help.hintElement">
                <kbd class="hx_kbd">&gt;</kbd>
              </span>
          </command-palette-help>
          <command-palette-help
            data-group="filters_help"
              data-prefix="# author:@me"
          >
            <span data-target="command-palette-help.titleElement">Search your issues, pull requests, and discussions</span>
              <span data-target="command-palette-help.hintElement">
                <kbd class="hx_kbd"># author:@me</kbd>
              </span>
          </command-palette-help>
          <command-palette-help
            data-group="filters_help"
              data-prefix="# author:@me"
          >
            <span data-target="command-palette-help.titleElement">Search your issues, pull requests, and discussions</span>
              <span data-target="command-palette-help.hintElement">
                <kbd class="hx_kbd"># author:@me</kbd>
              </span>
          </command-palette-help>
          <command-palette-help
            data-group="filters_help"
              data-prefix="# is:pr"
          >
            <span data-target="command-palette-help.titleElement">Filter to pull requests</span>
              <span data-target="command-palette-help.hintElement">
                <kbd class="hx_kbd"># is:pr</kbd>
              </span>
          </command-palette-help>
          <command-palette-help
            data-group="filters_help"
              data-prefix="# is:issue"
          >
            <span data-target="command-palette-help.titleElement">Filter to issues</span>
              <span data-target="command-palette-help.hintElement">
                <kbd class="hx_kbd"># is:issue</kbd>
              </span>
          </command-palette-help>
          <command-palette-help
            data-group="filters_help"
              data-prefix="# is:discussion"
              data-scope-types="[&quot;owner&quot;,&quot;repository&quot;]"
          >
            <span data-target="command-palette-help.titleElement">Filter to discussions</span>
              <span data-target="command-palette-help.hintElement">
                <kbd class="hx_kbd"># is:discussion</kbd>
              </span>
          </command-palette-help>
          <command-palette-help
            data-group="filters_help"
              data-prefix="# is:project"
              data-scope-types="[&quot;owner&quot;,&quot;repository&quot;]"
          >
            <span data-target="command-palette-help.titleElement">Filter to projects</span>
              <span data-target="command-palette-help.hintElement">
                <kbd class="hx_kbd"># is:project</kbd>
              </span>
          </command-palette-help>
          <command-palette-help
            data-group="filters_help"
              data-prefix="# is:open"
          >
            <span data-target="command-palette-help.titleElement">Filter to open issues, pull requests, and discussions</span>
              <span data-target="command-palette-help.hintElement">
                <kbd class="hx_kbd"># is:open</kbd>
              </span>
          </command-palette-help>
      </server-defined-provider>

        <server-defined-provider
          data-type="commands"
          data-fetch-debounce="0"
            data-src="/command_palette/commands"
          data-supported-modes="[]"
            data-supports-commands
          
          data-targets="command-palette.serverDefinedProviderElements"
          ></server-defined-provider>
        <server-defined-provider
          data-type="prefetched"
          data-fetch-debounce="0"
            data-src="/command_palette/jump_to_page_navigation"
          data-supported-modes="[&quot;&quot;]"
            data-supported-scope-types="[&quot;&quot;,&quot;owner&quot;,&quot;repository&quot;]"
          
          data-targets="command-palette.serverDefinedProviderElements"
          ></server-defined-provider>
        <server-defined-provider
          data-type="remote"
          data-fetch-debounce="200"
            data-src="/command_palette/issues"
          data-supported-modes="[&quot;#&quot;,&quot;#&quot;]"
            data-supported-scope-types="[&quot;owner&quot;,&quot;repository&quot;,&quot;&quot;]"
          
          data-targets="command-palette.serverDefinedProviderElements"
          ></server-defined-provider>
        <server-defined-provider
          data-type="remote"
          data-fetch-debounce="200"
            data-src="/command_palette/jump_to"
          data-supported-modes="[&quot;@&quot;,&quot;@&quot;]"
            data-supported-scope-types="[&quot;&quot;,&quot;owner&quot;]"
          
          data-targets="command-palette.serverDefinedProviderElements"
          ></server-defined-provider>
        <server-defined-provider
          data-type="remote"
          data-fetch-debounce="200"
            data-src="/command_palette/jump_to_members_only"
          data-supported-modes="[&quot;@&quot;,&quot;@&quot;,&quot;&quot;,&quot;&quot;]"
            data-supported-scope-types="[&quot;&quot;,&quot;owner&quot;]"
          
          data-targets="command-palette.serverDefinedProviderElements"
          ></server-defined-provider>
        <server-defined-provider
          data-type="prefetched"
          data-fetch-debounce="0"
            data-src="/command_palette/jump_to_members_only_prefetched"
          data-supported-modes="[&quot;@&quot;,&quot;@&quot;,&quot;&quot;,&quot;&quot;]"
            data-supported-scope-types="[&quot;&quot;,&quot;owner&quot;]"
          
          data-targets="command-palette.serverDefinedProviderElements"
          ></server-defined-provider>
        <server-defined-provider
          data-type="files"
          data-fetch-debounce="0"
            data-src="/command_palette/files"
          data-supported-modes="[&quot;/&quot;]"
            data-supported-scope-types="[&quot;repository&quot;]"
          
          data-targets="command-palette.serverDefinedProviderElements"
          ></server-defined-provider>
        <server-defined-provider
          data-type="remote"
          data-fetch-debounce="200"
            data-src="/command_palette/discussions"
          data-supported-modes="[&quot;#&quot;]"
            data-supported-scope-types="[&quot;owner&quot;,&quot;repository&quot;]"
          
          data-targets="command-palette.serverDefinedProviderElements"
          ></server-defined-provider>
        <server-defined-provider
          data-type="remote"
          data-fetch-debounce="200"
            data-src="/command_palette/projects"
          data-supported-modes="[&quot;#&quot;,&quot;!&quot;]"
            data-supported-scope-types="[&quot;owner&quot;,&quot;repository&quot;]"
          
          data-targets="command-palette.serverDefinedProviderElements"
          ></server-defined-provider>
        <server-defined-provider
          data-type="prefetched"
          data-fetch-debounce="0"
            data-src="/command_palette/recent_issues"
          data-supported-modes="[&quot;#&quot;,&quot;#&quot;]"
            data-supported-scope-types="[&quot;owner&quot;,&quot;repository&quot;,&quot;&quot;]"
          
          data-targets="command-palette.serverDefinedProviderElements"
          ></server-defined-provider>
        <server-defined-provider
          data-type="remote"
          data-fetch-debounce="200"
            data-src="/command_palette/teams"
          data-supported-modes="[&quot;@&quot;,&quot;&quot;]"
            data-supported-scope-types="[&quot;owner&quot;]"
          
          data-targets="command-palette.serverDefinedProviderElements"
          ></server-defined-provider>
        <server-defined-provider
          data-type="remote"
          data-fetch-debounce="200"
            data-src="/command_palette/name_with_owner_repository"
          data-supported-modes="[&quot;@&quot;,&quot;@&quot;,&quot;&quot;,&quot;&quot;]"
            data-supported-scope-types="[&quot;&quot;,&quot;owner&quot;]"
          
          data-targets="command-palette.serverDefinedProviderElements"
          ></server-defined-provider>
    </command-palette>
  </details-dialog>
</details>

<div class="position-fixed bottom-0 left-0 ml-5 mb-5 js-command-palette-toasts" style="z-index: 1000">
  <div hidden class="Toast Toast--loading">
    <span class="Toast-icon">
      <svg class="Toast--spinner" viewBox="0 0 32 32" width="18" height="18" aria-hidden="true">
        <path
          fill="#959da5"
          d="M16 0 A16 16 0 0 0 16 32 A16 16 0 0 0 16 0 M16 4 A12 12 0 0 1 16 28 A12 12 0 0 1 16 4"
        />
        <path fill="#ffffff" d="M16 0 A16 16 0 0 1 32 16 L28 16 A12 12 0 0 0 16 4z"></path>
      </svg>
    </span>
    <span class="Toast-content"></span>
  </div>

  <div hidden class="anim-fade-in fast Toast Toast--error">
    <span class="Toast-icon">
      <svg aria-hidden="true" height="16" viewBox="0 0 16 16" version="1.1" width="16" data-view-component="true" class="octicon octicon-stop">
    <path d="M4.47.22A.749.749 0 0 1 5 0h6c.199 0 .389.079.53.22l4.25 4.25c.141.14.22.331.22.53v6a.749.749 0 0 1-.22.53l-4.25 4.25A.749.749 0 0 1 11 16H5a.749.749 0 0 1-.53-.22L.22 11.53A.749.749 0 0 1 0 11V5c0-.199.079-.389.22-.53Zm.84 1.28L1.5 5.31v5.38l3.81 3.81h5.38l3.81-3.81V5.31L10.69 1.5ZM8 4a.75.75 0 0 1 .75.75v3.5a.75.75 0 0 1-1.5 0v-3.5A.75.75 0 0 1 8 4Zm0 8a1 1 0 1 1 0-2 1 1 0 0 1 0 2Z"></path>
</svg>
    </span>
    <span class="Toast-content"></span>
  </div>

  <div hidden class="anim-fade-in fast Toast Toast--warning">
    <span class="Toast-icon">
      <svg aria-hidden="true" height="16" viewBox="0 0 16 16" version="1.1" width="16" data-view-component="true" class="octicon octicon-alert">
    <path d="M6.457 1.047c.659-1.234 2.427-1.234 3.086 0l6.082 11.378A1.75 1.75 0 0 1 14.082 15H1.918a1.75 1.75 0 0 1-1.543-2.575Zm1.763.707a.25.25 0 0 0-.44 0L1.698 13.132a.25.25 0 0 0 .22.368h12.164a.25.25 0 0 0 .22-.368Zm.53 3.996v2.5a.75.75 0 0 1-1.5 0v-2.5a.75.75 0 0 1 1.5 0ZM9 11a1 1 0 1 1-2 0 1 1 0 0 1 2 0Z"></path>
</svg>
    </span>
    <span class="Toast-content"></span>
  </div>


  <div hidden class="anim-fade-in fast Toast Toast--success">
    <span class="Toast-icon">
      <svg aria-hidden="true" height="16" viewBox="0 0 16 16" version="1.1" width="16" data-view-component="true" class="octicon octicon-check">
    <path d="M13.78 4.22a.75.75 0 0 1 0 1.06l-7.25 7.25a.75.75 0 0 1-1.06 0L2.22 9.28a.751.751 0 0 1 .018-1.042.751.751 0 0 1 1.042-.018L6 10.94l6.72-6.72a.75.75 0 0 1 1.06 0Z"></path>
</svg>
    </span>
    <span class="Toast-content"></span>
  </div>

  <div hidden class="anim-fade-in fast Toast">
    <span class="Toast-icon">
      <svg aria-hidden="true" height="16" viewBox="0 0 16 16" version="1.1" width="16" data-view-component="true" class="octicon octicon-info">
    <path d="M0 8a8 8 0 1 1 16 0A8 8 0 0 1 0 8Zm8-6.5a6.5 6.5 0 1 0 0 13 6.5 6.5 0 0 0 0-13ZM6.5 7.75A.75.75 0 0 1 7.25 7h1a.75.75 0 0 1 .75.75v2.75h.25a.75.75 0 0 1 0 1.5h-2a.75.75 0 0 1 0-1.5h.25v-2h-.25a.75.75 0 0 1-.75-.75ZM8 6a1 1 0 1 1 0-2 1 1 0 0 1 0 2Z"></path>
</svg>
    </span>
    <span class="Toast-content"></span>
  </div>
</div>


  <div
    class="application-main "
    data-commit-hovercards-enabled
    data-discussion-hovercards-enabled
    data-issue-and-pr-hovercards-enabled
  >
        <div itemscope itemtype="http://schema.org/SoftwareSourceCode" class="">
    <main id="js-repo-pjax-container" >
      
      






    
  <div id="repository-container-header" data-turbo-replace hidden></div>




<turbo-frame id="repo-content-turbo-frame" target="_top" data-turbo-action="advance" class="">
    <div id="repo-content-pjax-container" class="repository-content " >
      <a href="https://github.dev/" class="d-none js-github-dev-shortcut" data-hotkey=".,Meta+Shift+/">Open in github.dev</a>
  <a href="https://github.dev/" class="d-none js-github-dev-new-tab-shortcut" data-hotkey="Shift+.,Shift+&gt;,&gt;" target="_blank" rel="noopener noreferrer">Open in a new github.dev tab</a>
    <a class="d-none" data-hotkey=",,Meta+Shift+&#39;" target="_blank" href="/codespaces/new/krishnaik06/mlproject/tree/main?resume=1">Open in codespace</a>



    
      
    





<react-app
  app-name="react-code-view"
  initial-path="/krishnaik06/mlproject/blob/main/notebook/2.%20MODEL%20TRAINING.ipynb"
  style="min-height: calc(100vh - 62px)"
  data-ssr="false"
  data-lazy="false"
  data-alternate="false"
>
  
  <script type="application/json" data-target="react-app.embeddedData">{"payload":{"allShortcutsEnabled":true,"fileTree":{"notebook":{"items":[{"name":"catboost_info","path":"notebook/catboost_info","contentType":"directory"},{"name":"data","path":"notebook/data","contentType":"directory"},{"name":"1 . EDA STUDENT PERFORMANCE .ipynb","path":"notebook/1 . EDA STUDENT PERFORMANCE .ipynb","contentType":"file"},{"name":"2. MODEL TRAINING.ipynb","path":"notebook/2. MODEL TRAINING.ipynb","contentType":"file"}],"totalCount":4},"":{"items":[{"name":".ebextensions","path":".ebextensions","contentType":"directory"},{"name":".github","path":".github","contentType":"directory"},{"name":"artifacts","path":"artifacts","contentType":"directory"},{"name":"catboost_info","path":"catboost_info","contentType":"directory"},{"name":"notebook","path":"notebook","contentType":"directory"},{"name":"src","path":"src","contentType":"directory"},{"name":"templates","path":"templates","contentType":"directory"},{"name":".gitignore","path":".gitignore","contentType":"file"},{"name":"README.md","path":"README.md","contentType":"file"},{"name":"app.py","path":"app.py","contentType":"file"},{"name":"requirements.txt","path":"requirements.txt","contentType":"file"},{"name":"setup.py","path":"setup.py","contentType":"file"}],"totalCount":12}},"fileTreeProcessingTime":6.0115940000000005,"foldersToFetch":[],"reducedMotionEnabled":"system","repo":{"id":609735115,"defaultBranch":"main","name":"mlproject","ownerLogin":"krishnaik06","currentUserCanPush":false,"isFork":false,"isEmpty":false,"createdAt":"2023-03-05T09:43:05.000+05:30","ownerAvatar":"https://avatars.githubusercontent.com/u/20041231?v=4","public":true,"private":false,"isOrgOwned":false},"refInfo":{"name":"main","listCacheKey":"v0:1677990981.609511","canEdit":true,"refType":"branch","currentOid":"b1e1d1422b390eadcccaf81e53d061ddb658c1bd"},"path":"notebook/2. MODEL TRAINING.ipynb","currentUser":{"id":114228270,"login":"ArunAsish111","userEmail":"arunasish.v@gmail.com"},"blob":{"rawLines":["{"," \"cells\": [","  {","   \"attachments\": {},","   \"cell_type\": \"markdown\",","   \"id\": \"92e48866\",","   \"metadata\": {},","   \"source\": [","    \"## Model Training\"","   ]","  },","  {","   \"cell_type\": \"markdown\",","   \"id\": \"25791a74\",","   \"metadata\": {},","   \"source\": [","    \"#### 1.1 Import Data and Required Packages\\n\",","    \"##### Importing Pandas, Numpy, Matplotlib, Seaborn and Warings Library.\"","   ]","  },","  {","   \"cell_type\": \"code\",","   \"execution_count\": 6,","   \"id\": \"b080dfb2\",","   \"metadata\": {},","   \"outputs\": [],","   \"source\": [","    \"# Basic Import\\n\",","    \"import numpy as np\\n\",","    \"import pandas as pd\\n\",","    \"import matplotlib.pyplot as plt \\n\",","    \"import seaborn as sns\\n\",","    \"# Modelling\\n\",","    \"from sklearn.metrics import mean_squared_error, r2_score\\n\",","    \"from sklearn.neighbors import KNeighborsRegressor\\n\",","    \"from sklearn.tree import DecisionTreeRegressor\\n\",","    \"from sklearn.ensemble import RandomForestRegressor,AdaBoostRegressor\\n\",","    \"from sklearn.svm import SVR\\n\",","    \"from sklearn.linear_model import LinearRegression, Ridge,Lasso\\n\",","    \"from sklearn.metrics import r2_score, mean_absolute_error, mean_squared_error\\n\",","    \"from sklearn.model_selection import RandomizedSearchCV\\n\",","    \"from catboost import CatBoostRegressor\\n\",","    \"from xgboost import XGBRegressor\\n\",","    \"import warnings\"","   ]","  },","  {","   \"cell_type\": \"markdown\",","   \"id\": \"e45079ad\",","   \"metadata\": {},","   \"source\": [","    \"#### Import the CSV Data as Pandas DataFrame\"","   ]","  },","  {","   \"cell_type\": \"code\",","   \"execution_count\": 8,","   \"id\": \"e11c6255\",","   \"metadata\": {},","   \"outputs\": [],","   \"source\": [","    \"df = pd.read_csv('data/stud.csv')\"","   ]","  },","  {","   \"cell_type\": \"markdown\",","   \"id\": \"20634923\",","   \"metadata\": {},","   \"source\": [","    \"#### Show Top 5 Records\"","   ]","  },","  {","   \"cell_type\": \"code\",","   \"execution_count\": 9,","   \"id\": \"e7e412a2\",","   \"metadata\": {},","   \"outputs\": [","    {","     \"data\": {","      \"text/html\": [","       \"\u003cdiv\u003e\\n\",","       \"\u003cstyle scoped\u003e\\n\",","       \"    .dataframe tbody tr th:only-of-type {\\n\",","       \"        vertical-align: middle;\\n\",","       \"    }\\n\",","       \"\\n\",","       \"    .dataframe tbody tr th {\\n\",","       \"        vertical-align: top;\\n\",","       \"    }\\n\",","       \"\\n\",","       \"    .dataframe thead th {\\n\",","       \"        text-align: right;\\n\",","       \"    }\\n\",","       \"\u003c/style\u003e\\n\",","       \"\u003ctable border=\\\"1\\\" class=\\\"dataframe\\\"\u003e\\n\",","       \"  \u003cthead\u003e\\n\",","       \"    \u003ctr style=\\\"text-align: right;\\\"\u003e\\n\",","       \"      \u003cth\u003e\u003c/th\u003e\\n\",","       \"      \u003cth\u003egender\u003c/th\u003e\\n\",","       \"      \u003cth\u003erace_ethnicity\u003c/th\u003e\\n\",","       \"      \u003cth\u003eparental_level_of_education\u003c/th\u003e\\n\",","       \"      \u003cth\u003elunch\u003c/th\u003e\\n\",","       \"      \u003cth\u003etest_preparation_course\u003c/th\u003e\\n\",","       \"      \u003cth\u003emath_score\u003c/th\u003e\\n\",","       \"      \u003cth\u003ereading_score\u003c/th\u003e\\n\",","       \"      \u003cth\u003ewriting_score\u003c/th\u003e\\n\",","       \"    \u003c/tr\u003e\\n\",","       \"  \u003c/thead\u003e\\n\",","       \"  \u003ctbody\u003e\\n\",","       \"    \u003ctr\u003e\\n\",","       \"      \u003cth\u003e0\u003c/th\u003e\\n\",","       \"      \u003ctd\u003efemale\u003c/td\u003e\\n\",","       \"      \u003ctd\u003egroup B\u003c/td\u003e\\n\",","       \"      \u003ctd\u003ebachelor's degree\u003c/td\u003e\\n\",","       \"      \u003ctd\u003estandard\u003c/td\u003e\\n\",","       \"      \u003ctd\u003enone\u003c/td\u003e\\n\",","       \"      \u003ctd\u003e72\u003c/td\u003e\\n\",","       \"      \u003ctd\u003e72\u003c/td\u003e\\n\",","       \"      \u003ctd\u003e74\u003c/td\u003e\\n\",","       \"    \u003c/tr\u003e\\n\",","       \"    \u003ctr\u003e\\n\",","       \"      \u003cth\u003e1\u003c/th\u003e\\n\",","       \"      \u003ctd\u003efemale\u003c/td\u003e\\n\",","       \"      \u003ctd\u003egroup C\u003c/td\u003e\\n\",","       \"      \u003ctd\u003esome college\u003c/td\u003e\\n\",","       \"      \u003ctd\u003estandard\u003c/td\u003e\\n\",","       \"      \u003ctd\u003ecompleted\u003c/td\u003e\\n\",","       \"      \u003ctd\u003e69\u003c/td\u003e\\n\",","       \"      \u003ctd\u003e90\u003c/td\u003e\\n\",","       \"      \u003ctd\u003e88\u003c/td\u003e\\n\",","       \"    \u003c/tr\u003e\\n\",","       \"    \u003ctr\u003e\\n\",","       \"      \u003cth\u003e2\u003c/th\u003e\\n\",","       \"      \u003ctd\u003efemale\u003c/td\u003e\\n\",","       \"      \u003ctd\u003egroup B\u003c/td\u003e\\n\",","       \"      \u003ctd\u003emaster's degree\u003c/td\u003e\\n\",","       \"      \u003ctd\u003estandard\u003c/td\u003e\\n\",","       \"      \u003ctd\u003enone\u003c/td\u003e\\n\",","       \"      \u003ctd\u003e90\u003c/td\u003e\\n\",","       \"      \u003ctd\u003e95\u003c/td\u003e\\n\",","       \"      \u003ctd\u003e93\u003c/td\u003e\\n\",","       \"    \u003c/tr\u003e\\n\",","       \"    \u003ctr\u003e\\n\",","       \"      \u003cth\u003e3\u003c/th\u003e\\n\",","       \"      \u003ctd\u003emale\u003c/td\u003e\\n\",","       \"      \u003ctd\u003egroup A\u003c/td\u003e\\n\",","       \"      \u003ctd\u003eassociate's degree\u003c/td\u003e\\n\",","       \"      \u003ctd\u003efree/reduced\u003c/td\u003e\\n\",","       \"      \u003ctd\u003enone\u003c/td\u003e\\n\",","       \"      \u003ctd\u003e47\u003c/td\u003e\\n\",","       \"      \u003ctd\u003e57\u003c/td\u003e\\n\",","       \"      \u003ctd\u003e44\u003c/td\u003e\\n\",","       \"    \u003c/tr\u003e\\n\",","       \"    \u003ctr\u003e\\n\",","       \"      \u003cth\u003e4\u003c/th\u003e\\n\",","       \"      \u003ctd\u003emale\u003c/td\u003e\\n\",","       \"      \u003ctd\u003egroup C\u003c/td\u003e\\n\",","       \"      \u003ctd\u003esome college\u003c/td\u003e\\n\",","       \"      \u003ctd\u003estandard\u003c/td\u003e\\n\",","       \"      \u003ctd\u003enone\u003c/td\u003e\\n\",","       \"      \u003ctd\u003e76\u003c/td\u003e\\n\",","       \"      \u003ctd\u003e78\u003c/td\u003e\\n\",","       \"      \u003ctd\u003e75\u003c/td\u003e\\n\",","       \"    \u003c/tr\u003e\\n\",","       \"  \u003c/tbody\u003e\\n\",","       \"\u003c/table\u003e\\n\",","       \"\u003c/div\u003e\"","      ],","      \"text/plain\": [","       \"   gender race_ethnicity parental_level_of_education         lunch  \\\\\\n\",","       \"0  female        group B           bachelor's degree      standard   \\n\",","       \"1  female        group C                some college      standard   \\n\",","       \"2  female        group B             master's degree      standard   \\n\",","       \"3    male        group A          associate's degree  free/reduced   \\n\",","       \"4    male        group C                some college      standard   \\n\",","       \"\\n\",","       \"  test_preparation_course  math_score  reading_score  writing_score  \\n\",","       \"0                    none          72             72             74  \\n\",","       \"1               completed          69             90             88  \\n\",","       \"2                    none          90             95             93  \\n\",","       \"3                    none          47             57             44  \\n\",","       \"4                    none          76             78             75  \"","      ]","     },","     \"execution_count\": 9,","     \"metadata\": {},","     \"output_type\": \"execute_result\"","    }","   ],","   \"source\": [","    \"df.head()\"","   ]","  },","  {","   \"cell_type\": \"markdown\",","   \"id\": \"fbd32281\",","   \"metadata\": {},","   \"source\": [","    \"#### Preparing X and Y variables\"","   ]","  },","  {","   \"cell_type\": \"code\",","   \"execution_count\": 10,","   \"id\": \"56d72fde\",","   \"metadata\": {},","   \"outputs\": [],","   \"source\": [","    \"X = df.drop(columns=['math_score'],axis=1)\"","   ]","  },","  {","   \"cell_type\": \"code\",","   \"execution_count\": 11,","   \"id\": \"cd613177\",","   \"metadata\": {},","   \"outputs\": [","    {","     \"data\": {","      \"text/html\": [","       \"\u003cdiv\u003e\\n\",","       \"\u003cstyle scoped\u003e\\n\",","       \"    .dataframe tbody tr th:only-of-type {\\n\",","       \"        vertical-align: middle;\\n\",","       \"    }\\n\",","       \"\\n\",","       \"    .dataframe tbody tr th {\\n\",","       \"        vertical-align: top;\\n\",","       \"    }\\n\",","       \"\\n\",","       \"    .dataframe thead th {\\n\",","       \"        text-align: right;\\n\",","       \"    }\\n\",","       \"\u003c/style\u003e\\n\",","       \"\u003ctable border=\\\"1\\\" class=\\\"dataframe\\\"\u003e\\n\",","       \"  \u003cthead\u003e\\n\",","       \"    \u003ctr style=\\\"text-align: right;\\\"\u003e\\n\",","       \"      \u003cth\u003e\u003c/th\u003e\\n\",","       \"      \u003cth\u003egender\u003c/th\u003e\\n\",","       \"      \u003cth\u003erace_ethnicity\u003c/th\u003e\\n\",","       \"      \u003cth\u003eparental_level_of_education\u003c/th\u003e\\n\",","       \"      \u003cth\u003elunch\u003c/th\u003e\\n\",","       \"      \u003cth\u003etest_preparation_course\u003c/th\u003e\\n\",","       \"      \u003cth\u003ereading_score\u003c/th\u003e\\n\",","       \"      \u003cth\u003ewriting_score\u003c/th\u003e\\n\",","       \"    \u003c/tr\u003e\\n\",","       \"  \u003c/thead\u003e\\n\",","       \"  \u003ctbody\u003e\\n\",","       \"    \u003ctr\u003e\\n\",","       \"      \u003cth\u003e0\u003c/th\u003e\\n\",","       \"      \u003ctd\u003efemale\u003c/td\u003e\\n\",","       \"      \u003ctd\u003egroup B\u003c/td\u003e\\n\",","       \"      \u003ctd\u003ebachelor's degree\u003c/td\u003e\\n\",","       \"      \u003ctd\u003estandard\u003c/td\u003e\\n\",","       \"      \u003ctd\u003enone\u003c/td\u003e\\n\",","       \"      \u003ctd\u003e72\u003c/td\u003e\\n\",","       \"      \u003ctd\u003e74\u003c/td\u003e\\n\",","       \"    \u003c/tr\u003e\\n\",","       \"    \u003ctr\u003e\\n\",","       \"      \u003cth\u003e1\u003c/th\u003e\\n\",","       \"      \u003ctd\u003efemale\u003c/td\u003e\\n\",","       \"      \u003ctd\u003egroup C\u003c/td\u003e\\n\",","       \"      \u003ctd\u003esome college\u003c/td\u003e\\n\",","       \"      \u003ctd\u003estandard\u003c/td\u003e\\n\",","       \"      \u003ctd\u003ecompleted\u003c/td\u003e\\n\",","       \"      \u003ctd\u003e90\u003c/td\u003e\\n\",","       \"      \u003ctd\u003e88\u003c/td\u003e\\n\",","       \"    \u003c/tr\u003e\\n\",","       \"    \u003ctr\u003e\\n\",","       \"      \u003cth\u003e2\u003c/th\u003e\\n\",","       \"      \u003ctd\u003efemale\u003c/td\u003e\\n\",","       \"      \u003ctd\u003egroup B\u003c/td\u003e\\n\",","       \"      \u003ctd\u003emaster's degree\u003c/td\u003e\\n\",","       \"      \u003ctd\u003estandard\u003c/td\u003e\\n\",","       \"      \u003ctd\u003enone\u003c/td\u003e\\n\",","       \"      \u003ctd\u003e95\u003c/td\u003e\\n\",","       \"      \u003ctd\u003e93\u003c/td\u003e\\n\",","       \"    \u003c/tr\u003e\\n\",","       \"    \u003ctr\u003e\\n\",","       \"      \u003cth\u003e3\u003c/th\u003e\\n\",","       \"      \u003ctd\u003emale\u003c/td\u003e\\n\",","       \"      \u003ctd\u003egroup A\u003c/td\u003e\\n\",","       \"      \u003ctd\u003eassociate's degree\u003c/td\u003e\\n\",","       \"      \u003ctd\u003efree/reduced\u003c/td\u003e\\n\",","       \"      \u003ctd\u003enone\u003c/td\u003e\\n\",","       \"      \u003ctd\u003e57\u003c/td\u003e\\n\",","       \"      \u003ctd\u003e44\u003c/td\u003e\\n\",","       \"    \u003c/tr\u003e\\n\",","       \"    \u003ctr\u003e\\n\",","       \"      \u003cth\u003e4\u003c/th\u003e\\n\",","       \"      \u003ctd\u003emale\u003c/td\u003e\\n\",","       \"      \u003ctd\u003egroup C\u003c/td\u003e\\n\",","       \"      \u003ctd\u003esome college\u003c/td\u003e\\n\",","       \"      \u003ctd\u003estandard\u003c/td\u003e\\n\",","       \"      \u003ctd\u003enone\u003c/td\u003e\\n\",","       \"      \u003ctd\u003e78\u003c/td\u003e\\n\",","       \"      \u003ctd\u003e75\u003c/td\u003e\\n\",","       \"    \u003c/tr\u003e\\n\",","       \"  \u003c/tbody\u003e\\n\",","       \"\u003c/table\u003e\\n\",","       \"\u003c/div\u003e\"","      ],","      \"text/plain\": [","       \"   gender race_ethnicity parental_level_of_education         lunch  \\\\\\n\",","       \"0  female        group B           bachelor's degree      standard   \\n\",","       \"1  female        group C                some college      standard   \\n\",","       \"2  female        group B             master's degree      standard   \\n\",","       \"3    male        group A          associate's degree  free/reduced   \\n\",","       \"4    male        group C                some college      standard   \\n\",","       \"\\n\",","       \"  test_preparation_course  reading_score  writing_score  \\n\",","       \"0                    none             72             74  \\n\",","       \"1               completed             90             88  \\n\",","       \"2                    none             95             93  \\n\",","       \"3                    none             57             44  \\n\",","       \"4                    none             78             75  \"","      ]","     },","     \"execution_count\": 11,","     \"metadata\": {},","     \"output_type\": \"execute_result\"","    }","   ],","   \"source\": [","    \"X.head()\"","   ]","  },","  {","   \"cell_type\": \"code\",","   \"execution_count\": 14,","   \"id\": \"f237ea14\",","   \"metadata\": {},","   \"outputs\": [","    {","     \"name\": \"stdout\",","     \"output_type\": \"stream\",","     \"text\": [","      \"Categories in 'gender' variable:      ['female' 'male']\\n\",","      \"Categories in 'race_ethnicity' variable:   ['group B' 'group C' 'group A' 'group D' 'group E']\\n\",","      \"Categories in'parental level of education' variable: [\\\"bachelor's degree\\\" 'some college' \\\"master's degree\\\" \\\"associate's degree\\\"\\n\",","      \" 'high school' 'some high school']\\n\",","      \"Categories in 'lunch' variable:      ['standard' 'free/reduced']\\n\",","      \"Categories in 'test preparation course' variable:      ['none' 'completed']\\n\"","     ]","    }","   ],","   \"source\": [","    \"print(\\\"Categories in 'gender' variable:     \\\",end=\\\" \\\" )\\n\",","    \"print(df['gender'].unique())\\n\",","    \"\\n\",","    \"print(\\\"Categories in 'race_ethnicity' variable:  \\\",end=\\\" \\\")\\n\",","    \"print(df['race_ethnicity'].unique())\\n\",","    \"\\n\",","    \"print(\\\"Categories in'parental level of education' variable:\\\",end=\\\" \\\" )\\n\",","    \"print(df['parental_level_of_education'].unique())\\n\",","    \"\\n\",","    \"print(\\\"Categories in 'lunch' variable:     \\\",end=\\\" \\\" )\\n\",","    \"print(df['lunch'].unique())\\n\",","    \"\\n\",","    \"print(\\\"Categories in 'test preparation course' variable:     \\\",end=\\\" \\\" )\\n\",","    \"print(df['test_preparation_course'].unique())\"","   ]","  },","  {","   \"cell_type\": \"code\",","   \"execution_count\": 12,","   \"id\": \"924b7f9d\",","   \"metadata\": {},","   \"outputs\": [],","   \"source\": [","    \"y = df['math_score']\"","   ]","  },","  {","   \"cell_type\": \"code\",","   \"execution_count\": 13,","   \"id\": \"ffc69816\",","   \"metadata\": {},","   \"outputs\": [","    {","     \"data\": {","      \"text/plain\": [","       \"0      72\\n\",","       \"1      69\\n\",","       \"2      90\\n\",","       \"3      47\\n\",","       \"4      76\\n\",","       \"       ..\\n\",","       \"995    88\\n\",","       \"996    62\\n\",","       \"997    59\\n\",","       \"998    68\\n\",","       \"999    77\\n\",","       \"Name: math_score, Length: 1000, dtype: int64\"","      ]","     },","     \"execution_count\": 13,","     \"metadata\": {},","     \"output_type\": \"execute_result\"","    }","   ],","   \"source\": [","    \"y\"","   ]","  },","  {","   \"cell_type\": \"code\",","   \"execution_count\": 15,","   \"id\": \"1e290fe3\",","   \"metadata\": {},","   \"outputs\": [],","   \"source\": [","    \"# Create Column Transformer with 3 types of transformers\\n\",","    \"num_features = X.select_dtypes(exclude=\\\"object\\\").columns\\n\",","    \"cat_features = X.select_dtypes(include=\\\"object\\\").columns\\n\",","    \"\\n\",","    \"from sklearn.preprocessing import OneHotEncoder, StandardScaler\\n\",","    \"from sklearn.compose import ColumnTransformer\\n\",","    \"\\n\",","    \"numeric_transformer = StandardScaler()\\n\",","    \"oh_transformer = OneHotEncoder()\\n\",","    \"\\n\",","    \"preprocessor = ColumnTransformer(\\n\",","    \"    [\\n\",","    \"        (\\\"OneHotEncoder\\\", oh_transformer, cat_features),\\n\",","    \"         (\\\"StandardScaler\\\", numeric_transformer, num_features),        \\n\",","    \"    ]\\n\",","    \")\"","   ]","  },","  {","   \"cell_type\": \"code\",","   \"execution_count\": 16,","   \"id\": \"9c68f99a\",","   \"metadata\": {},","   \"outputs\": [],","   \"source\": [","    \"X = preprocessor.fit_transform(X)\"","   ]","  },","  {","   \"cell_type\": \"code\",","   \"execution_count\": 18,","   \"id\": \"72459f1d\",","   \"metadata\": {},","   \"outputs\": [","    {","     \"data\": {","      \"text/plain\": [","       \"(1000, 19)\"","      ]","     },","     \"execution_count\": 18,","     \"metadata\": {},","     \"output_type\": \"execute_result\"","    }","   ],","   \"source\": [","    \"X.shape\"","   ]","  },","  {","   \"cell_type\": \"code\",","   \"execution_count\": 21,","   \"id\": \"ed5c4e99\",","   \"metadata\": {},","   \"outputs\": [","    {","     \"data\": {","      \"text/plain\": [","       \"((800, 19), (200, 19))\"","      ]","     },","     \"execution_count\": 21,","     \"metadata\": {},","     \"output_type\": \"execute_result\"","    }","   ],","   \"source\": [","    \"# separate dataset into train and test\\n\",","    \"from sklearn.model_selection import train_test_split\\n\",","    \"X_train, X_test, y_train, y_test = train_test_split(X,y,test_size=0.2,random_state=42)\\n\",","    \"X_train.shape, X_test.shape\"","   ]","  },","  {","   \"cell_type\": \"markdown\",","   \"id\": \"4cd80317\",","   \"metadata\": {},","   \"source\": [","    \"#### Create an Evaluate Function to give all metrics after model Training\"","   ]","  },","  {","   \"cell_type\": \"code\",","   \"execution_count\": 22,","   \"id\": \"8c247bd0\",","   \"metadata\": {},","   \"outputs\": [],","   \"source\": [","    \"def evaluate_model(true, predicted):\\n\",","    \"    mae = mean_absolute_error(true, predicted)\\n\",","    \"    mse = mean_squared_error(true, predicted)\\n\",","    \"    rmse = np.sqrt(mean_squared_error(true, predicted))\\n\",","    \"    r2_square = r2_score(true, predicted)\\n\",","    \"    return mae, rmse, r2_square\"","   ]","  },","  {","   \"cell_type\": \"code\",","   \"execution_count\": 23,","   \"id\": \"79ccb8e7\",","   \"metadata\": {","    \"scrolled\": false","   },","   \"outputs\": [","    {","     \"name\": \"stdout\",","     \"output_type\": \"stream\",","     \"text\": [","      \"Linear Regression\\n\",","      \"Model performance for Training set\\n\",","      \"- Root Mean Squared Error: 5.3243\\n\",","      \"- Mean Absolute Error: 4.2671\\n\",","      \"- R2 Score: 0.8743\\n\",","      \"----------------------------------\\n\",","      \"Model performance for Test set\\n\",","      \"- Root Mean Squared Error: 5.3960\\n\",","      \"- Mean Absolute Error: 4.2158\\n\",","      \"- R2 Score: 0.8803\\n\",","      \"===================================\\n\",","      \"\\n\",","      \"\\n\",","      \"Lasso\\n\",","      \"Model performance for Training set\\n\",","      \"- Root Mean Squared Error: 6.5938\\n\",","      \"- Mean Absolute Error: 5.2063\\n\",","      \"- R2 Score: 0.8071\\n\",","      \"----------------------------------\\n\",","      \"Model performance for Test set\\n\",","      \"- Root Mean Squared Error: 6.5197\\n\",","      \"- Mean Absolute Error: 5.1579\\n\",","      \"- R2 Score: 0.8253\\n\",","      \"===================================\\n\",","      \"\\n\",","      \"\\n\",","      \"Ridge\\n\",","      \"Model performance for Training set\\n\",","      \"- Root Mean Squared Error: 5.3233\\n\",","      \"- Mean Absolute Error: 4.2650\\n\",","      \"- R2 Score: 0.8743\\n\",","      \"----------------------------------\\n\",","      \"Model performance for Test set\\n\",","      \"- Root Mean Squared Error: 5.3904\\n\",","      \"- Mean Absolute Error: 4.2111\\n\",","      \"- R2 Score: 0.8806\\n\",","      \"===================================\\n\",","      \"\\n\",","      \"\\n\",","      \"K-Neighbors Regressor\\n\",","      \"Model performance for Training set\\n\",","      \"- Root Mean Squared Error: 5.7077\\n\",","      \"- Mean Absolute Error: 4.5167\\n\",","      \"- R2 Score: 0.8555\\n\",","      \"----------------------------------\\n\",","      \"Model performance for Test set\\n\",","      \"- Root Mean Squared Error: 7.2530\\n\",","      \"- Mean Absolute Error: 5.6210\\n\",","      \"- R2 Score: 0.7838\\n\",","      \"===================================\\n\",","      \"\\n\",","      \"\\n\",","      \"Decision Tree\\n\",","      \"Model performance for Training set\\n\",","      \"- Root Mean Squared Error: 0.2795\\n\",","      \"- Mean Absolute Error: 0.0187\\n\",","      \"- R2 Score: 0.9997\\n\",","      \"----------------------------------\\n\",","      \"Model performance for Test set\\n\",","      \"- Root Mean Squared Error: 7.6371\\n\",","      \"- Mean Absolute Error: 6.0250\\n\",","      \"- R2 Score: 0.7603\\n\",","      \"===================================\\n\",","      \"\\n\",","      \"\\n\",","      \"Random Forest Regressor\\n\",","      \"Model performance for Training set\\n\",","      \"- Root Mean Squared Error: 2.2851\\n\",","      \"- Mean Absolute Error: 1.8253\\n\",","      \"- R2 Score: 0.9768\\n\",","      \"----------------------------------\\n\",","      \"Model performance for Test set\\n\",","      \"- Root Mean Squared Error: 6.0959\\n\",","      \"- Mean Absolute Error: 4.7194\\n\",","      \"- R2 Score: 0.8473\\n\",","      \"===================================\\n\",","      \"\\n\",","      \"\\n\",","      \"XGBRegressor\\n\",","      \"Model performance for Training set\\n\",","      \"- Root Mean Squared Error: 0.9087\\n\",","      \"- Mean Absolute Error: 0.6148\\n\",","      \"- R2 Score: 0.9963\\n\",","      \"----------------------------------\\n\",","      \"Model performance for Test set\\n\",","      \"- Root Mean Squared Error: 6.5889\\n\",","      \"- Mean Absolute Error: 5.0844\\n\",","      \"- R2 Score: 0.8216\\n\",","      \"===================================\\n\",","      \"\\n\",","      \"\\n\",","      \"CatBoosting Regressor\\n\",","      \"Model performance for Training set\\n\",","      \"- Root Mean Squared Error: 3.0427\\n\",","      \"- Mean Absolute Error: 2.4054\\n\",","      \"- R2 Score: 0.9589\\n\",","      \"----------------------------------\\n\",","      \"Model performance for Test set\\n\",","      \"- Root Mean Squared Error: 6.0086\\n\",","      \"- Mean Absolute Error: 4.6125\\n\",","      \"- R2 Score: 0.8516\\n\",","      \"===================================\\n\",","      \"\\n\",","      \"\\n\",","      \"AdaBoost Regressor\\n\",","      \"Model performance for Training set\\n\",","      \"- Root Mean Squared Error: 5.7843\\n\",","      \"- Mean Absolute Error: 4.7564\\n\",","      \"- R2 Score: 0.8516\\n\",","      \"----------------------------------\\n\",","      \"Model performance for Test set\\n\",","      \"- Root Mean Squared Error: 6.0447\\n\",","      \"- Mean Absolute Error: 4.6813\\n\",","      \"- R2 Score: 0.8498\\n\",","      \"===================================\\n\",","      \"\\n\",","      \"\\n\"","     ]","    }","   ],","   \"source\": [","    \"models = {\\n\",","    \"    \\\"Linear Regression\\\": LinearRegression(),\\n\",","    \"    \\\"Lasso\\\": Lasso(),\\n\",","    \"    \\\"Ridge\\\": Ridge(),\\n\",","    \"    \\\"K-Neighbors Regressor\\\": KNeighborsRegressor(),\\n\",","    \"    \\\"Decision Tree\\\": DecisionTreeRegressor(),\\n\",","    \"    \\\"Random Forest Regressor\\\": RandomForestRegressor(),\\n\",","    \"    \\\"XGBRegressor\\\": XGBRegressor(), \\n\",","    \"    \\\"CatBoosting Regressor\\\": CatBoostRegressor(verbose=False),\\n\",","    \"    \\\"AdaBoost Regressor\\\": AdaBoostRegressor()\\n\",","    \"}\\n\",","    \"model_list = []\\n\",","    \"r2_list =[]\\n\",","    \"\\n\",","    \"for i in range(len(list(models))):\\n\",","    \"    model = list(models.values())[i]\\n\",","    \"    model.fit(X_train, y_train) # Train model\\n\",","    \"\\n\",","    \"    # Make predictions\\n\",","    \"    y_train_pred = model.predict(X_train)\\n\",","    \"    y_test_pred = model.predict(X_test)\\n\",","    \"    \\n\",","    \"    # Evaluate Train and Test dataset\\n\",","    \"    model_train_mae , model_train_rmse, model_train_r2 = evaluate_model(y_train, y_train_pred)\\n\",","    \"\\n\",","    \"    model_test_mae , model_test_rmse, model_test_r2 = evaluate_model(y_test, y_test_pred)\\n\",","    \"\\n\",","    \"    \\n\",","    \"    print(list(models.keys())[i])\\n\",","    \"    model_list.append(list(models.keys())[i])\\n\",","    \"    \\n\",","    \"    print('Model performance for Training set')\\n\",","    \"    print(\\\"- Root Mean Squared Error: {:.4f}\\\".format(model_train_rmse))\\n\",","    \"    print(\\\"- Mean Absolute Error: {:.4f}\\\".format(model_train_mae))\\n\",","    \"    print(\\\"- R2 Score: {:.4f}\\\".format(model_train_r2))\\n\",","    \"\\n\",","    \"    print('----------------------------------')\\n\",","    \"    \\n\",","    \"    print('Model performance for Test set')\\n\",","    \"    print(\\\"- Root Mean Squared Error: {:.4f}\\\".format(model_test_rmse))\\n\",","    \"    print(\\\"- Mean Absolute Error: {:.4f}\\\".format(model_test_mae))\\n\",","    \"    print(\\\"- R2 Score: {:.4f}\\\".format(model_test_r2))\\n\",","    \"    r2_list.append(model_test_r2)\\n\",","    \"    \\n\",","    \"    print('='*35)\\n\",","    \"    print('\\\\n')\"","   ]","  },","  {","   \"cell_type\": \"markdown\",","   \"id\": \"06480b5a\",","   \"metadata\": {},","   \"source\": [","    \"### Results\"","   ]","  },","  {","   \"cell_type\": \"code\",","   \"execution_count\": 24,","   \"id\": \"e0159e5f\",","   \"metadata\": {},","   \"outputs\": [","    {","     \"data\": {","      \"text/html\": [","       \"\u003cdiv\u003e\\n\",","       \"\u003cstyle scoped\u003e\\n\",","       \"    .dataframe tbody tr th:only-of-type {\\n\",","       \"        vertical-align: middle;\\n\",","       \"    }\\n\",","       \"\\n\",","       \"    .dataframe tbody tr th {\\n\",","       \"        vertical-align: top;\\n\",","       \"    }\\n\",","       \"\\n\",","       \"    .dataframe thead th {\\n\",","       \"        text-align: right;\\n\",","       \"    }\\n\",","       \"\u003c/style\u003e\\n\",","       \"\u003ctable border=\\\"1\\\" class=\\\"dataframe\\\"\u003e\\n\",","       \"  \u003cthead\u003e\\n\",","       \"    \u003ctr style=\\\"text-align: right;\\\"\u003e\\n\",","       \"      \u003cth\u003e\u003c/th\u003e\\n\",","       \"      \u003cth\u003eModel Name\u003c/th\u003e\\n\",","       \"      \u003cth\u003eR2_Score\u003c/th\u003e\\n\",","       \"    \u003c/tr\u003e\\n\",","       \"  \u003c/thead\u003e\\n\",","       \"  \u003ctbody\u003e\\n\",","       \"    \u003ctr\u003e\\n\",","       \"      \u003cth\u003e2\u003c/th\u003e\\n\",","       \"      \u003ctd\u003eRidge\u003c/td\u003e\\n\",","       \"      \u003ctd\u003e0.880593\u003c/td\u003e\\n\",","       \"    \u003c/tr\u003e\\n\",","       \"    \u003ctr\u003e\\n\",","       \"      \u003cth\u003e0\u003c/th\u003e\\n\",","       \"      \u003ctd\u003eLinear Regression\u003c/td\u003e\\n\",","       \"      \u003ctd\u003e0.880345\u003c/td\u003e\\n\",","       \"    \u003c/tr\u003e\\n\",","       \"    \u003ctr\u003e\\n\",","       \"      \u003cth\u003e7\u003c/th\u003e\\n\",","       \"      \u003ctd\u003eCatBoosting Regressor\u003c/td\u003e\\n\",","       \"      \u003ctd\u003e0.851632\u003c/td\u003e\\n\",","       \"    \u003c/tr\u003e\\n\",","       \"    \u003ctr\u003e\\n\",","       \"      \u003cth\u003e8\u003c/th\u003e\\n\",","       \"      \u003ctd\u003eAdaBoost Regressor\u003c/td\u003e\\n\",","       \"      \u003ctd\u003e0.849847\u003c/td\u003e\\n\",","       \"    \u003c/tr\u003e\\n\",","       \"    \u003ctr\u003e\\n\",","       \"      \u003cth\u003e5\u003c/th\u003e\\n\",","       \"      \u003ctd\u003eRandom Forest Regressor\u003c/td\u003e\\n\",","       \"      \u003ctd\u003e0.847291\u003c/td\u003e\\n\",","       \"    \u003c/tr\u003e\\n\",","       \"    \u003ctr\u003e\\n\",","       \"      \u003cth\u003e1\u003c/th\u003e\\n\",","       \"      \u003ctd\u003eLasso\u003c/td\u003e\\n\",","       \"      \u003ctd\u003e0.825320\u003c/td\u003e\\n\",","       \"    \u003c/tr\u003e\\n\",","       \"    \u003ctr\u003e\\n\",","       \"      \u003cth\u003e6\u003c/th\u003e\\n\",","       \"      \u003ctd\u003eXGBRegressor\u003c/td\u003e\\n\",","       \"      \u003ctd\u003e0.821589\u003c/td\u003e\\n\",","       \"    \u003c/tr\u003e\\n\",","       \"    \u003ctr\u003e\\n\",","       \"      \u003cth\u003e3\u003c/th\u003e\\n\",","       \"      \u003ctd\u003eK-Neighbors Regressor\u003c/td\u003e\\n\",","       \"      \u003ctd\u003e0.783813\u003c/td\u003e\\n\",","       \"    \u003c/tr\u003e\\n\",","       \"    \u003ctr\u003e\\n\",","       \"      \u003cth\u003e4\u003c/th\u003e\\n\",","       \"      \u003ctd\u003eDecision Tree\u003c/td\u003e\\n\",","       \"      \u003ctd\u003e0.760313\u003c/td\u003e\\n\",","       \"    \u003c/tr\u003e\\n\",","       \"  \u003c/tbody\u003e\\n\",","       \"\u003c/table\u003e\\n\",","       \"\u003c/div\u003e\"","      ],","      \"text/plain\": [","       \"                Model Name  R2_Score\\n\",","       \"2                    Ridge  0.880593\\n\",","       \"0        Linear Regression  0.880345\\n\",","       \"7    CatBoosting Regressor  0.851632\\n\",","       \"8       AdaBoost Regressor  0.849847\\n\",","       \"5  Random Forest Regressor  0.847291\\n\",","       \"1                    Lasso  0.825320\\n\",","       \"6             XGBRegressor  0.821589\\n\",","       \"3    K-Neighbors Regressor  0.783813\\n\",","       \"4            Decision Tree  0.760313\"","      ]","     },","     \"execution_count\": 24,","     \"metadata\": {},","     \"output_type\": \"execute_result\"","    }","   ],","   \"source\": [","    \"pd.DataFrame(list(zip(model_list, r2_list)), columns=['Model Name', 'R2_Score']).sort_values(by=[\\\"R2_Score\\\"],ascending=False)\"","   ]","  },","  {","   \"cell_type\": \"markdown\",","   \"id\": \"357a7c1c\",","   \"metadata\": {},","   \"source\": [","    \"## Linear Regression\"","   ]","  },","  {","   \"cell_type\": \"code\",","   \"execution_count\": 25,","   \"id\": \"9a6ad559\",","   \"metadata\": {},","   \"outputs\": [","    {","     \"name\": \"stdout\",","     \"output_type\": \"stream\",","     \"text\": [","      \" Accuracy of the model is 88.03\\n\"","     ]","    }","   ],","   \"source\": [","    \"lin_model = LinearRegression(fit_intercept=True)\\n\",","    \"lin_model = lin_model.fit(X_train, y_train)\\n\",","    \"y_pred = lin_model.predict(X_test)\\n\",","    \"score = r2_score(y_test, y_pred)*100\\n\",","    \"print(\\\" Accuracy of the model is %.2f\\\" %score)\"","   ]","  },","  {","   \"cell_type\": \"markdown\",","   \"id\": \"1d31453e\",","   \"metadata\": {},","   \"source\": [","    \"## Plot y_pred and y_test\"","   ]","  },","  {","   \"cell_type\": \"code\",","   \"execution_count\": 26,","   \"id\": \"eb557b0a\",","   \"metadata\": {},","   \"outputs\": [","    {","     \"data\": {","      \"image/png\": \"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\",","      \"text/plain\": [","       \"\u003cFigure size 640x480 with 1 Axes\u003e\"","      ]","     },","     \"metadata\": {},","     \"output_type\": \"display_data\"","    }","   ],","   \"source\": [","    \"plt.scatter(y_test,y_pred);\\n\",","    \"plt.xlabel('Actual');\\n\",","    \"plt.ylabel('Predicted');\"","   ]","  },","  {","   \"cell_type\": \"code\",","   \"execution_count\": 27,","   \"id\": \"1e707ec3\",","   \"metadata\": {},","   \"outputs\": [","    {","     \"data\": {","      \"image/png\": \"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\",","      \"text/plain\": [","       \"\u003cFigure size 640x480 with 1 Axes\u003e\"","      ]","     },","     \"metadata\": {},","     \"output_type\": \"display_data\"","    }","   ],","   \"source\": [","    \"sns.regplot(x=y_test,y=y_pred,ci=None,color ='red');\"","   ]","  },","  {","   \"cell_type\": \"markdown\",","   \"id\": \"79c2fe28\",","   \"metadata\": {},","   \"source\": [","    \"#### Difference between Actual and Predicted Values\"","   ]","  },","  {","   \"cell_type\": \"code\",","   \"execution_count\": 28,","   \"id\": \"7c9a8b48\",","   \"metadata\": {},","   \"outputs\": [","    {","     \"data\": {","      \"text/html\": [","       \"\u003cdiv\u003e\\n\",","       \"\u003cstyle scoped\u003e\\n\",","       \"    .dataframe tbody tr th:only-of-type {\\n\",","       \"        vertical-align: middle;\\n\",","       \"    }\\n\",","       \"\\n\",","       \"    .dataframe tbody tr th {\\n\",","       \"        vertical-align: top;\\n\",","       \"    }\\n\",","       \"\\n\",","       \"    .dataframe thead th {\\n\",","       \"        text-align: right;\\n\",","       \"    }\\n\",","       \"\u003c/style\u003e\\n\",","       \"\u003ctable border=\\\"1\\\" class=\\\"dataframe\\\"\u003e\\n\",","       \"  \u003cthead\u003e\\n\",","       \"    \u003ctr style=\\\"text-align: right;\\\"\u003e\\n\",","       \"      \u003cth\u003e\u003c/th\u003e\\n\",","       \"      \u003cth\u003eActual Value\u003c/th\u003e\\n\",","       \"      \u003cth\u003ePredicted Value\u003c/th\u003e\\n\",","       \"      \u003cth\u003eDifference\u003c/th\u003e\\n\",","       \"    \u003c/tr\u003e\\n\",","       \"  \u003c/thead\u003e\\n\",","       \"  \u003ctbody\u003e\\n\",","       \"    \u003ctr\u003e\\n\",","       \"      \u003cth\u003e521\u003c/th\u003e\\n\",","       \"      \u003ctd\u003e91\u003c/td\u003e\\n\",","       \"      \u003ctd\u003e76.507812\u003c/td\u003e\\n\",","       \"      \u003ctd\u003e14.492188\u003c/td\u003e\\n\",","       \"    \u003c/tr\u003e\\n\",","       \"    \u003ctr\u003e\\n\",","       \"      \u003cth\u003e737\u003c/th\u003e\\n\",","       \"      \u003ctd\u003e53\u003c/td\u003e\\n\",","       \"      \u003ctd\u003e58.953125\u003c/td\u003e\\n\",","       \"      \u003ctd\u003e-5.953125\u003c/td\u003e\\n\",","       \"    \u003c/tr\u003e\\n\",","       \"    \u003ctr\u003e\\n\",","       \"      \u003cth\u003e740\u003c/th\u003e\\n\",","       \"      \u003ctd\u003e80\u003c/td\u003e\\n\",","       \"      \u003ctd\u003e76.960938\u003c/td\u003e\\n\",","       \"      \u003ctd\u003e3.039062\u003c/td\u003e\\n\",","       \"    \u003c/tr\u003e\\n\",","       \"    \u003ctr\u003e\\n\",","       \"      \u003cth\u003e660\u003c/th\u003e\\n\",","       \"      \u003ctd\u003e74\u003c/td\u003e\\n\",","       \"      \u003ctd\u003e76.757812\u003c/td\u003e\\n\",","       \"      \u003ctd\u003e-2.757812\u003c/td\u003e\\n\",","       \"    \u003c/tr\u003e\\n\",","       \"    \u003ctr\u003e\\n\",","       \"      \u003cth\u003e411\u003c/th\u003e\\n\",","       \"      \u003ctd\u003e84\u003c/td\u003e\\n\",","       \"      \u003ctd\u003e87.539062\u003c/td\u003e\\n\",","       \"      \u003ctd\u003e-3.539062\u003c/td\u003e\\n\",","       \"    \u003c/tr\u003e\\n\",","       \"    \u003ctr\u003e\\n\",","       \"      \u003cth\u003e...\u003c/th\u003e\\n\",","       \"      \u003ctd\u003e...\u003c/td\u003e\\n\",","       \"      \u003ctd\u003e...\u003c/td\u003e\\n\",","       \"      \u003ctd\u003e...\u003c/td\u003e\\n\",","       \"    \u003c/tr\u003e\\n\",","       \"    \u003ctr\u003e\\n\",","       \"      \u003cth\u003e408\u003c/th\u003e\\n\",","       \"      \u003ctd\u003e52\u003c/td\u003e\\n\",","       \"      \u003ctd\u003e43.546875\u003c/td\u003e\\n\",","       \"      \u003ctd\u003e8.453125\u003c/td\u003e\\n\",","       \"    \u003c/tr\u003e\\n\",","       \"    \u003ctr\u003e\\n\",","       \"      \u003cth\u003e332\u003c/th\u003e\\n\",","       \"      \u003ctd\u003e62\u003c/td\u003e\\n\",","       \"      \u003ctd\u003e62.031250\u003c/td\u003e\\n\",","       \"      \u003ctd\u003e-0.031250\u003c/td\u003e\\n\",","       \"    \u003c/tr\u003e\\n\",","       \"    \u003ctr\u003e\\n\",","       \"      \u003cth\u003e208\u003c/th\u003e\\n\",","       \"      \u003ctd\u003e74\u003c/td\u003e\\n\",","       \"      \u003ctd\u003e67.976562\u003c/td\u003e\\n\",","       \"      \u003ctd\u003e6.023438\u003c/td\u003e\\n\",","       \"    \u003c/tr\u003e\\n\",","       \"    \u003ctr\u003e\\n\",","       \"      \u003cth\u003e613\u003c/th\u003e\\n\",","       \"      \u003ctd\u003e65\u003c/td\u003e\\n\",","       \"      \u003ctd\u003e67.132812\u003c/td\u003e\\n\",","       \"      \u003ctd\u003e-2.132812\u003c/td\u003e\\n\",","       \"    \u003c/tr\u003e\\n\",","       \"    \u003ctr\u003e\\n\",","       \"      \u003cth\u003e78\u003c/th\u003e\\n\",","       \"      \u003ctd\u003e61\u003c/td\u003e\\n\",","       \"      \u003ctd\u003e62.492188\u003c/td\u003e\\n\",","       \"      \u003ctd\u003e-1.492188\u003c/td\u003e\\n\",","       \"    \u003c/tr\u003e\\n\",","       \"  \u003c/tbody\u003e\\n\",","       \"\u003c/table\u003e\\n\",","       \"\u003cp\u003e200 rows × 3 columns\u003c/p\u003e\\n\",","       \"\u003c/div\u003e\"","      ],","      \"text/plain\": [","       \"     Actual Value  Predicted Value  Difference\\n\",","       \"521            91        76.507812   14.492188\\n\",","       \"737            53        58.953125   -5.953125\\n\",","       \"740            80        76.960938    3.039062\\n\",","       \"660            74        76.757812   -2.757812\\n\",","       \"411            84        87.539062   -3.539062\\n\",","       \"..            ...              ...         ...\\n\",","       \"408            52        43.546875    8.453125\\n\",","       \"332            62        62.031250   -0.031250\\n\",","       \"208            74        67.976562    6.023438\\n\",","       \"613            65        67.132812   -2.132812\\n\",","       \"78             61        62.492188   -1.492188\\n\",","       \"\\n\",","       \"[200 rows x 3 columns]\"","      ]","     },","     \"execution_count\": 28,","     \"metadata\": {},","     \"output_type\": \"execute_result\"","    }","   ],","   \"source\": [","    \"pred_df=pd.DataFrame({'Actual Value':y_test,'Predicted Value':y_pred,'Difference':y_test-y_pred})\\n\",","    \"pred_df\"","   ]","  },","  {","   \"cell_type\": \"code\",","   \"execution_count\": null,","   \"id\": \"3acf1fbc\",","   \"metadata\": {},","   \"outputs\": [],","   \"source\": []","  }"," ],"," \"metadata\": {","  \"kernelspec\": {","   \"display_name\": \"Python 3 (ipykernel)\",","   \"language\": \"python\",","   \"name\": \"python3\"","  },","  \"language_info\": {","   \"codemirror_mode\": {","    \"name\": \"ipython\",","    \"version\": 3","   },","   \"file_extension\": \".py\",","   \"mimetype\": \"text/x-python\",","   \"name\": \"python\",","   \"nbconvert_exporter\": \"python\",","   \"pygments_lexer\": \"ipython3\",","   \"version\": \"3.8.0\"","  }"," },"," \"nbformat\": 4,"," \"nbformat_minor\": 5","}"],"stylingDirectives":null,"csv":null,"csvError":null,"dependabotInfo":{"showConfigurationBanner":false,"configFilePath":null,"networkDependabotPath":"/krishnaik06/mlproject/network/updates","dismissConfigurationNoticePath":"/settings/dismiss-notice/dependabot_configuration_notice","configurationNoticeDismissed":false,"repoAlertsPath":"/krishnaik06/mlproject/security/dependabot","repoSecurityAndAnalysisPath":"/krishnaik06/mlproject/settings/security_analysis","repoOwnerIsOrg":false,"currentUserCanAdminRepo":false},"displayName":"2. MODEL TRAINING.ipynb","displayUrl":"https://notebooks.githubusercontent.com/view/ipynb?browser=chrome\u0026bypass_fastly=true\u0026color_mode=auto\u0026commit=b1e1d1422b390eadcccaf81e53d061ddb658c1bd\u0026device=unknown_device\u0026docs_host=https%3A%2F%2Fdocs.github.com\u0026enc_url=68747470733a2f2f7261772e67697468756275736572636f6e74656e742e636f6d2f6b726973686e61696b30362f6d6c70726f6a6563742f623165316431343232623339306561646363636166383165353364303631646462363538633162642f6e6f7465626f6f6b2f322e2532304d4f44454c253230545241494e494e472e6970796e62\u0026logged_in=true\u0026nwo=krishnaik06%2Fmlproject\u0026path=notebook%2F2.+MODEL+TRAINING.ipynb\u0026platform=windows\u0026repository_id=609735115\u0026repository_type=Repository\u0026version=115","headerInfo":{"blobSize":"93.9 KB","deleteInfo":{"deletePath":"https://github.com/krishnaik06/mlproject/delete/main/notebook/2.%20MODEL%20TRAINING.ipynb","deleteTooltip":"Fork this repository and delete the file"},"editInfo":{"editTooltip":"Fork this repository and edit the file"},"ghDesktopPath":"https://desktop.github.com","gitLfsPath":null,"onBranch":true,"shortPath":"c51ba3a","siteNavLoginPath":"/login?return_to=https%3A%2F%2Fgithub.com%2Fkrishnaik06%2Fmlproject%2Fblob%2Fmain%2Fnotebook%2F2.%2520MODEL%2520TRAINING.ipynb","isCSV":false,"isRichtext":false,"toc":null,"lineInfo":{"truncatedLoc":"1053","truncatedSloc":"1053"},"mode":"file"},"image":false,"isCodeownersFile":null,"isValidLegacyIssueTemplate":false,"issueTemplateHelpUrl":"https://docs.github.com/articles/about-issue-and-pull-request-templates","issueTemplate":null,"discussionTemplate":null,"language":"Jupyter Notebook","large":false,"loggedIn":true,"newDiscussionPath":"/krishnaik06/mlproject/discussions/new","newIssuePath":"/krishnaik06/mlproject/issues/new","planSupportInfo":{"repoIsFork":null,"repoOwnedByCurrentUser":null,"requestFullPath":"/krishnaik06/mlproject/blob/main/notebook/2.%20MODEL%20TRAINING.ipynb","showFreeOrgGatedFeatureMessage":null,"showPlanSupportBanner":null,"upgradeDataAttributes":null,"upgradePath":null},"publishBannersInfo":{"dismissActionNoticePath":"/settings/dismiss-notice/publish_action_from_dockerfile","dismissStackNoticePath":"/settings/dismiss-notice/publish_stack_from_file","releasePath":"/krishnaik06/mlproject/releases/new?marketplace=true","showPublishActionBanner":false,"showPublishStackBanner":false},"renderImageOrRaw":false,"richText":null,"renderedFileInfo":{"identityUUID":"cae1146d-7600-449d-98c1-d47a4fa3a284","renderFileType":"ipynb","size":96129},"tabSize":8,"topBannersInfo":{"overridingGlobalFundingFile":false,"globalPreferredFundingPath":null,"repoOwner":"krishnaik06","repoName":"mlproject","showInvalidCitationWarning":false,"citationHelpUrl":"https://docs.github.com/en/github/creating-cloning-and-archiving-repositories/creating-a-repository-on-github/about-citation-files","showDependabotConfigurationBanner":false,"actionsOnboardingTip":null},"truncated":false,"viewable":true,"workflowRedirectUrl":null,"symbols":{"timedOut":false,"notAnalyzed":true,"symbols":[]}},"copilotUserAccess":{"canModifyCopilotSettings":false,"canViewCopilotSettings":false,"accessAllowed":false,"hasCFIAccess":true,"hasSubscriptionEnded":false,"business":null},"csrf_tokens":{"/krishnaik06/mlproject/branches":{"post":"bhGdY61eHM49d5aW9ruw6U21-rhmJwa9I-a7E5YHINcZWk_AH4B-CzMcVF103pxK-LOKUHXxqYk-YQ6B4o-KIA"}}},"title":"mlproject/notebook/2. MODEL TRAINING.ipynb at main · krishnaik06/mlproject","locale":"en","appPayload":{"helpUrl":"https://docs.github.com","findFileWorkerPath":"/assets-cdn/worker/find-file-worker-848bb9a5da17.js","findInFileWorkerPath":"/assets-cdn/worker/find-in-file-worker-4b57095adfc5.js","githubDevUrl":"https://github.dev/","enabled_features":{"virtualize_file_tree":true,"react_repos_overview":false,"code_nav_ui_events":false,"ref_selector_v2":false,"codeview_codemirror_next_editors":false,"blob_firefox_separate_characters":true,"column_symbol_auto_select":true,"copilot_conversational_ux":false,"copilot_conversational_ux_symbols":false,"copilot_popover_file_editor_header":false}}}</script>
  <div data-target="react-app.reactRoot"></div>
</react-app>
</turbo-frame>



  </div>

</turbo-frame>

    </main>
  </div>

  </div>

          <footer class="footer width-full container-xl p-responsive" role="contentinfo">
  <h2 class='sr-only'>Footer</h2>

  <div class="position-relative d-flex flex-items-center pb-2 f6 color-fg-muted border-top color-border-muted flex-column-reverse flex-lg-row flex-wrap flex-lg-nowrap mt-6 pt-6">
    <div class="list-style-none d-flex flex-wrap col-0 col-lg-2 flex-justify-start flex-lg-justify-between mb-2 mb-lg-0">
      <div class="mt-2 mt-lg-0 d-flex flex-items-center">
        <a aria-label="Homepage" title="GitHub" class="footer-octicon mr-2" href="https://github.com">
          <svg aria-hidden="true" height="24" viewBox="0 0 16 16" version="1.1" width="24" data-view-component="true" class="octicon octicon-mark-github">
    <path d="M8 0c4.42 0 8 3.58 8 8a8.013 8.013 0 0 1-5.45 7.59c-.4.08-.55-.17-.55-.38 0-.27.01-1.13.01-2.2 0-.75-.25-1.23-.54-1.48 1.78-.2 3.65-.88 3.65-3.95 0-.88-.31-1.59-.82-2.15.08-.2.36-1.02-.08-2.12 0 0-.67-.22-2.2.82-.64-.18-1.32-.27-2-.27-.68 0-1.36.09-2 .27-1.53-1.03-2.2-.82-2.2-.82-.44 1.1-.16 1.92-.08 2.12-.51.56-.82 1.28-.82 2.15 0 3.06 1.86 3.75 3.64 3.95-.23.2-.44.55-.51 1.07-.46.21-1.61.55-2.33-.66-.15-.24-.6-.83-1.23-.82-.67.01-.27.38.01.53.34.19.73.9.82 1.13.16.45.68 1.31 2.69.94 0 .67.01 1.3.01 1.49 0 .21-.15.45-.55.38A7.995 7.995 0 0 1 0 8c0-4.42 3.58-8 8-8Z"></path>
</svg>
</a>        <span>
        &copy; 2023 GitHub, Inc.
        </span>
      </div>
    </div>

    <nav aria-label='Footer' class="col-12 col-lg-8">
      <h3 class='sr-only' id='sr-footer-heading'>Footer navigation</h3>
      <ul class="list-style-none d-flex flex-wrap col-12 flex-justify-center flex-lg-justify-between mb-2 mb-lg-0" aria-labelledby='sr-footer-heading'>
          <li class="mr-3 mr-lg-0"><a href="https://docs.github.com/site-policy/github-terms/github-terms-of-service" data-analytics-event="{&quot;category&quot;:&quot;Footer&quot;,&quot;action&quot;:&quot;go to terms&quot;,&quot;label&quot;:&quot;text:terms&quot;}">Terms</a></li>
          <li class="mr-3 mr-lg-0"><a href="https://docs.github.com/site-policy/privacy-policies/github-privacy-statement" data-analytics-event="{&quot;category&quot;:&quot;Footer&quot;,&quot;action&quot;:&quot;go to privacy&quot;,&quot;label&quot;:&quot;text:privacy&quot;}">Privacy</a></li>
          <li class="mr-3 mr-lg-0"><a data-analytics-event="{&quot;category&quot;:&quot;Footer&quot;,&quot;action&quot;:&quot;go to security&quot;,&quot;label&quot;:&quot;text:security&quot;}" href="https://github.com/security">Security</a></li>
          <li class="mr-3 mr-lg-0"><a href="https://www.githubstatus.com/" data-analytics-event="{&quot;category&quot;:&quot;Footer&quot;,&quot;action&quot;:&quot;go to status&quot;,&quot;label&quot;:&quot;text:status&quot;}">Status</a></li>
          <li class="mr-3 mr-lg-0"><a data-ga-click="Footer, go to help, text:Docs" href="https://docs.github.com">Docs</a></li>
          <li class="mr-3 mr-lg-0"><a href="https://support.github.com?tags=dotcom-footer" data-analytics-event="{&quot;category&quot;:&quot;Footer&quot;,&quot;action&quot;:&quot;go to contact&quot;,&quot;label&quot;:&quot;text:contact&quot;}">Contact GitHub</a></li>
          <li class="mr-3 mr-lg-0"><a href="https://github.com/pricing" data-analytics-event="{&quot;category&quot;:&quot;Footer&quot;,&quot;action&quot;:&quot;go to Pricing&quot;,&quot;label&quot;:&quot;text:Pricing&quot;}">Pricing</a></li>
        <li class="mr-3 mr-lg-0"><a href="https://docs.github.com" data-analytics-event="{&quot;category&quot;:&quot;Footer&quot;,&quot;action&quot;:&quot;go to api&quot;,&quot;label&quot;:&quot;text:api&quot;}">API</a></li>
        <li class="mr-3 mr-lg-0"><a href="https://services.github.com" data-analytics-event="{&quot;category&quot;:&quot;Footer&quot;,&quot;action&quot;:&quot;go to training&quot;,&quot;label&quot;:&quot;text:training&quot;}">Training</a></li>
          <li class="mr-3 mr-lg-0"><a href="https://github.blog" data-analytics-event="{&quot;category&quot;:&quot;Footer&quot;,&quot;action&quot;:&quot;go to blog&quot;,&quot;label&quot;:&quot;text:blog&quot;}">Blog</a></li>
          <li><a data-ga-click="Footer, go to about, text:about" href="https://github.com/about">About</a></li>
      </ul>
    </nav>
  </div>

  <div class="d-flex flex-justify-center pb-6">
    <span class="f6 color-fg-muted"></span>
  </div>
</footer>




  <div id="ajax-error-message" class="ajax-error-message flash flash-error" hidden>
    <svg aria-hidden="true" height="16" viewBox="0 0 16 16" version="1.1" width="16" data-view-component="true" class="octicon octicon-alert">
    <path d="M6.457 1.047c.659-1.234 2.427-1.234 3.086 0l6.082 11.378A1.75 1.75 0 0 1 14.082 15H1.918a1.75 1.75 0 0 1-1.543-2.575Zm1.763.707a.25.25 0 0 0-.44 0L1.698 13.132a.25.25 0 0 0 .22.368h12.164a.25.25 0 0 0 .22-.368Zm.53 3.996v2.5a.75.75 0 0 1-1.5 0v-2.5a.75.75 0 0 1 1.5 0ZM9 11a1 1 0 1 1-2 0 1 1 0 0 1 2 0Z"></path>
</svg>
    <button type="button" class="flash-close js-ajax-error-dismiss" aria-label="Dismiss error">
      <svg aria-hidden="true" height="16" viewBox="0 0 16 16" version="1.1" width="16" data-view-component="true" class="octicon octicon-x">
    <path d="M3.72 3.72a.75.75 0 0 1 1.06 0L8 6.94l3.22-3.22a.749.749 0 0 1 1.275.326.749.749 0 0 1-.215.734L9.06 8l3.22 3.22a.749.749 0 0 1-.326 1.275.749.749 0 0 1-.734-.215L8 9.06l-3.22 3.22a.751.751 0 0 1-1.042-.018.751.751 0 0 1-.018-1.042L6.94 8 3.72 4.78a.75.75 0 0 1 0-1.06Z"></path>
</svg>
    </button>
    You can’t perform that action at this time.
  </div>

    <template id="site-details-dialog">
  <details class="details-reset details-overlay details-overlay-dark lh-default color-fg-default hx_rsm" open>
    <summary role="button" aria-label="Close dialog"></summary>
    <details-dialog class="Box Box--overlay d-flex flex-column anim-fade-in fast hx_rsm-dialog hx_rsm-modal">
      <button class="Box-btn-octicon m-0 btn-octicon position-absolute right-0 top-0" type="button" aria-label="Close dialog" data-close-dialog>
        <svg aria-hidden="true" height="16" viewBox="0 0 16 16" version="1.1" width="16" data-view-component="true" class="octicon octicon-x">
    <path d="M3.72 3.72a.75.75 0 0 1 1.06 0L8 6.94l3.22-3.22a.749.749 0 0 1 1.275.326.749.749 0 0 1-.215.734L9.06 8l3.22 3.22a.749.749 0 0 1-.326 1.275.749.749 0 0 1-.734-.215L8 9.06l-3.22 3.22a.751.751 0 0 1-1.042-.018.751.751 0 0 1-.018-1.042L6.94 8 3.72 4.78a.75.75 0 0 1 0-1.06Z"></path>
</svg>
      </button>
      <div class="octocat-spinner my-6 js-details-dialog-spinner"></div>
    </details-dialog>
  </details>
</template>

    <div class="Popover js-hovercard-content position-absolute" style="display: none; outline: none;" tabindex="0">
  <div class="Popover-message Popover-message--bottom-left Popover-message--large Box color-shadow-large" style="width:360px;">
  </div>
</div>

    <template id="snippet-clipboard-copy-button">
  <div class="zeroclipboard-container position-absolute right-0 top-0">
    <clipboard-copy aria-label="Copy" class="ClipboardButton btn js-clipboard-copy m-2 p-0 tooltipped-no-delay" data-copy-feedback="Copied!" data-tooltip-direction="w">
      <svg aria-hidden="true" height="16" viewBox="0 0 16 16" version="1.1" width="16" data-view-component="true" class="octicon octicon-copy js-clipboard-copy-icon m-2">
    <path d="M0 6.75C0 5.784.784 5 1.75 5h1.5a.75.75 0 0 1 0 1.5h-1.5a.25.25 0 0 0-.25.25v7.5c0 .138.112.25.25.25h7.5a.25.25 0 0 0 .25-.25v-1.5a.75.75 0 0 1 1.5 0v1.5A1.75 1.75 0 0 1 9.25 16h-7.5A1.75 1.75 0 0 1 0 14.25Z"></path><path d="M5 1.75C5 .784 5.784 0 6.75 0h7.5C15.216 0 16 .784 16 1.75v7.5A1.75 1.75 0 0 1 14.25 11h-7.5A1.75 1.75 0 0 1 5 9.25Zm1.75-.25a.25.25 0 0 0-.25.25v7.5c0 .138.112.25.25.25h7.5a.25.25 0 0 0 .25-.25v-7.5a.25.25 0 0 0-.25-.25Z"></path>
</svg>
      <svg aria-hidden="true" height="16" viewBox="0 0 16 16" version="1.1" width="16" data-view-component="true" class="octicon octicon-check js-clipboard-check-icon color-fg-success d-none m-2">
    <path d="M13.78 4.22a.75.75 0 0 1 0 1.06l-7.25 7.25a.75.75 0 0 1-1.06 0L2.22 9.28a.751.751 0 0 1 .018-1.042.751.751 0 0 1 1.042-.018L6 10.94l6.72-6.72a.75.75 0 0 1 1.06 0Z"></path>
</svg>
    </clipboard-copy>
  </div>
</template>
<template id="snippet-clipboard-copy-button-unpositioned">
  <div class="zeroclipboard-container">
    <clipboard-copy aria-label="Copy" class="ClipboardButton btn btn-invisible js-clipboard-copy m-2 p-0 tooltipped-no-delay d-flex flex-justify-center flex-items-center" data-copy-feedback="Copied!" data-tooltip-direction="w">
      <svg aria-hidden="true" height="16" viewBox="0 0 16 16" version="1.1" width="16" data-view-component="true" class="octicon octicon-copy js-clipboard-copy-icon">
    <path d="M0 6.75C0 5.784.784 5 1.75 5h1.5a.75.75 0 0 1 0 1.5h-1.5a.25.25 0 0 0-.25.25v7.5c0 .138.112.25.25.25h7.5a.25.25 0 0 0 .25-.25v-1.5a.75.75 0 0 1 1.5 0v1.5A1.75 1.75 0 0 1 9.25 16h-7.5A1.75 1.75 0 0 1 0 14.25Z"></path><path d="M5 1.75C5 .784 5.784 0 6.75 0h7.5C15.216 0 16 .784 16 1.75v7.5A1.75 1.75 0 0 1 14.25 11h-7.5A1.75 1.75 0 0 1 5 9.25Zm1.75-.25a.25.25 0 0 0-.25.25v7.5c0 .138.112.25.25.25h7.5a.25.25 0 0 0 .25-.25v-7.5a.25.25 0 0 0-.25-.25Z"></path>
</svg>
      <svg aria-hidden="true" height="16" viewBox="0 0 16 16" version="1.1" width="16" data-view-component="true" class="octicon octicon-check js-clipboard-check-icon color-fg-success d-none">
    <path d="M13.78 4.22a.75.75 0 0 1 0 1.06l-7.25 7.25a.75.75 0 0 1-1.06 0L2.22 9.28a.751.751 0 0 1 .018-1.042.751.751 0 0 1 1.042-.018L6 10.94l6.72-6.72a.75.75 0 0 1 1.06 0Z"></path>
</svg>
    </clipboard-copy>
  </div>
</template>


    <style>
      .user-mention[href$="/ArunAsish111"] {
        color: var(--color-user-mention-fg);
        background-color: var(--color-user-mention-bg);
        border-radius: 2px;
        margin-left: -2px;
        margin-right: -2px;
        padding: 0 2px;
      }
    </style>


    </div>

    <div id="js-global-screen-reader-notice" class="sr-only" aria-live="polite" ></div>
  </body>
</html>



